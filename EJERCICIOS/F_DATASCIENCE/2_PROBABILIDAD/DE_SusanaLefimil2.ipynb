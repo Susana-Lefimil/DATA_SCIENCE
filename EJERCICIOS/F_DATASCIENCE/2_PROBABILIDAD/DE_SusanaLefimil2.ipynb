{
 "cells": [
  {
   "cell_type": "code",
   "execution_count": 622,
   "id": "aecc1cd7",
   "metadata": {},
   "outputs": [],
   "source": [
    "import pandas as pd\n",
    "import numpy as np"
   ]
  },
  {
   "cell_type": "code",
   "execution_count": 623,
   "id": "40fe3001",
   "metadata": {},
   "outputs": [],
   "source": [
    "df = pd.read_csv(\"worldcup2014.csv\")"
   ]
  },
  {
   "cell_type": "markdown",
   "id": "a81d74ed",
   "metadata": {},
   "source": [
    "Desafío 1: Generación de funciones<br>\n",
    "● Genere funciones para calcular la media y varianza de un vector. Debe cumplir con<br>\n",
    "los siguientes requisitos:<br>\n",
    "○ Ambas funciones deben ingresar un argumento x correspondiente al vector.<br>\n",
    "○ Las funciones deben contener docstrings con la documentación asociada a<br>\n",
    "la variable y retornar un valor utilizando return.<br>\n",
    "○ La función de la varianza se debe llamar a la función de la media.<br>\n",
    "● Utilice las funciones para reportar la información sobre goles_favor, goles_contra<br>\n",
    "y puntos.<br>"
   ]
  },
  {
   "cell_type": "code",
   "execution_count": 644,
   "id": "ec1fc0fd",
   "metadata": {},
   "outputs": [],
   "source": [
    "x=[8,7,8,20]\n"
   ]
  },
  {
   "cell_type": "code",
   "execution_count": 645,
   "id": "9ea2cae5",
   "metadata": {},
   "outputs": [],
   "source": [
    "def media(x):\n",
    "    \"\"\"Esta funcion calcula la media de un vector\"\"\"\n",
    "    sum=0\n",
    "    for i in x:\n",
    "        sum+=i\n",
    "    prom=sum/len(x)\n",
    "    return prom"
   ]
  },
  {
   "cell_type": "code",
   "execution_count": 646,
   "id": "248003c3",
   "metadata": {},
   "outputs": [
    {
     "data": {
      "text/plain": [
       "10.75"
      ]
     },
     "execution_count": 646,
     "metadata": {},
     "output_type": "execute_result"
    }
   ],
   "source": [
    "media(x)"
   ]
  },
  {
   "cell_type": "code",
   "execution_count": 647,
   "id": "0575994d",
   "metadata": {},
   "outputs": [],
   "source": [
    "def varianza(x):\n",
    "    \"\"\"Esta funcion calcula la media de un vector,\n",
    "         se utilizará la funcion media creada anteriormente\"\"\"\n",
    "    var=0\n",
    "    for i in x:\n",
    "        var+=(i-media(x))*(i-media(x))\n",
    "    var=var/len(x)\n",
    "    return var"
   ]
  },
  {
   "cell_type": "code",
   "execution_count": 648,
   "id": "b4b31bbf",
   "metadata": {},
   "outputs": [
    {
     "data": {
      "text/plain": [
       "28.6875"
      ]
     },
     "execution_count": 648,
     "metadata": {},
     "output_type": "execute_result"
    }
   ],
   "source": [
    "varianza(x)"
   ]
  },
  {
   "cell_type": "code",
   "execution_count": 649,
   "id": "0a6cec2f",
   "metadata": {},
   "outputs": [
    {
     "data": {
      "text/html": [
       "<div>\n",
       "<style scoped>\n",
       "    .dataframe tbody tr th:only-of-type {\n",
       "        vertical-align: middle;\n",
       "    }\n",
       "\n",
       "    .dataframe tbody tr th {\n",
       "        vertical-align: top;\n",
       "    }\n",
       "\n",
       "    .dataframe thead th {\n",
       "        text-align: right;\n",
       "    }\n",
       "</style>\n",
       "<table border=\"1\" class=\"dataframe\">\n",
       "  <thead>\n",
       "    <tr style=\"text-align: right;\">\n",
       "      <th></th>\n",
       "      <th>team</th>\n",
       "      <th>continent</th>\n",
       "      <th>group</th>\n",
       "      <th>group_pos</th>\n",
       "      <th>cantidad_juegos</th>\n",
       "      <th>juegos_ganados</th>\n",
       "      <th>juegos_empatados</th>\n",
       "      <th>juegos_perdidos</th>\n",
       "      <th>goles_favor</th>\n",
       "      <th>goles_contra</th>\n",
       "      <th>goles_diferencia</th>\n",
       "      <th>puntos</th>\n",
       "      <th>clasificado</th>\n",
       "    </tr>\n",
       "  </thead>\n",
       "  <tbody>\n",
       "    <tr>\n",
       "      <th>0</th>\n",
       "      <td>Brazil</td>\n",
       "      <td>southamerica</td>\n",
       "      <td>A</td>\n",
       "      <td>1</td>\n",
       "      <td>3</td>\n",
       "      <td>2</td>\n",
       "      <td>1</td>\n",
       "      <td>0</td>\n",
       "      <td>7</td>\n",
       "      <td>2</td>\n",
       "      <td>5</td>\n",
       "      <td>7</td>\n",
       "      <td>1</td>\n",
       "    </tr>\n",
       "    <tr>\n",
       "      <th>1</th>\n",
       "      <td>Mexico</td>\n",
       "      <td>northamerica</td>\n",
       "      <td>A</td>\n",
       "      <td>2</td>\n",
       "      <td>3</td>\n",
       "      <td>2</td>\n",
       "      <td>1</td>\n",
       "      <td>0</td>\n",
       "      <td>4</td>\n",
       "      <td>1</td>\n",
       "      <td>3</td>\n",
       "      <td>7</td>\n",
       "      <td>1</td>\n",
       "    </tr>\n",
       "    <tr>\n",
       "      <th>2</th>\n",
       "      <td>Croatia</td>\n",
       "      <td>europe</td>\n",
       "      <td>A</td>\n",
       "      <td>3</td>\n",
       "      <td>3</td>\n",
       "      <td>1</td>\n",
       "      <td>0</td>\n",
       "      <td>2</td>\n",
       "      <td>6</td>\n",
       "      <td>6</td>\n",
       "      <td>0</td>\n",
       "      <td>3</td>\n",
       "      <td>0</td>\n",
       "    </tr>\n",
       "    <tr>\n",
       "      <th>3</th>\n",
       "      <td>Cameroon</td>\n",
       "      <td>africa</td>\n",
       "      <td>A</td>\n",
       "      <td>4</td>\n",
       "      <td>3</td>\n",
       "      <td>0</td>\n",
       "      <td>0</td>\n",
       "      <td>3</td>\n",
       "      <td>1</td>\n",
       "      <td>9</td>\n",
       "      <td>−8</td>\n",
       "      <td>0</td>\n",
       "      <td>0</td>\n",
       "    </tr>\n",
       "    <tr>\n",
       "      <th>4</th>\n",
       "      <td>Netherlands</td>\n",
       "      <td>europe</td>\n",
       "      <td>B</td>\n",
       "      <td>1</td>\n",
       "      <td>3</td>\n",
       "      <td>3</td>\n",
       "      <td>0</td>\n",
       "      <td>0</td>\n",
       "      <td>10</td>\n",
       "      <td>3</td>\n",
       "      <td>7</td>\n",
       "      <td>9</td>\n",
       "      <td>1</td>\n",
       "    </tr>\n",
       "  </tbody>\n",
       "</table>\n",
       "</div>"
      ],
      "text/plain": [
       "          team     continent group  group_pos  cantidad_juegos  \\\n",
       "0       Brazil  southamerica     A          1                3   \n",
       "1       Mexico  northamerica     A          2                3   \n",
       "2      Croatia        europe     A          3                3   \n",
       "3     Cameroon        africa     A          4                3   \n",
       "4  Netherlands        europe     B          1                3   \n",
       "\n",
       "   juegos_ganados  juegos_empatados  juegos_perdidos  goles_favor  \\\n",
       "0               2                 1                0            7   \n",
       "1               2                 1                0            4   \n",
       "2               1                 0                2            6   \n",
       "3               0                 0                3            1   \n",
       "4               3                 0                0           10   \n",
       "\n",
       "   goles_contra goles_diferencia  puntos  clasificado  \n",
       "0             2                5       7            1  \n",
       "1             1                3       7            1  \n",
       "2             6                0       3            0  \n",
       "3             9               −8       0            0  \n",
       "4             3                7       9            1  "
      ]
     },
     "execution_count": 649,
     "metadata": {},
     "output_type": "execute_result"
    }
   ],
   "source": [
    "df.head()"
   ]
  },
  {
   "cell_type": "code",
   "execution_count": 650,
   "id": "d3a1f6c3",
   "metadata": {},
   "outputs": [],
   "source": [
    "continentes_n=df['continent'].value_counts().index.values"
   ]
  },
  {
   "cell_type": "code",
   "execution_count": 651,
   "id": "9644f835",
   "metadata": {},
   "outputs": [],
   "source": [
    "continentes={}\n",
    "for continente in continentes_n:\n",
    "    continentes[continente]=df[df['continent'] ==continente]"
   ]
  },
  {
   "cell_type": "code",
   "execution_count": 652,
   "id": "2b66db55",
   "metadata": {},
   "outputs": [
    {
     "name": "stdout",
     "output_type": "stream",
     "text": [
      "Media de goles a favor por continente: \n",
      "europe : 4.769230769230769\n",
      "southamerica : 5.666666666666667\n",
      "africa : 3.6\n",
      "northamerica : 3.25\n",
      "asia : 2.25\n"
     ]
    }
   ],
   "source": [
    "goles_f={}\n",
    "for continente in continentes:\n",
    "    df_continente=continentes[continente]\n",
    "    goles_f[continente]=media(df_continente['goles_favor'])\n",
    "print(f'Media de goles a favor por continente: ')\n",
    "for i in goles_f:\n",
    "    print(i,':', goles_f[i])"
   ]
  },
  {
   "cell_type": "code",
   "execution_count": 653,
   "id": "248f2a10",
   "metadata": {},
   "outputs": [
    {
     "name": "stdout",
     "output_type": "stream",
     "text": [
      "Varianza de goles a favor por continente: \n",
      "europe : 6.331360946745561\n",
      "southamerica : 3.888888888888889\n",
      "africa : 2.64\n",
      "northamerica : 1.6875\n",
      "asia : 0.6875\n"
     ]
    }
   ],
   "source": [
    "goles_f_v={}\n",
    "for continente in continentes:\n",
    "    df_continente=continentes[continente]\n",
    "    goles_f_v[continente]=varianza(df_continente['goles_favor'])\n",
    "print(f'Varianza de goles a favor por continente: ')\n",
    "for i in goles_f_v:\n",
    "    print(i,':', goles_f_v[i])"
   ]
  },
  {
   "cell_type": "code",
   "execution_count": 681,
   "id": "bceae2b4",
   "metadata": {},
   "outputs": [
    {
     "data": {
      "text/plain": [
       "6.331360946745561"
      ]
     },
     "execution_count": 681,
     "metadata": {},
     "output_type": "execute_result"
    }
   ],
   "source": [
    "np.var(df[df['continent']=='europe']['goles_favor'])"
   ]
  },
  {
   "cell_type": "code",
   "execution_count": 654,
   "id": "981a7421",
   "metadata": {},
   "outputs": [
    {
     "name": "stdout",
     "output_type": "stream",
     "text": [
      "Media de goles en contra por continente: \n",
      "europe : 4.0\n",
      "southamerica : 2.8333333333333335\n",
      "africa : 5.6\n",
      "northamerica : 3.5\n",
      "asia : 6.25\n"
     ]
    }
   ],
   "source": [
    "goles_c={}\n",
    "for continente in continentes:\n",
    "    df_continente=continentes[continente]\n",
    "   \n",
    "    goles_c[continente]=media(df_continente['goles_contra'])\n",
    "print(f'Media de goles en contra por continente: ')\n",
    "for i in goles_c:\n",
    "    print(i,':', goles_c[i])"
   ]
  },
  {
   "cell_type": "code",
   "execution_count": 655,
   "id": "cb7044e3",
   "metadata": {},
   "outputs": [
    {
     "name": "stdout",
     "output_type": "stream",
     "text": [
      "Media de goles en contra por continente: \n",
      "europe : 3.5384615384615383\n",
      "southamerica : 0.47222222222222215\n",
      "africa : 3.84\n",
      "northamerica : 8.25\n",
      "asia : 3.1875\n"
     ]
    }
   ],
   "source": [
    "goles_c_v={}\n",
    "for continente in continentes:\n",
    "    df_continente=continentes[continente]\n",
    "    goles_c_v[continente]=varianza(df_continente['goles_contra'])\n",
    "print(f'Media de goles en contra por continente: ')\n",
    "for i in goles_c_v:\n",
    "    print(i,':', goles_c_v[i])"
   ]
  },
  {
   "cell_type": "code",
   "execution_count": 680,
   "id": "8532a1ec",
   "metadata": {},
   "outputs": [
    {
     "data": {
      "text/plain": [
       "3.1875"
      ]
     },
     "execution_count": 680,
     "metadata": {},
     "output_type": "execute_result"
    }
   ],
   "source": [
    "#np.var(df[df['continent']=='asia']['goles_contra'])"
   ]
  },
  {
   "cell_type": "code",
   "execution_count": 656,
   "id": "34498988",
   "metadata": {},
   "outputs": [
    {
     "name": "stdout",
     "output_type": "stream",
     "text": [
      "Media de puntos por continente: \n",
      "europe : 4.6923076923076925\n",
      "southamerica : 6.833333333333333\n",
      "africa : 2.4\n",
      "northamerica : 4.5\n",
      "asia : 0.75\n"
     ]
    }
   ],
   "source": [
    "puntos_m={}\n",
    "for continente in continentes:\n",
    "    df_continente=continentes[continente]\n",
    "    puntos_m[continente]=media(df_continente['puntos'])\n",
    "print(f'Media de puntos por continente: ')\n",
    "for i in puntos_m:\n",
    "    print(i,':', puntos_m[i])"
   ]
  },
  {
   "cell_type": "code",
   "execution_count": 657,
   "id": "124dfd89",
   "metadata": {},
   "outputs": [
    {
     "name": "stdout",
     "output_type": "stream",
     "text": [
      "Varianza de puntos por continente: \n",
      "europe : 6.366863905325444\n",
      "southamerica : 3.1388888888888893\n",
      "africa : 2.6399999999999997\n",
      "northamerica : 8.25\n",
      "asia : 0.1875\n"
     ]
    }
   ],
   "source": [
    "puntos_v={}\n",
    "for continente in continentes:\n",
    "    df_continente=continentes[continente]\n",
    "    puntos_v[continente]=varianza(df_continente['puntos'])\n",
    "print(f'Varianza de puntos por continente: ')\n",
    "for i in puntos_m:\n",
    "    print(i,':', puntos_v[i])"
   ]
  },
  {
   "cell_type": "code",
   "execution_count": 678,
   "id": "09ff9cc7",
   "metadata": {},
   "outputs": [
    {
     "data": {
      "text/plain": [
       "2.4"
      ]
     },
     "execution_count": 678,
     "metadata": {},
     "output_type": "execute_result"
    }
   ],
   "source": [
    "#np.mean(df[df['continent']=='africa']['puntos'])"
   ]
  },
  {
   "cell_type": "markdown",
   "id": "c83b9e0d",
   "metadata": {},
   "source": [
    "Desafío 2:<br>\n",
    "Utilizando el método groupby de la clase DataFrame, en conjunto con la función .agg de<br>\n",
    "pandas, calcule la media, la varianza y desviación estándar de la cantidad de goles a favor,<br>\n",
    "en contra y de la cantidad de puntos por continente.<br>\n",
    "● ¿En qué continente se observa una mayor cantidad de goles a favor?<br>\n",
    "● ¿En qué continente se observa una mayor cantidad de goles en contra?<br>\n",
    "● ¿En qué continente se observa una mayor cantidad de puntos en promedio?<br>\n"
   ]
  },
  {
   "cell_type": "code",
   "execution_count": 642,
   "id": "d396646f",
   "metadata": {},
   "outputs": [],
   "source": [
    "b =  df.groupby('continent').agg({'goles_favor':['mean','var','std'],'goles_contra':['mean','var','std'], 'puntos':['mean','var','std']})"
   ]
  },
  {
   "cell_type": "code",
   "execution_count": 643,
   "id": "be7e2bd7",
   "metadata": {},
   "outputs": [
    {
     "data": {
      "text/html": [
       "<div>\n",
       "<style scoped>\n",
       "    .dataframe tbody tr th:only-of-type {\n",
       "        vertical-align: middle;\n",
       "    }\n",
       "\n",
       "    .dataframe tbody tr th {\n",
       "        vertical-align: top;\n",
       "    }\n",
       "\n",
       "    .dataframe thead tr th {\n",
       "        text-align: left;\n",
       "    }\n",
       "\n",
       "    .dataframe thead tr:last-of-type th {\n",
       "        text-align: right;\n",
       "    }\n",
       "</style>\n",
       "<table border=\"1\" class=\"dataframe\">\n",
       "  <thead>\n",
       "    <tr>\n",
       "      <th></th>\n",
       "      <th colspan=\"3\" halign=\"left\">goles_favor</th>\n",
       "      <th colspan=\"3\" halign=\"left\">goles_contra</th>\n",
       "      <th colspan=\"3\" halign=\"left\">puntos</th>\n",
       "    </tr>\n",
       "    <tr>\n",
       "      <th></th>\n",
       "      <th>mean</th>\n",
       "      <th>var</th>\n",
       "      <th>std</th>\n",
       "      <th>mean</th>\n",
       "      <th>var</th>\n",
       "      <th>std</th>\n",
       "      <th>mean</th>\n",
       "      <th>var</th>\n",
       "      <th>std</th>\n",
       "    </tr>\n",
       "    <tr>\n",
       "      <th>continent</th>\n",
       "      <th></th>\n",
       "      <th></th>\n",
       "      <th></th>\n",
       "      <th></th>\n",
       "      <th></th>\n",
       "      <th></th>\n",
       "      <th></th>\n",
       "      <th></th>\n",
       "      <th></th>\n",
       "    </tr>\n",
       "  </thead>\n",
       "  <tbody>\n",
       "    <tr>\n",
       "      <th>africa</th>\n",
       "      <td>3.600000</td>\n",
       "      <td>3.300000</td>\n",
       "      <td>1.816590</td>\n",
       "      <td>5.600000</td>\n",
       "      <td>4.800000</td>\n",
       "      <td>2.190890</td>\n",
       "      <td>2.400000</td>\n",
       "      <td>3.300000</td>\n",
       "      <td>1.816590</td>\n",
       "    </tr>\n",
       "    <tr>\n",
       "      <th>asia</th>\n",
       "      <td>2.250000</td>\n",
       "      <td>0.916667</td>\n",
       "      <td>0.957427</td>\n",
       "      <td>6.250000</td>\n",
       "      <td>4.250000</td>\n",
       "      <td>2.061553</td>\n",
       "      <td>0.750000</td>\n",
       "      <td>0.250000</td>\n",
       "      <td>0.500000</td>\n",
       "    </tr>\n",
       "    <tr>\n",
       "      <th>europe</th>\n",
       "      <td>4.769231</td>\n",
       "      <td>6.858974</td>\n",
       "      <td>2.618964</td>\n",
       "      <td>4.000000</td>\n",
       "      <td>3.833333</td>\n",
       "      <td>1.957890</td>\n",
       "      <td>4.692308</td>\n",
       "      <td>6.897436</td>\n",
       "      <td>2.626297</td>\n",
       "    </tr>\n",
       "    <tr>\n",
       "      <th>northamerica</th>\n",
       "      <td>3.250000</td>\n",
       "      <td>2.250000</td>\n",
       "      <td>1.500000</td>\n",
       "      <td>3.500000</td>\n",
       "      <td>11.000000</td>\n",
       "      <td>3.316625</td>\n",
       "      <td>4.500000</td>\n",
       "      <td>11.000000</td>\n",
       "      <td>3.316625</td>\n",
       "    </tr>\n",
       "    <tr>\n",
       "      <th>southamerica</th>\n",
       "      <td>5.666667</td>\n",
       "      <td>4.666667</td>\n",
       "      <td>2.160247</td>\n",
       "      <td>2.833333</td>\n",
       "      <td>0.566667</td>\n",
       "      <td>0.752773</td>\n",
       "      <td>6.833333</td>\n",
       "      <td>3.766667</td>\n",
       "      <td>1.940790</td>\n",
       "    </tr>\n",
       "  </tbody>\n",
       "</table>\n",
       "</div>"
      ],
      "text/plain": [
       "             goles_favor                     goles_contra             \\\n",
       "                    mean       var       std         mean        var   \n",
       "continent                                                              \n",
       "africa          3.600000  3.300000  1.816590     5.600000   4.800000   \n",
       "asia            2.250000  0.916667  0.957427     6.250000   4.250000   \n",
       "europe          4.769231  6.858974  2.618964     4.000000   3.833333   \n",
       "northamerica    3.250000  2.250000  1.500000     3.500000  11.000000   \n",
       "southamerica    5.666667  4.666667  2.160247     2.833333   0.566667   \n",
       "\n",
       "                          puntos                       \n",
       "                   std      mean        var       std  \n",
       "continent                                              \n",
       "africa        2.190890  2.400000   3.300000  1.816590  \n",
       "asia          2.061553  0.750000   0.250000  0.500000  \n",
       "europe        1.957890  4.692308   6.897436  2.626297  \n",
       "northamerica  3.316625  4.500000  11.000000  3.316625  \n",
       "southamerica  0.752773  6.833333   3.766667  1.940790  "
      ]
     },
     "execution_count": 643,
     "metadata": {},
     "output_type": "execute_result"
    }
   ],
   "source": [
    "b"
   ]
  },
  {
   "cell_type": "markdown",
   "id": "3937df00",
   "metadata": {},
   "source": [
    "Se observa una mayor cantidad de goles a favor en 'southamerica', aunque 'europa' también tiene un valor alto<br>\n",
    "su desviación y varianza es muy alta, por lo tant, 'southamerica' es probablemente el continente con más goles a favor.<br>\n",
    "La mayor cantidad de goles en contra en 'asia' <br>\n",
    "y la mayor cantidad de puntos en 'southamerica'"
   ]
  },
  {
   "cell_type": "markdown",
   "id": "fe4ae965",
   "metadata": {},
   "source": [
    "Desafío 3: Simulaciones<br>\n",
    "● Genere una función generate_pet que devuelva de forma aleatoria un string<br>\n",
    "'perro' o 'gato' un número n de veces. Ejecútela un par de veces.<br>\n",
    "Tip: Puede utilizar la función np.random.choice para retornar elementos al azar.<br>\n",
    "● Aplique la función generate_pet para generar 20 muestras.<br>\n",
    "● ¿Cuál es la probabilidad de elegir un perro al azar? ¿Y un gato?<br>\n",
    "● Agregue np.random.seed(2) al inicio del chunk. ¿Qué diferencia hay cuando se<br>\n",
    "ejecuta la función varias veces luego de fijar la semilla?<br>"
   ]
  },
  {
   "cell_type": "code",
   "execution_count": 700,
   "id": "8a07049a",
   "metadata": {},
   "outputs": [],
   "source": [
    "def generate_pet(x):\n",
    "    lista=[]\n",
    "    for i in range(x):\n",
    "        lista.append(np.random.choice(['perro','gato']))\n",
    "    return lista"
   ]
  },
  {
   "cell_type": "code",
   "execution_count": 683,
   "id": "b44132db",
   "metadata": {},
   "outputs": [],
   "source": [
    "#20 al azar"
   ]
  },
  {
   "cell_type": "code",
   "execution_count": 684,
   "id": "72b0f6b6",
   "metadata": {},
   "outputs": [
    {
     "data": {
      "text/plain": [
       "['perro',\n",
       " 'gato',\n",
       " 'perro',\n",
       " 'perro',\n",
       " 'perro',\n",
       " 'gato',\n",
       " 'perro',\n",
       " 'perro',\n",
       " 'gato',\n",
       " 'perro',\n",
       " 'perro',\n",
       " 'perro',\n",
       " 'gato',\n",
       " 'perro',\n",
       " 'perro',\n",
       " 'perro',\n",
       " 'gato',\n",
       " 'gato',\n",
       " 'gato',\n",
       " 'gato']"
      ]
     },
     "execution_count": 684,
     "metadata": {},
     "output_type": "execute_result"
    }
   ],
   "source": [
    "generate_pet(20)"
   ]
  },
  {
   "cell_type": "code",
   "execution_count": 685,
   "id": "ec565141",
   "metadata": {},
   "outputs": [],
   "source": [
    "#probabilidad de perro o gato"
   ]
  },
  {
   "cell_type": "code",
   "execution_count": 686,
   "id": "5af71dc5",
   "metadata": {},
   "outputs": [],
   "source": [
    "x=100"
   ]
  },
  {
   "cell_type": "code",
   "execution_count": 696,
   "id": "ff7402cc",
   "metadata": {},
   "outputs": [
    {
     "name": "stdout",
     "output_type": "stream",
     "text": [
      "La probabilidad de elegir un perro es de;  0.53 %\n",
      "La probabilidad de elegir un gato es de;  0.47 %\n"
     ]
    }
   ],
   "source": [
    "count=generate_pet(x)\n",
    "\n",
    "p_perro=(count.count('perro'))\n",
    "print(f'La probabilidad de elegir un perro es de; ', p_perro/x,\"%\")\n",
    "p_gato=(count.count('gato'))\n",
    "print(f'La probabilidad de elegir un gato es de; ', p_gato/x,\"%\")"
   ]
  },
  {
   "cell_type": "code",
   "execution_count": 166,
   "id": "c3747ffa",
   "metadata": {},
   "outputs": [],
   "source": [
    "# Agregue np.random.seed(2) al inicio del chunk"
   ]
  },
  {
   "cell_type": "code",
   "execution_count": 697,
   "id": "8397ebe3",
   "metadata": {},
   "outputs": [
    {
     "data": {
      "text/plain": [
       "['perro',\n",
       " 'gato',\n",
       " 'gato',\n",
       " 'perro',\n",
       " 'perro',\n",
       " 'gato',\n",
       " 'perro',\n",
       " 'gato',\n",
       " 'perro',\n",
       " 'gato',\n",
       " 'perro',\n",
       " 'gato',\n",
       " 'gato',\n",
       " 'gato',\n",
       " 'gato',\n",
       " 'gato',\n",
       " 'gato',\n",
       " 'gato',\n",
       " 'perro',\n",
       " 'perro']"
      ]
     },
     "execution_count": 697,
     "metadata": {},
     "output_type": "execute_result"
    }
   ],
   "source": [
    "np.random.seed(2)\n",
    "generate_pet(20)"
   ]
  },
  {
   "cell_type": "markdown",
   "id": "5667f932",
   "metadata": {},
   "source": [
    "No cambia en nada significativo, seed permite personalizar el número de inicio del generador de números aleatorios<br>\n"
   ]
  },
  {
   "cell_type": "markdown",
   "id": "c2118bef",
   "metadata": {},
   "source": [
    "Desafío 4: Función simuladora<br>\n",
    "● Genere una función llamada simulate_pets_prob que tome como argumento un<br>\n",
    "número finito de simulaciones a generar.<br>\n",
    "● La función debe simular dos situaciones young_pet y old_pet, y contar la<br>\n",
    "ocurrencia de los siguientes casos:<br>\n",
    "○ De las dos mascotas simuladas (young y old), contar las ocasiones donde<br>\n",
    "por lo menos una de las mascotas sea un perro.<br>\n",
    "○ De las dos mascotas simuladas, contar las ocasiones donde old_pet sea un<br>\n",
    "perro.<br>\n",
    "○ De las dos mascotas simuladas, contar las ocasiones donde los dos sean<br>\n",
    "perros.<br>\n",
    "● El método debe tener una semilla pseudoaleatoria de 1.<br>\n",
    "● El output de la función debe entregarse en términos de Probabilidad.<br>\n",
    "● De los tres escenarios, ¿Cuál es el menos probable? ¿Cuál es el más probable? ¿Porqué?"
   ]
  },
  {
   "cell_type": "code",
   "execution_count": 698,
   "id": "2a23412e",
   "metadata": {},
   "outputs": [],
   "source": [
    "np.random.seed(1)\n",
    "def simulate_pests_prob(n):\n",
    "    pet=['young_pet','old_pet']\n",
    "    lista1=generate_pet(n)\n",
    "    lista2=generate_pet(n)\n",
    "    df = pd.DataFrame(list(zip(lista1, lista2)), \n",
    "                   columns =['young_pet','old_pet']) \n",
    "\n",
    "    p='perro'\n",
    "    #young_pet que son perros\n",
    "    df['perro_y']=(df['young_pet'].str.find(p)+1)\n",
    "    #old_pet que son perros\n",
    "    df['perro_o']=(df['old_pet'].str.find(p)+1)\n",
    "    #suma de old_pet y young_pet\n",
    "    df['ambos_perros']=df['perro_y']+df['perro_o']\n",
    "    #si al menos uno es perro se cuenta como 1, de lo contratio 0\n",
    "    df['1_al_menos']=np.where(df['ambos_perros']>=1,1,0)\n",
    "    #se corrige ambos_perros, todos los valores 2 cambian a 1 y lo demás a 0 (así se cuenta cuando ambos son perros)\n",
    "    df['ambos_perros']=np.where(df['ambos_perros']>=2,1,0)\n",
    "    \n",
    "    #Se calcula la probabilidad según los datos donde al menos old o young pet fue perro divido por las simulaciones totales(n)\n",
    "    print(f'La probabilidad donde por lo menos una de las mascotas sea un perro es: ', sum(df['1_al_menos'])/len(df['1_al_menos']),\"%\")\n",
    "    #Se calcula la probabilidad según los datos donde old_pet fue perro dividido por simulaciones totales(n)\n",
    "    print(f'La probabilidad donde old_pet sea un perro: ', sum(df['perro_o'])/len(df['perro_o']),\"%\")\n",
    "    \n",
    "    #Se calcula la probabilidad según los datos en que ambos fueron perros divido por simulaciones totales(n)\n",
    "    print(f'La probabilidad donde los dos son perros: ', sum(df['ambos_perros'])/len(df['ambos_perros']),\"%\")\n",
    "    \n",
    "    \n",
    "    return df[['young_pet','old_pet']]\n"
   ]
  },
  {
   "cell_type": "code",
   "execution_count": 699,
   "id": "6a54191d",
   "metadata": {},
   "outputs": [
    {
     "name": "stdout",
     "output_type": "stream",
     "text": [
      "La probabilidad donde por lo menos una de las mascotas sea un perro es:  0.625 %\n",
      "La probabilidad donde old_pet sea un perro:  0.5 %\n",
      "La probabilidad donde los dos son perros:  0.125 %\n"
     ]
    },
    {
     "data": {
      "text/html": [
       "<div>\n",
       "<style scoped>\n",
       "    .dataframe tbody tr th:only-of-type {\n",
       "        vertical-align: middle;\n",
       "    }\n",
       "\n",
       "    .dataframe tbody tr th {\n",
       "        vertical-align: top;\n",
       "    }\n",
       "\n",
       "    .dataframe thead th {\n",
       "        text-align: right;\n",
       "    }\n",
       "</style>\n",
       "<table border=\"1\" class=\"dataframe\">\n",
       "  <thead>\n",
       "    <tr style=\"text-align: right;\">\n",
       "      <th></th>\n",
       "      <th>young_pet</th>\n",
       "      <th>old_pet</th>\n",
       "    </tr>\n",
       "  </thead>\n",
       "  <tbody>\n",
       "    <tr>\n",
       "      <th>0</th>\n",
       "      <td>gato</td>\n",
       "      <td>gato</td>\n",
       "    </tr>\n",
       "    <tr>\n",
       "      <th>1</th>\n",
       "      <td>gato</td>\n",
       "      <td>perro</td>\n",
       "    </tr>\n",
       "    <tr>\n",
       "      <th>2</th>\n",
       "      <td>perro</td>\n",
       "      <td>perro</td>\n",
       "    </tr>\n",
       "    <tr>\n",
       "      <th>3</th>\n",
       "      <td>perro</td>\n",
       "      <td>gato</td>\n",
       "    </tr>\n",
       "    <tr>\n",
       "      <th>4</th>\n",
       "      <td>gato</td>\n",
       "      <td>perro</td>\n",
       "    </tr>\n",
       "    <tr>\n",
       "      <th>5</th>\n",
       "      <td>gato</td>\n",
       "      <td>gato</td>\n",
       "    </tr>\n",
       "    <tr>\n",
       "      <th>6</th>\n",
       "      <td>gato</td>\n",
       "      <td>gato</td>\n",
       "    </tr>\n",
       "    <tr>\n",
       "      <th>7</th>\n",
       "      <td>gato</td>\n",
       "      <td>perro</td>\n",
       "    </tr>\n",
       "  </tbody>\n",
       "</table>\n",
       "</div>"
      ],
      "text/plain": [
       "  young_pet old_pet\n",
       "0      gato    gato\n",
       "1      gato   perro\n",
       "2     perro   perro\n",
       "3     perro    gato\n",
       "4      gato   perro\n",
       "5      gato    gato\n",
       "6      gato    gato\n",
       "7      gato   perro"
      ]
     },
     "execution_count": 699,
     "metadata": {},
     "output_type": "execute_result"
    }
   ],
   "source": [
    "simulate_pests_prob(8)"
   ]
  },
  {
   "cell_type": "markdown",
   "id": "8171555c",
   "metadata": {},
   "source": [
    "Menos probable: el caso en que ambos sean perros <br>\n",
    "Más probable: el caso donde al menos uno sea perro <br>\n",
    "El primer caso es menos probable, ya que, se deben cumplir dos condiciones. El segundo es más probable <br>\n",
    "debido a que se debe cumplir al menos una vez la condición en 2 eventos distintos, lo cual aumenta las probabilidades. "
   ]
  },
  {
   "cell_type": "markdown",
   "id": "76fd2b28",
   "metadata": {},
   "source": []
  },
  {
   "cell_type": "code",
   "execution_count": null,
   "id": "c62f31e6",
   "metadata": {},
   "outputs": [],
   "source": []
  }
 ],
 "metadata": {
  "kernelspec": {
   "display_name": "Python 3 (ipykernel)",
   "language": "python",
   "name": "python3"
  },
  "language_info": {
   "codemirror_mode": {
    "name": "ipython",
    "version": 3
   },
   "file_extension": ".py",
   "mimetype": "text/x-python",
   "name": "python",
   "nbconvert_exporter": "python",
   "pygments_lexer": "ipython3",
   "version": "3.9.7"
  }
 },
 "nbformat": 4,
 "nbformat_minor": 5
}
