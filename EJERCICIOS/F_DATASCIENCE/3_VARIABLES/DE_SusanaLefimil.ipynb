{
 "cells": [
  {
   "cell_type": "code",
   "execution_count": 1,
   "id": "50445b18",
   "metadata": {},
   "outputs": [],
   "source": [
    "import numpy as np\n",
    "import pandas as pd\n",
    "import matplotlib.pyplot as plt\n",
    "np.random.seed(0)"
   ]
  },
  {
   "cell_type": "code",
   "execution_count": 2,
   "id": "34a24327",
   "metadata": {},
   "outputs": [],
   "source": [
    "#1. Importar un csv: Importe el set de datos creados por usted al final de la\n",
    "#sesión pasada."
   ]
  },
  {
   "cell_type": "code",
   "execution_count": 3,
   "id": "912900f3",
   "metadata": {},
   "outputs": [],
   "source": [
    "df = pd.read_csv('subsample_SLR_demo.csv')"
   ]
  },
  {
   "cell_type": "code",
   "execution_count": 4,
   "id": "5d8b1e9e",
   "metadata": {},
   "outputs": [
    {
     "data": {
      "text/html": [
       "<div>\n",
       "<style scoped>\n",
       "    .dataframe tbody tr th:only-of-type {\n",
       "        vertical-align: middle;\n",
       "    }\n",
       "\n",
       "    .dataframe tbody tr th {\n",
       "        vertical-align: top;\n",
       "    }\n",
       "\n",
       "    .dataframe thead th {\n",
       "        text-align: right;\n",
       "    }\n",
       "</style>\n",
       "<table border=\"1\" class=\"dataframe\">\n",
       "  <thead>\n",
       "    <tr style=\"text-align: right;\">\n",
       "      <th></th>\n",
       "      <th>undp_hdi</th>\n",
       "      <th>ccodealp</th>\n",
       "      <th>ht_region</th>\n",
       "      <th>gle_cgdpc</th>\n",
       "      <th>imf_pop</th>\n",
       "      <th>ffp_hf</th>\n",
       "      <th>wef_qes</th>\n",
       "      <th>wdi_expedu</th>\n",
       "      <th>wdi_ners</th>\n",
       "    </tr>\n",
       "  </thead>\n",
       "  <tbody>\n",
       "    <tr>\n",
       "      <th>0</th>\n",
       "      <td>0.421</td>\n",
       "      <td>GNB</td>\n",
       "      <td>SubSaharian</td>\n",
       "      <td>961.26001</td>\n",
       "      <td>NaN</td>\n",
       "      <td>8.5</td>\n",
       "      <td>NaN</td>\n",
       "      <td>2.17313</td>\n",
       "      <td>NaN</td>\n",
       "    </tr>\n",
       "    <tr>\n",
       "      <th>1</th>\n",
       "      <td>0.882</td>\n",
       "      <td>ESP</td>\n",
       "      <td>WesternDem</td>\n",
       "      <td>31086.35000</td>\n",
       "      <td>46.455002</td>\n",
       "      <td>2.4</td>\n",
       "      <td>3.441691</td>\n",
       "      <td>4.27093</td>\n",
       "      <td>96.458618</td>\n",
       "    </tr>\n",
       "    <tr>\n",
       "      <th>2</th>\n",
       "      <td>0.514</td>\n",
       "      <td>SLB</td>\n",
       "      <td>Pacific</td>\n",
       "      <td>2113.06010</td>\n",
       "      <td>0.562000</td>\n",
       "      <td>6.3</td>\n",
       "      <td>NaN</td>\n",
       "      <td>NaN</td>\n",
       "      <td>NaN</td>\n",
       "    </tr>\n",
       "    <tr>\n",
       "      <th>3</th>\n",
       "      <td>0.671</td>\n",
       "      <td>BOL</td>\n",
       "      <td>LatAm</td>\n",
       "      <td>4023.87010</td>\n",
       "      <td>10.078000</td>\n",
       "      <td>6.4</td>\n",
       "      <td>3.348756</td>\n",
       "      <td>7.28546</td>\n",
       "      <td>76.535461</td>\n",
       "    </tr>\n",
       "    <tr>\n",
       "      <th>4</th>\n",
       "      <td>0.678</td>\n",
       "      <td>VNM</td>\n",
       "      <td>SouthEastAsia</td>\n",
       "      <td>4147.56980</td>\n",
       "      <td>89.691002</td>\n",
       "      <td>5.6</td>\n",
       "      <td>3.336011</td>\n",
       "      <td>5.65873</td>\n",
       "      <td>NaN</td>\n",
       "    </tr>\n",
       "  </tbody>\n",
       "</table>\n",
       "</div>"
      ],
      "text/plain": [
       "   undp_hdi ccodealp      ht_region    gle_cgdpc    imf_pop  ffp_hf   wef_qes  \\\n",
       "0     0.421      GNB    SubSaharian    961.26001        NaN     8.5       NaN   \n",
       "1     0.882      ESP     WesternDem  31086.35000  46.455002     2.4  3.441691   \n",
       "2     0.514      SLB        Pacific   2113.06010   0.562000     6.3       NaN   \n",
       "3     0.671      BOL          LatAm   4023.87010  10.078000     6.4  3.348756   \n",
       "4     0.678      VNM  SouthEastAsia   4147.56980  89.691002     5.6  3.336011   \n",
       "\n",
       "   wdi_expedu   wdi_ners  \n",
       "0     2.17313        NaN  \n",
       "1     4.27093  96.458618  \n",
       "2         NaN        NaN  \n",
       "3     7.28546  76.535461  \n",
       "4     5.65873        NaN  "
      ]
     },
     "execution_count": 4,
     "metadata": {},
     "output_type": "execute_result"
    }
   ],
   "source": [
    "df.head()"
   ]
  },
  {
   "cell_type": "code",
   "execution_count": 5,
   "id": "74be966c",
   "metadata": {},
   "outputs": [],
   "source": [
    "#2.Importar su conjunto de funciones. Para ello deberás:"
   ]
  },
  {
   "cell_type": "code",
   "execution_count": 6,
   "id": "7d4c575b",
   "metadata": {},
   "outputs": [],
   "source": [
    "#Generar un archivo ancilliary_funcs.py para guardar las funciones creadas\n",
    "#en la sesión pasada e importe"
   ]
  },
  {
   "cell_type": "code",
   "execution_count": 6,
   "id": "648c34b8",
   "metadata": {},
   "outputs": [],
   "source": [
    "from ancilliary_funcs import*"
   ]
  },
  {
   "cell_type": "code",
   "execution_count": 7,
   "id": "7713cda2",
   "metadata": {},
   "outputs": [
    {
     "name": "stdout",
     "output_type": "stream",
     "text": [
      "Observaciones perdidas para la columna 'undp_hdi': {'casos perdidos': 6, 'porcentaje': 0.062}\n",
      "Observaciones perdidas para la columna 'ccodealp': {'casos perdidos': 0, 'porcentaje': 0}\n",
      "Observaciones perdidas para la columna 'ht_region': {'casos perdidos': 0, 'porcentaje': 0}\n",
      "Observaciones perdidas para la columna 'gle_cgdpc': {'casos perdidos': 1, 'porcentaje': 0.01}\n",
      "Observaciones perdidas para la columna 'imf_pop': {'casos perdidos': 28, 'porcentaje': 0.289}\n",
      "Observaciones perdidas para la columna 'ffp_hf': {'casos perdidos': 10, 'porcentaje': 0.103}\n",
      "Observaciones perdidas para la columna 'wef_qes': {'casos perdidos': 21, 'porcentaje': 0.216}\n",
      "Observaciones perdidas para la columna 'wdi_expedu': {'casos perdidos': 28, 'porcentaje': 0.289}\n",
      "Observaciones perdidas para la columna 'wdi_ners': {'casos perdidos': 31, 'porcentaje': 0.32}\n"
     ]
    }
   ],
   "source": [
    "for i in df:\n",
    "    print(f\"Observaciones perdidas para la columna '{i}': {obs_perdidas(df, str(i), semilla=7912)}\")"
   ]
  },
  {
   "cell_type": "markdown",
   "id": "3360bf95",
   "metadata": {},
   "source": [
    "3. Estimar el puntaje Z de una variable: Se debe utilizar la que posea la\n",
    "menor cantidad de datos perdidos (o que no posea). \"variables ccodealp y  ht_region no tienen na, pero son cualitativas, la variable gle_cgdpc es la que menos na tiene y es cuantitativa (El PIB per cápita)\"\n",
    "\n",
    "𝑧𝑖 = ( 𝑥𝑖 − 𝑥 ) / σ (𝑥)\n"
   ]
  },
  {
   "cell_type": "code",
   "execution_count": 8,
   "id": "8e86b731",
   "metadata": {},
   "outputs": [],
   "source": [
    "#borrar na de variable gle_cgdcp"
   ]
  },
  {
   "cell_type": "code",
   "execution_count": 10,
   "id": "5cbdbdb4",
   "metadata": {},
   "outputs": [],
   "source": [
    "df_sna=df.dropna(subset=['gle_cgdpc'])"
   ]
  },
  {
   "cell_type": "code",
   "execution_count": 11,
   "id": "a82b850f",
   "metadata": {},
   "outputs": [],
   "source": [
    "#df['gle_cgdpc'].mean()"
   ]
  },
  {
   "cell_type": "code",
   "execution_count": 12,
   "id": "9a62623c",
   "metadata": {},
   "outputs": [],
   "source": [
    "#df['gle_cgdpc'].std()"
   ]
  },
  {
   "cell_type": "code",
   "execution_count": 11,
   "id": "5d9532d3",
   "metadata": {},
   "outputs": [
    {
     "name": "stderr",
     "output_type": "stream",
     "text": [
      "C:\\Users\\Susana\\AppData\\Local\\Temp/ipykernel_13716/3103546730.py:1: SettingWithCopyWarning: \n",
      "A value is trying to be set on a copy of a slice from a DataFrame.\n",
      "Try using .loc[row_indexer,col_indexer] = value instead\n",
      "\n",
      "See the caveats in the documentation: https://pandas.pydata.org/pandas-docs/stable/user_guide/indexing.html#returning-a-view-versus-a-copy\n",
      "  df_sna['puntaje_z']=(df_sna['gle_cgdpc']-df_sna['gle_cgdpc'].mean())/df_sna['gle_cgdpc'].std()\n"
     ]
    }
   ],
   "source": [
    "df_sna['puntaje_z']=(df_sna['gle_cgdpc']-df_sna['gle_cgdpc'].mean())/df_sna['gle_cgdpc'].std()"
   ]
  },
  {
   "cell_type": "code",
   "execution_count": 12,
   "id": "bf9a8478",
   "metadata": {},
   "outputs": [
    {
     "data": {
      "text/html": [
       "<div>\n",
       "<style scoped>\n",
       "    .dataframe tbody tr th:only-of-type {\n",
       "        vertical-align: middle;\n",
       "    }\n",
       "\n",
       "    .dataframe tbody tr th {\n",
       "        vertical-align: top;\n",
       "    }\n",
       "\n",
       "    .dataframe thead th {\n",
       "        text-align: right;\n",
       "    }\n",
       "</style>\n",
       "<table border=\"1\" class=\"dataframe\">\n",
       "  <thead>\n",
       "    <tr style=\"text-align: right;\">\n",
       "      <th></th>\n",
       "      <th>undp_hdi</th>\n",
       "      <th>ccodealp</th>\n",
       "      <th>ht_region</th>\n",
       "      <th>gle_cgdpc</th>\n",
       "      <th>imf_pop</th>\n",
       "      <th>ffp_hf</th>\n",
       "      <th>wef_qes</th>\n",
       "      <th>wdi_expedu</th>\n",
       "      <th>wdi_ners</th>\n",
       "      <th>puntaje_z</th>\n",
       "    </tr>\n",
       "  </thead>\n",
       "  <tbody>\n",
       "    <tr>\n",
       "      <th>0</th>\n",
       "      <td>0.421</td>\n",
       "      <td>GNB</td>\n",
       "      <td>SubSaharian</td>\n",
       "      <td>961.26001</td>\n",
       "      <td>NaN</td>\n",
       "      <td>8.5</td>\n",
       "      <td>NaN</td>\n",
       "      <td>2.17313</td>\n",
       "      <td>NaN</td>\n",
       "      <td>-0.646234</td>\n",
       "    </tr>\n",
       "    <tr>\n",
       "      <th>1</th>\n",
       "      <td>0.882</td>\n",
       "      <td>ESP</td>\n",
       "      <td>WesternDem</td>\n",
       "      <td>31086.35000</td>\n",
       "      <td>46.455002</td>\n",
       "      <td>2.4</td>\n",
       "      <td>3.441691</td>\n",
       "      <td>4.27093</td>\n",
       "      <td>96.458618</td>\n",
       "      <td>0.743397</td>\n",
       "    </tr>\n",
       "    <tr>\n",
       "      <th>2</th>\n",
       "      <td>0.514</td>\n",
       "      <td>SLB</td>\n",
       "      <td>Pacific</td>\n",
       "      <td>2113.06010</td>\n",
       "      <td>0.562000</td>\n",
       "      <td>6.3</td>\n",
       "      <td>NaN</td>\n",
       "      <td>NaN</td>\n",
       "      <td>NaN</td>\n",
       "      <td>-0.593103</td>\n",
       "    </tr>\n",
       "    <tr>\n",
       "      <th>3</th>\n",
       "      <td>0.671</td>\n",
       "      <td>BOL</td>\n",
       "      <td>LatAm</td>\n",
       "      <td>4023.87010</td>\n",
       "      <td>10.078000</td>\n",
       "      <td>6.4</td>\n",
       "      <td>3.348756</td>\n",
       "      <td>7.28546</td>\n",
       "      <td>76.535461</td>\n",
       "      <td>-0.504960</td>\n",
       "    </tr>\n",
       "    <tr>\n",
       "      <th>4</th>\n",
       "      <td>0.678</td>\n",
       "      <td>VNM</td>\n",
       "      <td>SouthEastAsia</td>\n",
       "      <td>4147.56980</td>\n",
       "      <td>89.691002</td>\n",
       "      <td>5.6</td>\n",
       "      <td>3.336011</td>\n",
       "      <td>5.65873</td>\n",
       "      <td>NaN</td>\n",
       "      <td>-0.499254</td>\n",
       "    </tr>\n",
       "  </tbody>\n",
       "</table>\n",
       "</div>"
      ],
      "text/plain": [
       "   undp_hdi ccodealp      ht_region    gle_cgdpc    imf_pop  ffp_hf   wef_qes  \\\n",
       "0     0.421      GNB    SubSaharian    961.26001        NaN     8.5       NaN   \n",
       "1     0.882      ESP     WesternDem  31086.35000  46.455002     2.4  3.441691   \n",
       "2     0.514      SLB        Pacific   2113.06010   0.562000     6.3       NaN   \n",
       "3     0.671      BOL          LatAm   4023.87010  10.078000     6.4  3.348756   \n",
       "4     0.678      VNM  SouthEastAsia   4147.56980  89.691002     5.6  3.336011   \n",
       "\n",
       "   wdi_expedu   wdi_ners  puntaje_z  \n",
       "0     2.17313        NaN  -0.646234  \n",
       "1     4.27093  96.458618   0.743397  \n",
       "2         NaN        NaN  -0.593103  \n",
       "3     7.28546  76.535461  -0.504960  \n",
       "4     5.65873        NaN  -0.499254  "
      ]
     },
     "execution_count": 12,
     "metadata": {},
     "output_type": "execute_result"
    }
   ],
   "source": [
    "df_sna.head()"
   ]
  },
  {
   "cell_type": "code",
   "execution_count": 13,
   "id": "14d73b82",
   "metadata": {},
   "outputs": [
    {
     "name": "stderr",
     "output_type": "stream",
     "text": [
      "C:\\Users\\Susana\\anaconda3\\lib\\site-packages\\pandas\\util\\_decorators.py:311: SettingWithCopyWarning: \n",
      "A value is trying to be set on a copy of a slice from a DataFrame\n",
      "\n",
      "See the caveats in the documentation: https://pandas.pydata.org/pandas-docs/stable/user_guide/indexing.html#returning-a-view-versus-a-copy\n",
      "  return func(*args, **kwargs)\n"
     ]
    }
   ],
   "source": [
    "df_sna.sort_values(by=['puntaje_z'], inplace=True)"
   ]
  },
  {
   "cell_type": "code",
   "execution_count": 14,
   "id": "5143807a",
   "metadata": {},
   "outputs": [
    {
     "data": {
      "text/html": [
       "<div>\n",
       "<style scoped>\n",
       "    .dataframe tbody tr th:only-of-type {\n",
       "        vertical-align: middle;\n",
       "    }\n",
       "\n",
       "    .dataframe tbody tr th {\n",
       "        vertical-align: top;\n",
       "    }\n",
       "\n",
       "    .dataframe thead th {\n",
       "        text-align: right;\n",
       "    }\n",
       "</style>\n",
       "<table border=\"1\" class=\"dataframe\">\n",
       "  <thead>\n",
       "    <tr style=\"text-align: right;\">\n",
       "      <th></th>\n",
       "      <th>undp_hdi</th>\n",
       "      <th>ccodealp</th>\n",
       "      <th>ht_region</th>\n",
       "      <th>gle_cgdpc</th>\n",
       "      <th>imf_pop</th>\n",
       "      <th>ffp_hf</th>\n",
       "      <th>wef_qes</th>\n",
       "      <th>wdi_expedu</th>\n",
       "      <th>wdi_ners</th>\n",
       "      <th>puntaje_z</th>\n",
       "    </tr>\n",
       "  </thead>\n",
       "  <tbody>\n",
       "    <tr>\n",
       "      <th>20</th>\n",
       "      <td>0.425</td>\n",
       "      <td>COD</td>\n",
       "      <td>SubSaharian</td>\n",
       "      <td>324.16000</td>\n",
       "      <td>NaN</td>\n",
       "      <td>7.1</td>\n",
       "      <td>2.957447</td>\n",
       "      <td>2.24535</td>\n",
       "      <td>NaN</td>\n",
       "      <td>-0.675623</td>\n",
       "    </tr>\n",
       "    <tr>\n",
       "      <th>8</th>\n",
       "      <td>0.427</td>\n",
       "      <td>LBR</td>\n",
       "      <td>SubSaharian</td>\n",
       "      <td>488.26999</td>\n",
       "      <td>NaN</td>\n",
       "      <td>6.6</td>\n",
       "      <td>3.472222</td>\n",
       "      <td>2.75756</td>\n",
       "      <td>NaN</td>\n",
       "      <td>-0.668053</td>\n",
       "    </tr>\n",
       "    <tr>\n",
       "      <th>16</th>\n",
       "      <td>0.441</td>\n",
       "      <td>ETH</td>\n",
       "      <td>SubSaharian</td>\n",
       "      <td>900.77002</td>\n",
       "      <td>88.347</td>\n",
       "      <td>7.0</td>\n",
       "      <td>3.599252</td>\n",
       "      <td>4.50051</td>\n",
       "      <td>30.274250</td>\n",
       "      <td>-0.649025</td>\n",
       "    </tr>\n",
       "    <tr>\n",
       "      <th>61</th>\n",
       "      <td>0.473</td>\n",
       "      <td>MWI</td>\n",
       "      <td>SubSaharian</td>\n",
       "      <td>938.34998</td>\n",
       "      <td>17.604</td>\n",
       "      <td>8.1</td>\n",
       "      <td>3.185532</td>\n",
       "      <td>4.84254</td>\n",
       "      <td>32.942291</td>\n",
       "      <td>-0.647291</td>\n",
       "    </tr>\n",
       "    <tr>\n",
       "      <th>0</th>\n",
       "      <td>0.421</td>\n",
       "      <td>GNB</td>\n",
       "      <td>SubSaharian</td>\n",
       "      <td>961.26001</td>\n",
       "      <td>NaN</td>\n",
       "      <td>8.5</td>\n",
       "      <td>NaN</td>\n",
       "      <td>2.17313</td>\n",
       "      <td>NaN</td>\n",
       "      <td>-0.646234</td>\n",
       "    </tr>\n",
       "    <tr>\n",
       "      <th>53</th>\n",
       "      <td>0.498</td>\n",
       "      <td>COM</td>\n",
       "      <td>SubSaharian</td>\n",
       "      <td>972.35999</td>\n",
       "      <td>0.776</td>\n",
       "      <td>7.8</td>\n",
       "      <td>NaN</td>\n",
       "      <td>4.86862</td>\n",
       "      <td>43.934471</td>\n",
       "      <td>-0.645722</td>\n",
       "    </tr>\n",
       "    <tr>\n",
       "      <th>55</th>\n",
       "      <td>0.414</td>\n",
       "      <td>GIN</td>\n",
       "      <td>SubSaharian</td>\n",
       "      <td>993.83002</td>\n",
       "      <td>11.745</td>\n",
       "      <td>7.2</td>\n",
       "      <td>2.425785</td>\n",
       "      <td>3.20817</td>\n",
       "      <td>31.788179</td>\n",
       "      <td>-0.644732</td>\n",
       "    </tr>\n",
       "    <tr>\n",
       "      <th>7</th>\n",
       "      <td>0.418</td>\n",
       "      <td>ERI</td>\n",
       "      <td>SubSaharian</td>\n",
       "      <td>1007.28000</td>\n",
       "      <td>NaN</td>\n",
       "      <td>7.6</td>\n",
       "      <td>NaN</td>\n",
       "      <td>NaN</td>\n",
       "      <td>28.415560</td>\n",
       "      <td>-0.644111</td>\n",
       "    </tr>\n",
       "    <tr>\n",
       "      <th>49</th>\n",
       "      <td>0.490</td>\n",
       "      <td>HTI</td>\n",
       "      <td>LatAm</td>\n",
       "      <td>1024.93990</td>\n",
       "      <td>NaN</td>\n",
       "      <td>9.3</td>\n",
       "      <td>2.325877</td>\n",
       "      <td>NaN</td>\n",
       "      <td>NaN</td>\n",
       "      <td>-0.643297</td>\n",
       "    </tr>\n",
       "    <tr>\n",
       "      <th>5</th>\n",
       "      <td>0.484</td>\n",
       "      <td>TGO</td>\n",
       "      <td>SubSaharian</td>\n",
       "      <td>1036.28000</td>\n",
       "      <td>6.929</td>\n",
       "      <td>7.3</td>\n",
       "      <td>NaN</td>\n",
       "      <td>4.86846</td>\n",
       "      <td>NaN</td>\n",
       "      <td>-0.642774</td>\n",
       "    </tr>\n",
       "  </tbody>\n",
       "</table>\n",
       "</div>"
      ],
      "text/plain": [
       "    undp_hdi ccodealp    ht_region   gle_cgdpc  imf_pop  ffp_hf   wef_qes  \\\n",
       "20     0.425      COD  SubSaharian   324.16000      NaN     7.1  2.957447   \n",
       "8      0.427      LBR  SubSaharian   488.26999      NaN     6.6  3.472222   \n",
       "16     0.441      ETH  SubSaharian   900.77002   88.347     7.0  3.599252   \n",
       "61     0.473      MWI  SubSaharian   938.34998   17.604     8.1  3.185532   \n",
       "0      0.421      GNB  SubSaharian   961.26001      NaN     8.5       NaN   \n",
       "53     0.498      COM  SubSaharian   972.35999    0.776     7.8       NaN   \n",
       "55     0.414      GIN  SubSaharian   993.83002   11.745     7.2  2.425785   \n",
       "7      0.418      ERI  SubSaharian  1007.28000      NaN     7.6       NaN   \n",
       "49     0.490      HTI        LatAm  1024.93990      NaN     9.3  2.325877   \n",
       "5      0.484      TGO  SubSaharian  1036.28000    6.929     7.3       NaN   \n",
       "\n",
       "    wdi_expedu   wdi_ners  puntaje_z  \n",
       "20     2.24535        NaN  -0.675623  \n",
       "8      2.75756        NaN  -0.668053  \n",
       "16     4.50051  30.274250  -0.649025  \n",
       "61     4.84254  32.942291  -0.647291  \n",
       "0      2.17313        NaN  -0.646234  \n",
       "53     4.86862  43.934471  -0.645722  \n",
       "55     3.20817  31.788179  -0.644732  \n",
       "7          NaN  28.415560  -0.644111  \n",
       "49         NaN        NaN  -0.643297  \n",
       "5      4.86846        NaN  -0.642774  "
      ]
     },
     "execution_count": 14,
     "metadata": {},
     "output_type": "execute_result"
    }
   ],
   "source": [
    "df_sna.head(10)"
   ]
  },
  {
   "cell_type": "code",
   "execution_count": 15,
   "id": "2ffa6303",
   "metadata": {},
   "outputs": [
    {
     "data": {
      "text/html": [
       "<div>\n",
       "<style scoped>\n",
       "    .dataframe tbody tr th:only-of-type {\n",
       "        vertical-align: middle;\n",
       "    }\n",
       "\n",
       "    .dataframe tbody tr th {\n",
       "        vertical-align: top;\n",
       "    }\n",
       "\n",
       "    .dataframe thead th {\n",
       "        text-align: right;\n",
       "    }\n",
       "</style>\n",
       "<table border=\"1\" class=\"dataframe\">\n",
       "  <thead>\n",
       "    <tr style=\"text-align: right;\">\n",
       "      <th></th>\n",
       "      <th>undp_hdi</th>\n",
       "      <th>ccodealp</th>\n",
       "      <th>ht_region</th>\n",
       "      <th>gle_cgdpc</th>\n",
       "      <th>imf_pop</th>\n",
       "      <th>ffp_hf</th>\n",
       "      <th>wef_qes</th>\n",
       "      <th>wdi_expedu</th>\n",
       "      <th>wdi_ners</th>\n",
       "      <th>puntaje_z</th>\n",
       "    </tr>\n",
       "  </thead>\n",
       "  <tbody>\n",
       "    <tr>\n",
       "      <th>35</th>\n",
       "      <td>0.892</td>\n",
       "      <td>AUT</td>\n",
       "      <td>WesternDem</td>\n",
       "      <td>38868.039</td>\n",
       "      <td>8.544</td>\n",
       "      <td>1.5</td>\n",
       "      <td>4.492075</td>\n",
       "      <td>5.49955</td>\n",
       "      <td>NaN</td>\n",
       "      <td>1.102356</td>\n",
       "    </tr>\n",
       "    <tr>\n",
       "      <th>29</th>\n",
       "      <td>0.923</td>\n",
       "      <td>NLD</td>\n",
       "      <td>WesternDem</td>\n",
       "      <td>42258.352</td>\n",
       "      <td>16.865</td>\n",
       "      <td>2.6</td>\n",
       "      <td>5.304531</td>\n",
       "      <td>5.52938</td>\n",
       "      <td>93.882019</td>\n",
       "      <td>1.258747</td>\n",
       "    </tr>\n",
       "    <tr>\n",
       "      <th>93</th>\n",
       "      <td>NaN</td>\n",
       "      <td>SMR</td>\n",
       "      <td>WesternDem</td>\n",
       "      <td>42664.211</td>\n",
       "      <td>0.034</td>\n",
       "      <td>NaN</td>\n",
       "      <td>NaN</td>\n",
       "      <td>2.38373</td>\n",
       "      <td>NaN</td>\n",
       "      <td>1.277469</td>\n",
       "    </tr>\n",
       "    <tr>\n",
       "      <th>40</th>\n",
       "      <td>0.864</td>\n",
       "      <td>BRN</td>\n",
       "      <td>SouthEastAsia</td>\n",
       "      <td>46103.840</td>\n",
       "      <td>0.412</td>\n",
       "      <td>4.6</td>\n",
       "      <td>4.417221</td>\n",
       "      <td>3.35319</td>\n",
       "      <td>87.032318</td>\n",
       "      <td>1.436135</td>\n",
       "    </tr>\n",
       "    <tr>\n",
       "      <th>77</th>\n",
       "      <td>0.948</td>\n",
       "      <td>NOR</td>\n",
       "      <td>WesternDem</td>\n",
       "      <td>57634.770</td>\n",
       "      <td>5.156</td>\n",
       "      <td>1.6</td>\n",
       "      <td>5.048264</td>\n",
       "      <td>7.37329</td>\n",
       "      <td>95.201927</td>\n",
       "      <td>1.968042</td>\n",
       "    </tr>\n",
       "    <tr>\n",
       "      <th>94</th>\n",
       "      <td>0.896</td>\n",
       "      <td>LUX</td>\n",
       "      <td>WesternDem</td>\n",
       "      <td>61404.480</td>\n",
       "      <td>0.550</td>\n",
       "      <td>2.1</td>\n",
       "      <td>4.580255</td>\n",
       "      <td>4.08388</td>\n",
       "      <td>84.603470</td>\n",
       "      <td>2.141933</td>\n",
       "    </tr>\n",
       "    <tr>\n",
       "      <th>76</th>\n",
       "      <td>0.799</td>\n",
       "      <td>KWT</td>\n",
       "      <td>NorthAfrica</td>\n",
       "      <td>64342.711</td>\n",
       "      <td>3.999</td>\n",
       "      <td>3.1</td>\n",
       "      <td>3.075769</td>\n",
       "      <td>NaN</td>\n",
       "      <td>83.578850</td>\n",
       "      <td>2.277470</td>\n",
       "    </tr>\n",
       "    <tr>\n",
       "      <th>22</th>\n",
       "      <td>0.911</td>\n",
       "      <td>LIE</td>\n",
       "      <td>WesternDem</td>\n",
       "      <td>102243.520</td>\n",
       "      <td>NaN</td>\n",
       "      <td>NaN</td>\n",
       "      <td>NaN</td>\n",
       "      <td>2.55604</td>\n",
       "      <td>91.538719</td>\n",
       "      <td>4.025786</td>\n",
       "    </tr>\n",
       "    <tr>\n",
       "      <th>91</th>\n",
       "      <td>0.855</td>\n",
       "      <td>QAT</td>\n",
       "      <td>NorthAfrica</td>\n",
       "      <td>104049.440</td>\n",
       "      <td>2.045</td>\n",
       "      <td>3.1</td>\n",
       "      <td>5.820522</td>\n",
       "      <td>3.60719</td>\n",
       "      <td>72.464622</td>\n",
       "      <td>4.109090</td>\n",
       "    </tr>\n",
       "    <tr>\n",
       "      <th>90</th>\n",
       "      <td>NaN</td>\n",
       "      <td>MCO</td>\n",
       "      <td>WesternDem</td>\n",
       "      <td>108481.130</td>\n",
       "      <td>NaN</td>\n",
       "      <td>NaN</td>\n",
       "      <td>NaN</td>\n",
       "      <td>1.02195</td>\n",
       "      <td>NaN</td>\n",
       "      <td>4.313519</td>\n",
       "    </tr>\n",
       "  </tbody>\n",
       "</table>\n",
       "</div>"
      ],
      "text/plain": [
       "    undp_hdi ccodealp      ht_region   gle_cgdpc  imf_pop  ffp_hf   wef_qes  \\\n",
       "35     0.892      AUT     WesternDem   38868.039    8.544     1.5  4.492075   \n",
       "29     0.923      NLD     WesternDem   42258.352   16.865     2.6  5.304531   \n",
       "93       NaN      SMR     WesternDem   42664.211    0.034     NaN       NaN   \n",
       "40     0.864      BRN  SouthEastAsia   46103.840    0.412     4.6  4.417221   \n",
       "77     0.948      NOR     WesternDem   57634.770    5.156     1.6  5.048264   \n",
       "94     0.896      LUX     WesternDem   61404.480    0.550     2.1  4.580255   \n",
       "76     0.799      KWT    NorthAfrica   64342.711    3.999     3.1  3.075769   \n",
       "22     0.911      LIE     WesternDem  102243.520      NaN     NaN       NaN   \n",
       "91     0.855      QAT    NorthAfrica  104049.440    2.045     3.1  5.820522   \n",
       "90       NaN      MCO     WesternDem  108481.130      NaN     NaN       NaN   \n",
       "\n",
       "    wdi_expedu   wdi_ners  puntaje_z  \n",
       "35     5.49955        NaN   1.102356  \n",
       "29     5.52938  93.882019   1.258747  \n",
       "93     2.38373        NaN   1.277469  \n",
       "40     3.35319  87.032318   1.436135  \n",
       "77     7.37329  95.201927   1.968042  \n",
       "94     4.08388  84.603470   2.141933  \n",
       "76         NaN  83.578850   2.277470  \n",
       "22     2.55604  91.538719   4.025786  \n",
       "91     3.60719  72.464622   4.109090  \n",
       "90     1.02195        NaN   4.313519  "
      ]
     },
     "execution_count": 15,
     "metadata": {},
     "output_type": "execute_result"
    }
   ],
   "source": [
    "df_sna.tail(10)"
   ]
  },
  {
   "cell_type": "code",
   "execution_count": 18,
   "id": "ccf94859",
   "metadata": {},
   "outputs": [],
   "source": [
    "#al ordenar puntaje_z de observarán extremos de puntaje z en los 10 primeros y 10 últimos. Puntaje z permite comparar\n",
    "#la importancia de las desviaciones estandar con respecto a la media, es decir que tan desviado está la observación con \n",
    "#respecto a las demás observaciones de la variable"
   ]
  },
  {
   "cell_type": "markdown",
   "id": "fe9d2b6a",
   "metadata": {},
   "source": [
    "4. Estimar el puntaje z de las regiones. Utilizando el resultado anterior,\n",
    "visualice su nueva variable estandarizada (es decir, luego de calcular el puntaje Z)."
   ]
  },
  {
   "cell_type": "code",
   "execution_count": 16,
   "id": "a7add9fc",
   "metadata": {},
   "outputs": [],
   "source": [
    "#base original para linea de la media de la variable antes de agrupar\n",
    "df2 = pd.read_csv(\"qog_std_cs_jan18.csv\")"
   ]
  },
  {
   "cell_type": "code",
   "execution_count": 17,
   "id": "41f1cc11",
   "metadata": {},
   "outputs": [],
   "source": [
    "#se crea puntaje z de base original\n",
    "df2['puntaje_z']=(df2['gle_cgdpc']-df2['gle_cgdpc'].mean())/df2['gle_cgdpc'].std()"
   ]
  },
  {
   "cell_type": "code",
   "execution_count": 18,
   "id": "91ac69e9",
   "metadata": {},
   "outputs": [
    {
     "data": {
      "text/plain": [
       "array([ 1,  2,  3,  4,  5,  6,  7,  8,  9, 10], dtype=int64)"
      ]
     },
     "execution_count": 18,
     "metadata": {},
     "output_type": "execute_result"
    }
   ],
   "source": [
    "#también se categoriza regiones\n",
    "a= df2['ht_region'].unique()\n",
    "a.sort()\n",
    "a"
   ]
  },
  {
   "cell_type": "code",
   "execution_count": 19,
   "id": "93aa955e",
   "metadata": {},
   "outputs": [],
   "source": [
    "regiones_numero = df2['ht_region'].unique()\n",
    "regiones_numero.sort()\n",
    "regiones_nombre = ['EastEurope', 'LatAm', 'NorthAfrica',\n",
    "                   'SubSaharian', 'WesternDem', 'EastAsia',\n",
    "                   'SouthEastAsia','SouthAsia','Pacific', 'Caribbean']\n",
    "regiones = dict(zip(regiones_numero, regiones_nombre))\n",
    "#f_dzc['region_renombrada'] = df_dzc['ht_region'].replace(regiones)\n",
    "df2['ht_region'] = df2['ht_region'].replace(regiones)"
   ]
  },
  {
   "cell_type": "code",
   "execution_count": 17,
   "id": "b7b51418",
   "metadata": {},
   "outputs": [
    {
     "data": {
      "text/plain": [
       "{1: 'EastEurope',\n",
       " 2: 'LatAm',\n",
       " 3: 'NorthAfrica',\n",
       " 4: 'SubSaharian',\n",
       " 5: 'WesternDem',\n",
       " 6: 'EastAsia',\n",
       " 7: 'SouthEastAsia',\n",
       " 8: 'SouthAsia',\n",
       " 9: 'Pacific',\n",
       " 10: 'Caribbean'}"
      ]
     },
     "execution_count": 17,
     "metadata": {},
     "output_type": "execute_result"
    }
   ],
   "source": [
    "regiones"
   ]
  },
  {
   "cell_type": "code",
   "execution_count": 20,
   "id": "d65e7b0c",
   "metadata": {},
   "outputs": [
    {
     "data": {
      "text/plain": [
       "array(['SouthAsia', 'EastEurope', 'NorthAfrica', 'WesternDem',\n",
       "       'SubSaharian', 'Caribbean', 'LatAm', 'Pacific', 'SouthEastAsia',\n",
       "       'EastAsia'], dtype=object)"
      ]
     },
     "execution_count": 20,
     "metadata": {},
     "output_type": "execute_result"
    }
   ],
   "source": [
    "df2.ht_region.unique()"
   ]
  },
  {
   "cell_type": "code",
   "execution_count": 21,
   "id": "242d6640",
   "metadata": {},
   "outputs": [
    {
     "data": {
      "text/plain": [
       "0      SouthAsia\n",
       "1     EastEurope\n",
       "2    NorthAfrica\n",
       "3     WesternDem\n",
       "4    SubSaharian\n",
       "Name: ht_region, dtype: object"
      ]
     },
     "execution_count": 21,
     "metadata": {},
     "output_type": "execute_result"
    }
   ],
   "source": [
    "df2['ht_region'].head()"
   ]
  },
  {
   "cell_type": "code",
   "execution_count": null,
   "id": "db28cab0",
   "metadata": {},
   "outputs": [],
   "source": [
    "#dotplot"
   ]
  },
  {
   "cell_type": "code",
   "execution_count": 22,
   "id": "ab9512b2",
   "metadata": {
    "scrolled": true
   },
   "outputs": [],
   "source": [
    "#se crea esta variable para generar la media de los datos completos (antes de agrupar), por ellos se usa df2\n",
    "df_dropna2 =df2.dropna(subset=['puntaje_z'])"
   ]
  },
  {
   "cell_type": "code",
   "execution_count": 23,
   "id": "52f466a8",
   "metadata": {},
   "outputs": [],
   "source": [
    "#se crea para tener las medias de cada región del puntaje z\n",
    "group_mean = df_sna.groupby('ht_region')['puntaje_z'].mean()"
   ]
  },
  {
   "cell_type": "code",
   "execution_count": 24,
   "id": "f856882c",
   "metadata": {},
   "outputs": [
    {
     "data": {
      "text/plain": [
       "[<matplotlib.lines.Line2D at 0x1dd2c875c70>]"
      ]
     },
     "execution_count": 24,
     "metadata": {},
     "output_type": "execute_result"
    },
    {
     "data": {
      "image/png": "[encoded data removed]",
      "text/plain": [
       "<Figure size 432x288 with 1 Axes>"
      ]
     },
     "metadata": {
      "needs_background": "light"
     },
     "output_type": "display_data"
    }
   ],
   "source": [
    "plt.title(f\"{'puntaje_z'} - {'ht_region'}\")\n",
    "plt.ylabel('ht_region')\n",
    "plt.xlabel('puntaje_z')\n",
    "\n",
    "#esta es la linea que mostrará la media de los datos totales\n",
    "plt.axvline(df_dropna2['puntaje_z'].mean(), color='tomato', label='mean')\n",
    "plt.legend()  \n",
    "#se generá el gráfico\n",
    "plt.plot(group_mean.values, group_mean.index,'o' )"
   ]
  },
  {
   "cell_type": "markdown",
   "id": "ab0a65cd",
   "metadata": {},
   "source": [
    "5. Generar curvas de Densidad de Probabilidad<br>\n",
    "Cree una función que permita visualizar las curvas de Densidad de Probabilidad<br>\n",
    "para las variables imf_pop, gle_cgdpc y wdi_exph.<br>\n",
    "● La función debe contener como argumentos:<br>\n",
    "○ df: Tabla de datos 1.<br>\n",
    "○ variable: Variable a contrastar.<br>"
   ]
  },
  {
   "cell_type": "code",
   "execution_count": 159,
   "id": "551093b4",
   "metadata": {},
   "outputs": [],
   "source": [
    "# primero se sacan los na para cada variable"
   ]
  },
  {
   "cell_type": "code",
   "execution_count": 25,
   "id": "e1938b89",
   "metadata": {},
   "outputs": [],
   "source": [
    "df_imf_pop =df_sna.dropna(subset=['imf_pop'])"
   ]
  },
  {
   "cell_type": "code",
   "execution_count": 26,
   "id": "a0928be6",
   "metadata": {},
   "outputs": [],
   "source": [
    "df_gle_cgdpc =df_sna.dropna(subset=['gle_cgdpc'])"
   ]
  },
  {
   "cell_type": "code",
   "execution_count": 27,
   "id": "6ab6740a",
   "metadata": {},
   "outputs": [],
   "source": [
    "# se cambia vdi_exph por wdi_expedu ya que el primero no está en la submuestra\n",
    "df_wdi_expedu =df_sna.dropna(subset=['wdi_expedu'])"
   ]
  },
  {
   "cell_type": "code",
   "execution_count": 28,
   "id": "a814dc32",
   "metadata": {},
   "outputs": [],
   "source": [
    "def densidad(df,variable):\n",
    "    df[variable].plot.density(color='green') \n",
    "    plt.title('Función de Densidad de Probabilidad') \n",
    "    plt.show()\n"
   ]
  },
  {
   "cell_type": "code",
   "execution_count": 29,
   "id": "819c2787",
   "metadata": {},
   "outputs": [
    {
     "data": {
      "image/png": "[encoded data removed]",
      "text/plain": [
       "<Figure size 432x288 with 1 Axes>"
      ]
     },
     "metadata": {
      "needs_background": "light"
     },
     "output_type": "display_data"
    }
   ],
   "source": [
    "densidad(df_imf_pop,'imf_pop')"
   ]
  },
  {
   "cell_type": "code",
   "execution_count": 30,
   "id": "6cc5f62a",
   "metadata": {},
   "outputs": [
    {
     "data": {
      "image/png": "[encoded data removed]",
      "text/plain": [
       "<Figure size 432x288 with 1 Axes>"
      ]
     },
     "metadata": {
      "needs_background": "light"
     },
     "output_type": "display_data"
    }
   ],
   "source": [
    "densidad(df_gle_cgdpc,'gle_cgdpc')"
   ]
  },
  {
   "cell_type": "code",
   "execution_count": 31,
   "id": "b9606ebf",
   "metadata": {},
   "outputs": [
    {
     "data": {
      "image/png": "[encoded data removed]",
      "text/plain": [
       "<Figure size 432x288 with 1 Axes>"
      ]
     },
     "metadata": {
      "needs_background": "light"
     },
     "output_type": "display_data"
    }
   ],
   "source": [
    "densidad(df_wdi_expedu,'wdi_expedu')"
   ]
  },
  {
   "cell_type": "code",
   "execution_count": null,
   "id": "de06b84f",
   "metadata": {},
   "outputs": [],
   "source": []
  }
 ],
 "metadata": {
  "kernelspec": {
   "display_name": "Python 3 (ipykernel)",
   "language": "python",
   "name": "python3"
  },
  "language_info": {
   "codemirror_mode": {
    "name": "ipython",
    "version": 3
   },
   "file_extension": ".py",
   "mimetype": "text/x-python",
   "name": "python",
   "nbconvert_exporter": "python",
   "pygments_lexer": "ipython3",
   "version": "3.9.7"
  }
 },
 "nbformat": 4,
 "nbformat_minor": 5
}
