{
 "cells": [
  {
   "cell_type": "code",
   "execution_count": 332,
   "id": "881c38be",
   "metadata": {},
   "outputs": [],
   "source": [
    "import pandas as pd\n",
    "import numpy as np"
   ]
  },
  {
   "cell_type": "markdown",
   "id": "f447b3b2",
   "metadata": {},
   "source": [
    "1. Generar un par de arrays ficticios con numpy. Utilice la función linspace para generar un array entre 1 y 50, y un array entre 50 y 150."
   ]
  },
  {
   "cell_type": "code",
   "execution_count": 333,
   "id": "b041d79f",
   "metadata": {},
   "outputs": [],
   "source": [
    "start_a1=1\n",
    "stop_a1=50\n",
    "array_1_50= np.linspace(start_a1, stop_a1, num=stop_a1, dtype = int)"
   ]
  },
  {
   "cell_type": "code",
   "execution_count": 334,
   "id": "153aabff",
   "metadata": {},
   "outputs": [
    {
     "data": {
      "text/plain": [
       "array([ 1,  2,  3,  4,  5,  6,  7,  8,  9, 10, 11, 12, 13, 14, 15, 16, 17,\n",
       "       18, 19, 20, 21, 22, 23, 24, 25, 26, 27, 28, 29, 30, 31, 32, 33, 34,\n",
       "       35, 36, 37, 38, 39, 40, 41, 42, 43, 44, 45, 46, 47, 48, 49, 50])"
      ]
     },
     "execution_count": 334,
     "metadata": {},
     "output_type": "execute_result"
    }
   ],
   "source": [
    "array_1_50"
   ]
  },
  {
   "cell_type": "code",
   "execution_count": 335,
   "id": "1fc60e3f",
   "metadata": {},
   "outputs": [],
   "source": [
    "start_a2=50\n",
    "stop_a2=150\n",
    "array_50_150=np.linspace(start_a2, stop_a2,num=(stop_a2-(start_a2-1)), dtype = int)"
   ]
  },
  {
   "cell_type": "code",
   "execution_count": 336,
   "id": "b4027e6f",
   "metadata": {},
   "outputs": [
    {
     "data": {
      "text/plain": [
       "101"
      ]
     },
     "execution_count": 336,
     "metadata": {},
     "output_type": "execute_result"
    }
   ],
   "source": [
    "len(array_50_150)"
   ]
  },
  {
   "cell_type": "code",
   "execution_count": 337,
   "id": "7f94df08",
   "metadata": {},
   "outputs": [
    {
     "data": {
      "text/plain": [
       "array([ 50,  51,  52,  53,  54,  55,  56,  57,  58,  59,  60,  61,  62,\n",
       "        63,  64,  65,  66,  67,  68,  69,  70,  71,  72,  73,  74,  75,\n",
       "        76,  77,  78,  79,  80,  81,  82,  83,  84,  85,  86,  87,  88,\n",
       "        89,  90,  91,  92,  93,  94,  95,  96,  97,  98,  99, 100, 101,\n",
       "       102, 103, 104, 105, 106, 107, 108, 109, 110, 111, 112, 113, 114,\n",
       "       115, 116, 117, 118, 119, 120, 121, 122, 123, 124, 125, 126, 127,\n",
       "       128, 129, 130, 131, 132, 133, 134, 135, 136, 137, 138, 139, 140,\n",
       "       141, 142, 143, 144, 145, 146, 147, 148, 149, 150])"
      ]
     },
     "execution_count": 337,
     "metadata": {},
     "output_type": "execute_result"
    }
   ],
   "source": [
    "array_50_150"
   ]
  },
  {
   "cell_type": "markdown",
   "id": "b8719f51",
   "metadata": {},
   "source": [
    "2. Ejecuta un loop que devuelva si el número en el primer array es par o impar"
   ]
  },
  {
   "cell_type": "code",
   "execution_count": 338,
   "id": "74932fe4",
   "metadata": {},
   "outputs": [
    {
     "name": "stdout",
     "output_type": "stream",
     "text": [
      "1 es impar\n",
      "2 es par\n",
      "3 es impar\n",
      "4 es par\n",
      "5 es impar\n",
      "6 es par\n",
      "7 es impar\n",
      "8 es par\n",
      "9 es impar\n",
      "10 es par\n",
      "11 es impar\n",
      "12 es par\n",
      "13 es impar\n",
      "14 es par\n",
      "15 es impar\n",
      "16 es par\n",
      "17 es impar\n",
      "18 es par\n",
      "19 es impar\n",
      "20 es par\n",
      "21 es impar\n",
      "22 es par\n",
      "23 es impar\n",
      "24 es par\n",
      "25 es impar\n",
      "26 es par\n",
      "27 es impar\n",
      "28 es par\n",
      "29 es impar\n",
      "30 es par\n",
      "31 es impar\n",
      "32 es par\n",
      "33 es impar\n",
      "34 es par\n",
      "35 es impar\n",
      "36 es par\n",
      "37 es impar\n",
      "38 es par\n",
      "39 es impar\n",
      "40 es par\n",
      "41 es impar\n",
      "42 es par\n",
      "43 es impar\n",
      "44 es par\n",
      "45 es impar\n",
      "46 es par\n",
      "47 es impar\n",
      "48 es par\n",
      "49 es impar\n",
      "50 es par\n"
     ]
    }
   ],
   "source": [
    "for i in array_1_50:\n",
    "    x=np.mod(i, 2)\n",
    "    if x==0:\n",
    "        print(i,'es par')\n",
    "    else:\n",
    "        print(i,'es impar')"
   ]
  },
  {
   "cell_type": "markdown",
   "id": "dd4bb765",
   "metadata": {},
   "source": [
    "3. Genere un loop con el segundo array que cuente las siguientes condiciones: <br>\n",
    "   Si el número es divisible por 2 o 3. <br>\n",
    "   Si el número es divisible por 2 y 3. <br>\n",
    "   Si el número es divisible por 3 pero no por 2. <br>\n",
    "   Si el número no es divisible por 2 ni 3 <br>"
   ]
  },
  {
   "cell_type": "code",
   "execution_count": 339,
   "id": "80ff2f1e",
   "metadata": {},
   "outputs": [
    {
     "name": "stdout",
     "output_type": "stream",
     "text": [
      "50 :es divisible por 2 o 3,  específicamente es es divisible por 2 pero no por 3\n",
      "51 :es divisible por 2 o 3,  específicamente es es divisible por 3 pero no por 2\n",
      "52 :es divisible por 2 o 3,  específicamente es es divisible por 2 pero no por 3\n",
      "53 :no es divisible por 2 ni 3\n",
      "54 :es divisible por 2 o 3,  específicamente es divisible por 2 y 3\n",
      "55 :no es divisible por 2 ni 3\n",
      "56 :es divisible por 2 o 3,  específicamente es es divisible por 2 pero no por 3\n",
      "57 :es divisible por 2 o 3,  específicamente es es divisible por 3 pero no por 2\n",
      "58 :es divisible por 2 o 3,  específicamente es es divisible por 2 pero no por 3\n",
      "59 :no es divisible por 2 ni 3\n",
      "60 :es divisible por 2 o 3,  específicamente es divisible por 2 y 3\n",
      "61 :no es divisible por 2 ni 3\n",
      "62 :es divisible por 2 o 3,  específicamente es es divisible por 2 pero no por 3\n",
      "63 :es divisible por 2 o 3,  específicamente es es divisible por 3 pero no por 2\n",
      "64 :es divisible por 2 o 3,  específicamente es es divisible por 2 pero no por 3\n",
      "65 :no es divisible por 2 ni 3\n",
      "66 :es divisible por 2 o 3,  específicamente es divisible por 2 y 3\n",
      "67 :no es divisible por 2 ni 3\n",
      "68 :es divisible por 2 o 3,  específicamente es es divisible por 2 pero no por 3\n",
      "69 :es divisible por 2 o 3,  específicamente es es divisible por 3 pero no por 2\n",
      "70 :es divisible por 2 o 3,  específicamente es es divisible por 2 pero no por 3\n",
      "71 :no es divisible por 2 ni 3\n",
      "72 :es divisible por 2 o 3,  específicamente es divisible por 2 y 3\n",
      "73 :no es divisible por 2 ni 3\n",
      "74 :es divisible por 2 o 3,  específicamente es es divisible por 2 pero no por 3\n",
      "75 :es divisible por 2 o 3,  específicamente es es divisible por 3 pero no por 2\n",
      "76 :es divisible por 2 o 3,  específicamente es es divisible por 2 pero no por 3\n",
      "77 :no es divisible por 2 ni 3\n",
      "78 :es divisible por 2 o 3,  específicamente es divisible por 2 y 3\n",
      "79 :no es divisible por 2 ni 3\n",
      "80 :es divisible por 2 o 3,  específicamente es es divisible por 2 pero no por 3\n",
      "81 :es divisible por 2 o 3,  específicamente es es divisible por 3 pero no por 2\n",
      "82 :es divisible por 2 o 3,  específicamente es es divisible por 2 pero no por 3\n",
      "83 :no es divisible por 2 ni 3\n",
      "84 :es divisible por 2 o 3,  específicamente es divisible por 2 y 3\n",
      "85 :no es divisible por 2 ni 3\n",
      "86 :es divisible por 2 o 3,  específicamente es es divisible por 2 pero no por 3\n",
      "87 :es divisible por 2 o 3,  específicamente es es divisible por 3 pero no por 2\n",
      "88 :es divisible por 2 o 3,  específicamente es es divisible por 2 pero no por 3\n",
      "89 :no es divisible por 2 ni 3\n",
      "90 :es divisible por 2 o 3,  específicamente es divisible por 2 y 3\n",
      "91 :no es divisible por 2 ni 3\n",
      "92 :es divisible por 2 o 3,  específicamente es es divisible por 2 pero no por 3\n",
      "93 :es divisible por 2 o 3,  específicamente es es divisible por 3 pero no por 2\n",
      "94 :es divisible por 2 o 3,  específicamente es es divisible por 2 pero no por 3\n",
      "95 :no es divisible por 2 ni 3\n",
      "96 :es divisible por 2 o 3,  específicamente es divisible por 2 y 3\n",
      "97 :no es divisible por 2 ni 3\n",
      "98 :es divisible por 2 o 3,  específicamente es es divisible por 2 pero no por 3\n",
      "99 :es divisible por 2 o 3,  específicamente es es divisible por 3 pero no por 2\n",
      "100 :es divisible por 2 o 3,  específicamente es es divisible por 2 pero no por 3\n",
      "101 :no es divisible por 2 ni 3\n",
      "102 :es divisible por 2 o 3,  específicamente es divisible por 2 y 3\n",
      "103 :no es divisible por 2 ni 3\n",
      "104 :es divisible por 2 o 3,  específicamente es es divisible por 2 pero no por 3\n",
      "105 :es divisible por 2 o 3,  específicamente es es divisible por 3 pero no por 2\n",
      "106 :es divisible por 2 o 3,  específicamente es es divisible por 2 pero no por 3\n",
      "107 :no es divisible por 2 ni 3\n",
      "108 :es divisible por 2 o 3,  específicamente es divisible por 2 y 3\n",
      "109 :no es divisible por 2 ni 3\n",
      "110 :es divisible por 2 o 3,  específicamente es es divisible por 2 pero no por 3\n",
      "111 :es divisible por 2 o 3,  específicamente es es divisible por 3 pero no por 2\n",
      "112 :es divisible por 2 o 3,  específicamente es es divisible por 2 pero no por 3\n",
      "113 :no es divisible por 2 ni 3\n",
      "114 :es divisible por 2 o 3,  específicamente es divisible por 2 y 3\n",
      "115 :no es divisible por 2 ni 3\n",
      "116 :es divisible por 2 o 3,  específicamente es es divisible por 2 pero no por 3\n",
      "117 :es divisible por 2 o 3,  específicamente es es divisible por 3 pero no por 2\n",
      "118 :es divisible por 2 o 3,  específicamente es es divisible por 2 pero no por 3\n",
      "119 :no es divisible por 2 ni 3\n",
      "120 :es divisible por 2 o 3,  específicamente es divisible por 2 y 3\n",
      "121 :no es divisible por 2 ni 3\n",
      "122 :es divisible por 2 o 3,  específicamente es es divisible por 2 pero no por 3\n",
      "123 :es divisible por 2 o 3,  específicamente es es divisible por 3 pero no por 2\n",
      "124 :es divisible por 2 o 3,  específicamente es es divisible por 2 pero no por 3\n",
      "125 :no es divisible por 2 ni 3\n",
      "126 :es divisible por 2 o 3,  específicamente es divisible por 2 y 3\n",
      "127 :no es divisible por 2 ni 3\n",
      "128 :es divisible por 2 o 3,  específicamente es es divisible por 2 pero no por 3\n",
      "129 :es divisible por 2 o 3,  específicamente es es divisible por 3 pero no por 2\n",
      "130 :es divisible por 2 o 3,  específicamente es es divisible por 2 pero no por 3\n",
      "131 :no es divisible por 2 ni 3\n",
      "132 :es divisible por 2 o 3,  específicamente es divisible por 2 y 3\n",
      "133 :no es divisible por 2 ni 3\n",
      "134 :es divisible por 2 o 3,  específicamente es es divisible por 2 pero no por 3\n",
      "135 :es divisible por 2 o 3,  específicamente es es divisible por 3 pero no por 2\n",
      "136 :es divisible por 2 o 3,  específicamente es es divisible por 2 pero no por 3\n",
      "137 :no es divisible por 2 ni 3\n",
      "138 :es divisible por 2 o 3,  específicamente es divisible por 2 y 3\n",
      "139 :no es divisible por 2 ni 3\n",
      "140 :es divisible por 2 o 3,  específicamente es es divisible por 2 pero no por 3\n",
      "141 :es divisible por 2 o 3,  específicamente es es divisible por 3 pero no por 2\n",
      "142 :es divisible por 2 o 3,  específicamente es es divisible por 2 pero no por 3\n",
      "143 :no es divisible por 2 ni 3\n",
      "144 :es divisible por 2 o 3,  específicamente es divisible por 2 y 3\n",
      "145 :no es divisible por 2 ni 3\n",
      "146 :es divisible por 2 o 3,  específicamente es es divisible por 2 pero no por 3\n",
      "147 :es divisible por 2 o 3,  específicamente es es divisible por 3 pero no por 2\n",
      "148 :es divisible por 2 o 3,  específicamente es es divisible por 2 pero no por 3\n",
      "149 :no es divisible por 2 ni 3\n",
      "150 :es divisible por 2 o 3,  específicamente es divisible por 2 y 3\n"
     ]
    }
   ],
   "source": [
    "for i in array_50_150:\n",
    "    x=np.mod(i,2)\n",
    "    y=np.mod(i,3)\n",
    "    if x==0 or y==0:\n",
    "        print(i, ':es divisible por 2 o 3, ',end=\" \")\n",
    "        if x==0 and y==0:\n",
    "            print( 'específicamente es divisible por 2 y 3')\n",
    "        elif x!=0 and y==0:\n",
    "            print( 'específicamente es es divisible por 3 pero no por 2')\n",
    "        elif x==0 and y!=0:\n",
    "            print( 'específicamente es es divisible por 2 pero no por 3')\n",
    "    else:\n",
    "        print(i, ':no es divisible por 2 ni 3')\n",
    "    \n",
    "    \n",
    "    \n",
    "   "
   ]
  },
  {
   "cell_type": "markdown",
   "id": "582b4efd",
   "metadata": {},
   "source": [
    "4. Corrección de errores: Revisa el siguiente código y encuentra los errores a corregir."
   ]
  },
  {
   "cell_type": "code",
   "execution_count": 340,
   "id": "79a93ecb",
   "metadata": {},
   "outputs": [
    {
     "ename": "IndentationError",
     "evalue": "expected an indented block (Temp/ipykernel_3476/317031705.py, line 2)",
     "output_type": "error",
     "traceback": [
      "\u001b[1;36m  File \u001b[1;32m\"C:\\Users\\Susana\\AppData\\Local\\Temp/ipykernel_3476/317031705.py\"\u001b[1;36m, line \u001b[1;32m2\u001b[0m\n\u001b[1;33m    print(I**2)\u001b[0m\n\u001b[1;37m    ^\u001b[0m\n\u001b[1;31mIndentationError\u001b[0m\u001b[1;31m:\u001b[0m expected an indented block\n"
     ]
    }
   ],
   "source": [
    "for i in range(100):\n",
    "print(I**2)"
   ]
  },
  {
   "cell_type": "code",
   "execution_count": 341,
   "id": "db0a7938",
   "metadata": {},
   "outputs": [
    {
     "name": "stdout",
     "output_type": "stream",
     "text": [
      "0\n",
      "1\n",
      "4\n",
      "9\n",
      "16\n",
      "25\n",
      "36\n",
      "49\n",
      "64\n",
      "81\n",
      "100\n",
      "121\n",
      "144\n",
      "169\n",
      "196\n",
      "225\n",
      "256\n",
      "289\n",
      "324\n",
      "361\n",
      "400\n",
      "441\n",
      "484\n",
      "529\n",
      "576\n",
      "625\n",
      "676\n",
      "729\n",
      "784\n",
      "841\n",
      "900\n",
      "961\n",
      "1024\n",
      "1089\n",
      "1156\n",
      "1225\n",
      "1296\n",
      "1369\n",
      "1444\n",
      "1521\n",
      "1600\n",
      "1681\n",
      "1764\n",
      "1849\n",
      "1936\n",
      "2025\n",
      "2116\n",
      "2209\n",
      "2304\n",
      "2401\n",
      "2500\n",
      "2601\n",
      "2704\n",
      "2809\n",
      "2916\n",
      "3025\n",
      "3136\n",
      "3249\n",
      "3364\n",
      "3481\n",
      "3600\n",
      "3721\n",
      "3844\n",
      "3969\n",
      "4096\n",
      "4225\n",
      "4356\n",
      "4489\n",
      "4624\n",
      "4761\n",
      "4900\n",
      "5041\n",
      "5184\n",
      "5329\n",
      "5476\n",
      "5625\n",
      "5776\n",
      "5929\n",
      "6084\n",
      "6241\n",
      "6400\n",
      "6561\n",
      "6724\n",
      "6889\n",
      "7056\n",
      "7225\n",
      "7396\n",
      "7569\n",
      "7744\n",
      "7921\n",
      "8100\n",
      "8281\n",
      "8464\n",
      "8649\n",
      "8836\n",
      "9025\n",
      "9216\n",
      "9409\n",
      "9604\n",
      "9801\n"
     ]
    }
   ],
   "source": [
    "#Se corrige indentación y se cambia la letra I a minúscula\n",
    "for i in range(100):\n",
    "    print(i**2)"
   ]
  },
  {
   "cell_type": "markdown",
   "id": "99f234d7",
   "metadata": {},
   "source": [
    "5. Utilizando la misma base flights.csv debes hacer un loop y clasificar los meses\n",
    "con una cantidad de pasajeros menor a la media. Para ello:"
   ]
  },
  {
   "cell_type": "code",
   "execution_count": 342,
   "id": "a9040442",
   "metadata": {},
   "outputs": [],
   "source": [
    "df = pd.read_csv(\"flights.csv\")"
   ]
  },
  {
   "cell_type": "code",
   "execution_count": 343,
   "id": "506f0538",
   "metadata": {},
   "outputs": [
    {
     "data": {
      "text/html": [
       "<div>\n",
       "<style scoped>\n",
       "    .dataframe tbody tr th:only-of-type {\n",
       "        vertical-align: middle;\n",
       "    }\n",
       "\n",
       "    .dataframe tbody tr th {\n",
       "        vertical-align: top;\n",
       "    }\n",
       "\n",
       "    .dataframe thead th {\n",
       "        text-align: right;\n",
       "    }\n",
       "</style>\n",
       "<table border=\"1\" class=\"dataframe\">\n",
       "  <thead>\n",
       "    <tr style=\"text-align: right;\">\n",
       "      <th></th>\n",
       "      <th>year</th>\n",
       "      <th>month</th>\n",
       "      <th>passengers</th>\n",
       "    </tr>\n",
       "  </thead>\n",
       "  <tbody>\n",
       "    <tr>\n",
       "      <th>0</th>\n",
       "      <td>1949</td>\n",
       "      <td>January</td>\n",
       "      <td>112</td>\n",
       "    </tr>\n",
       "    <tr>\n",
       "      <th>1</th>\n",
       "      <td>1949</td>\n",
       "      <td>February</td>\n",
       "      <td>118</td>\n",
       "    </tr>\n",
       "    <tr>\n",
       "      <th>2</th>\n",
       "      <td>1949</td>\n",
       "      <td>March</td>\n",
       "      <td>132</td>\n",
       "    </tr>\n",
       "    <tr>\n",
       "      <th>3</th>\n",
       "      <td>1949</td>\n",
       "      <td>April</td>\n",
       "      <td>129</td>\n",
       "    </tr>\n",
       "    <tr>\n",
       "      <th>4</th>\n",
       "      <td>1949</td>\n",
       "      <td>May</td>\n",
       "      <td>121</td>\n",
       "    </tr>\n",
       "  </tbody>\n",
       "</table>\n",
       "</div>"
      ],
      "text/plain": [
       "   year     month  passengers\n",
       "0  1949   January         112\n",
       "1  1949  February         118\n",
       "2  1949     March         132\n",
       "3  1949     April         129\n",
       "4  1949       May         121"
      ]
     },
     "execution_count": 343,
     "metadata": {},
     "output_type": "execute_result"
    }
   ],
   "source": [
    "df.head(5)"
   ]
  },
  {
   "cell_type": "markdown",
   "id": "c0abdad2",
   "metadata": {},
   "source": [
    "Genera un nuevo objeto que represente la media de passengers.\n"
   ]
  },
  {
   "cell_type": "code",
   "execution_count": 344,
   "id": "3989a037",
   "metadata": {},
   "outputs": [
    {
     "name": "stdout",
     "output_type": "stream",
     "text": [
      "Media de columna passengers es:  280.3\n"
     ]
    }
   ],
   "source": [
    "media_passenger=np.mean(df[\"passengers\"])\n",
    "print('Media de columna passengers es: ', round(media_passenger,2))"
   ]
  },
  {
   "cell_type": "markdown",
   "id": "edeba3d7",
   "metadata": {},
   "source": [
    "Genera una columna en la base de datos que se llame underperforming y\n",
    "asígnele 0.\n"
   ]
  },
  {
   "cell_type": "code",
   "execution_count": 345,
   "id": "e64cd9cf",
   "metadata": {},
   "outputs": [],
   "source": [
    "df['underperforming'] = 0"
   ]
  },
  {
   "cell_type": "code",
   "execution_count": 346,
   "id": "d4a16c71",
   "metadata": {},
   "outputs": [
    {
     "data": {
      "text/html": [
       "<div>\n",
       "<style scoped>\n",
       "    .dataframe tbody tr th:only-of-type {\n",
       "        vertical-align: middle;\n",
       "    }\n",
       "\n",
       "    .dataframe tbody tr th {\n",
       "        vertical-align: top;\n",
       "    }\n",
       "\n",
       "    .dataframe thead th {\n",
       "        text-align: right;\n",
       "    }\n",
       "</style>\n",
       "<table border=\"1\" class=\"dataframe\">\n",
       "  <thead>\n",
       "    <tr style=\"text-align: right;\">\n",
       "      <th></th>\n",
       "      <th>year</th>\n",
       "      <th>month</th>\n",
       "      <th>passengers</th>\n",
       "      <th>underperforming</th>\n",
       "    </tr>\n",
       "  </thead>\n",
       "  <tbody>\n",
       "    <tr>\n",
       "      <th>0</th>\n",
       "      <td>1949</td>\n",
       "      <td>January</td>\n",
       "      <td>112</td>\n",
       "      <td>0</td>\n",
       "    </tr>\n",
       "    <tr>\n",
       "      <th>1</th>\n",
       "      <td>1949</td>\n",
       "      <td>February</td>\n",
       "      <td>118</td>\n",
       "      <td>0</td>\n",
       "    </tr>\n",
       "    <tr>\n",
       "      <th>2</th>\n",
       "      <td>1949</td>\n",
       "      <td>March</td>\n",
       "      <td>132</td>\n",
       "      <td>0</td>\n",
       "    </tr>\n",
       "    <tr>\n",
       "      <th>3</th>\n",
       "      <td>1949</td>\n",
       "      <td>April</td>\n",
       "      <td>129</td>\n",
       "      <td>0</td>\n",
       "    </tr>\n",
       "    <tr>\n",
       "      <th>4</th>\n",
       "      <td>1949</td>\n",
       "      <td>May</td>\n",
       "      <td>121</td>\n",
       "      <td>0</td>\n",
       "    </tr>\n",
       "  </tbody>\n",
       "</table>\n",
       "</div>"
      ],
      "text/plain": [
       "   year     month  passengers  underperforming\n",
       "0  1949   January         112                0\n",
       "1  1949  February         118                0\n",
       "2  1949     March         132                0\n",
       "3  1949     April         129                0\n",
       "4  1949       May         121                0"
      ]
     },
     "execution_count": 346,
     "metadata": {},
     "output_type": "execute_result"
    }
   ],
   "source": [
    "df.head(5)"
   ]
  },
  {
   "cell_type": "markdown",
   "id": "ba8d1ace",
   "metadata": {},
   "source": [
    "Ejecuta un loop que recorra cada observación de passengers, donde si la\n",
    "observación es menor a la media de passengers se le asigne a\n",
    "underperforming un 1.\n"
   ]
  },
  {
   "cell_type": "code",
   "execution_count": 347,
   "id": "2641c3af",
   "metadata": {},
   "outputs": [],
   "source": [
    "#Se realiza copia para probar dos formas"
   ]
  },
  {
   "cell_type": "code",
   "execution_count": 348,
   "id": "7f48648d",
   "metadata": {},
   "outputs": [],
   "source": [
    "df2=df"
   ]
  },
  {
   "cell_type": "code",
   "execution_count": 349,
   "id": "0b054c48",
   "metadata": {},
   "outputs": [
    {
     "name": "stderr",
     "output_type": "stream",
     "text": [
      "C:\\Users\\Susana\\AppData\\Local\\Temp/ipykernel_3476/1253586823.py:4: SettingWithCopyWarning: \n",
      "A value is trying to be set on a copy of a slice from a DataFrame\n",
      "\n",
      "See the caveats in the documentation: https://pandas.pydata.org/pandas-docs/stable/user_guide/indexing.html#returning-a-view-versus-a-copy\n",
      "  df2['underperforming'][i]=1\n"
     ]
    }
   ],
   "source": [
    "#Primera forma\n",
    "for i in df2.index:\n",
    "    if df2['passengers'][i]<media_passenger:\n",
    "        df2['underperforming'][i]=1\n",
    "        #print(df2['passengers'][i],df2['underperforming'][i])\n",
    "    "
   ]
  },
  {
   "cell_type": "code",
   "execution_count": 350,
   "id": "812c3993",
   "metadata": {},
   "outputs": [
    {
     "data": {
      "text/plain": [
       "1    80\n",
       "0    64\n",
       "Name: underperforming, dtype: int64"
      ]
     },
     "execution_count": 350,
     "metadata": {},
     "output_type": "execute_result"
    }
   ],
   "source": [
    "df2['underperforming'].value_counts()"
   ]
  },
  {
   "cell_type": "code",
   "execution_count": 351,
   "id": "f3d82b59",
   "metadata": {},
   "outputs": [],
   "source": [
    "#Segunda forma usando pandas\n",
    "df.loc[df['passengers']<media_passenger, 'underperforming']=1\n",
    "    "
   ]
  },
  {
   "cell_type": "code",
   "execution_count": 352,
   "id": "10c6993b",
   "metadata": {},
   "outputs": [
    {
     "data": {
      "text/plain": [
       "1    80\n",
       "0    64\n",
       "Name: underperforming, dtype: int64"
      ]
     },
     "execution_count": 352,
     "metadata": {},
     "output_type": "execute_result"
    }
   ],
   "source": [
    "df['underperforming'].value_counts()"
   ]
  },
  {
   "cell_type": "markdown",
   "id": "67d9e683",
   "metadata": {},
   "source": [
    "Asignar unos en la columna underperforming ya creada, para ello utilice la\n",
    "función at de pandas."
   ]
  },
  {
   "cell_type": "code",
   "execution_count": 322,
   "id": "8269bbc6",
   "metadata": {},
   "outputs": [],
   "source": [
    "df.at[:, 'underperforming']=1"
   ]
  },
  {
   "cell_type": "code",
   "execution_count": 353,
   "id": "0293b8fb",
   "metadata": {},
   "outputs": [
    {
     "data": {
      "text/html": [
       "<div>\n",
       "<style scoped>\n",
       "    .dataframe tbody tr th:only-of-type {\n",
       "        vertical-align: middle;\n",
       "    }\n",
       "\n",
       "    .dataframe tbody tr th {\n",
       "        vertical-align: top;\n",
       "    }\n",
       "\n",
       "    .dataframe thead th {\n",
       "        text-align: right;\n",
       "    }\n",
       "</style>\n",
       "<table border=\"1\" class=\"dataframe\">\n",
       "  <thead>\n",
       "    <tr style=\"text-align: right;\">\n",
       "      <th></th>\n",
       "      <th>year</th>\n",
       "      <th>month</th>\n",
       "      <th>passengers</th>\n",
       "      <th>underperforming</th>\n",
       "    </tr>\n",
       "  </thead>\n",
       "  <tbody>\n",
       "    <tr>\n",
       "      <th>0</th>\n",
       "      <td>1949</td>\n",
       "      <td>January</td>\n",
       "      <td>112</td>\n",
       "      <td>1</td>\n",
       "    </tr>\n",
       "    <tr>\n",
       "      <th>1</th>\n",
       "      <td>1949</td>\n",
       "      <td>February</td>\n",
       "      <td>118</td>\n",
       "      <td>1</td>\n",
       "    </tr>\n",
       "    <tr>\n",
       "      <th>2</th>\n",
       "      <td>1949</td>\n",
       "      <td>March</td>\n",
       "      <td>132</td>\n",
       "      <td>1</td>\n",
       "    </tr>\n",
       "    <tr>\n",
       "      <th>3</th>\n",
       "      <td>1949</td>\n",
       "      <td>April</td>\n",
       "      <td>129</td>\n",
       "      <td>1</td>\n",
       "    </tr>\n",
       "    <tr>\n",
       "      <th>4</th>\n",
       "      <td>1949</td>\n",
       "      <td>May</td>\n",
       "      <td>121</td>\n",
       "      <td>1</td>\n",
       "    </tr>\n",
       "    <tr>\n",
       "      <th>...</th>\n",
       "      <td>...</td>\n",
       "      <td>...</td>\n",
       "      <td>...</td>\n",
       "      <td>...</td>\n",
       "    </tr>\n",
       "    <tr>\n",
       "      <th>139</th>\n",
       "      <td>1960</td>\n",
       "      <td>August</td>\n",
       "      <td>606</td>\n",
       "      <td>0</td>\n",
       "    </tr>\n",
       "    <tr>\n",
       "      <th>140</th>\n",
       "      <td>1960</td>\n",
       "      <td>September</td>\n",
       "      <td>508</td>\n",
       "      <td>0</td>\n",
       "    </tr>\n",
       "    <tr>\n",
       "      <th>141</th>\n",
       "      <td>1960</td>\n",
       "      <td>October</td>\n",
       "      <td>461</td>\n",
       "      <td>0</td>\n",
       "    </tr>\n",
       "    <tr>\n",
       "      <th>142</th>\n",
       "      <td>1960</td>\n",
       "      <td>November</td>\n",
       "      <td>390</td>\n",
       "      <td>0</td>\n",
       "    </tr>\n",
       "    <tr>\n",
       "      <th>143</th>\n",
       "      <td>1960</td>\n",
       "      <td>December</td>\n",
       "      <td>432</td>\n",
       "      <td>0</td>\n",
       "    </tr>\n",
       "  </tbody>\n",
       "</table>\n",
       "<p>144 rows × 4 columns</p>\n",
       "</div>"
      ],
      "text/plain": [
       "     year      month  passengers  underperforming\n",
       "0    1949    January         112                1\n",
       "1    1949   February         118                1\n",
       "2    1949      March         132                1\n",
       "3    1949      April         129                1\n",
       "4    1949        May         121                1\n",
       "..    ...        ...         ...              ...\n",
       "139  1960     August         606                0\n",
       "140  1960  September         508                0\n",
       "141  1960    October         461                0\n",
       "142  1960   November         390                0\n",
       "143  1960   December         432                0\n",
       "\n",
       "[144 rows x 4 columns]"
      ]
     },
     "execution_count": 353,
     "metadata": {},
     "output_type": "execute_result"
    }
   ],
   "source": [
    "df"
   ]
  },
  {
   "cell_type": "markdown",
   "id": "b0629a9e",
   "metadata": {},
   "source": [
    "6. Por último, haz un loop que clasifique los meses donde la cantidad de pasajeros se\n",
    "escapa de la tendencia. Para ello:"
   ]
  },
  {
   "cell_type": "markdown",
   "id": "ec5dd0b2",
   "metadata": {},
   "source": [
    "Genera dos objetos que guarden la media general y la desviación estándar general de\n",
    "passengers.\n"
   ]
  },
  {
   "cell_type": "code",
   "execution_count": 354,
   "id": "5ab3fa3c",
   "metadata": {},
   "outputs": [
    {
     "data": {
      "text/plain": [
       "280.2986111111111"
      ]
     },
     "execution_count": 354,
     "metadata": {},
     "output_type": "execute_result"
    }
   ],
   "source": [
    "media_general=df[\"passengers\"].mean()\n",
    "media_general"
   ]
  },
  {
   "cell_type": "code",
   "execution_count": 355,
   "id": "ceebd848",
   "metadata": {},
   "outputs": [
    {
     "data": {
      "text/plain": [
       "119.96631694294321"
      ]
     },
     "execution_count": 355,
     "metadata": {},
     "output_type": "execute_result"
    }
   ],
   "source": [
    "desv_est=df[\"passengers\"].std()\n",
    "desv_est"
   ]
  },
  {
   "cell_type": "markdown",
   "id": "426c11b7",
   "metadata": {},
   "source": [
    " Genera una nueva columna en la tabla de datos que se llame outlier y asígnale 0."
   ]
  },
  {
   "cell_type": "code",
   "execution_count": 356,
   "id": "dc0030ba",
   "metadata": {},
   "outputs": [],
   "source": [
    "df[\"outlier\"]=0"
   ]
  },
  {
   "cell_type": "code",
   "execution_count": 357,
   "id": "dd7678b3",
   "metadata": {},
   "outputs": [
    {
     "data": {
      "text/html": [
       "<div>\n",
       "<style scoped>\n",
       "    .dataframe tbody tr th:only-of-type {\n",
       "        vertical-align: middle;\n",
       "    }\n",
       "\n",
       "    .dataframe tbody tr th {\n",
       "        vertical-align: top;\n",
       "    }\n",
       "\n",
       "    .dataframe thead th {\n",
       "        text-align: right;\n",
       "    }\n",
       "</style>\n",
       "<table border=\"1\" class=\"dataframe\">\n",
       "  <thead>\n",
       "    <tr style=\"text-align: right;\">\n",
       "      <th></th>\n",
       "      <th>year</th>\n",
       "      <th>month</th>\n",
       "      <th>passengers</th>\n",
       "      <th>underperforming</th>\n",
       "      <th>outlier</th>\n",
       "    </tr>\n",
       "  </thead>\n",
       "  <tbody>\n",
       "    <tr>\n",
       "      <th>0</th>\n",
       "      <td>1949</td>\n",
       "      <td>January</td>\n",
       "      <td>112</td>\n",
       "      <td>1</td>\n",
       "      <td>0</td>\n",
       "    </tr>\n",
       "    <tr>\n",
       "      <th>1</th>\n",
       "      <td>1949</td>\n",
       "      <td>February</td>\n",
       "      <td>118</td>\n",
       "      <td>1</td>\n",
       "      <td>0</td>\n",
       "    </tr>\n",
       "    <tr>\n",
       "      <th>2</th>\n",
       "      <td>1949</td>\n",
       "      <td>March</td>\n",
       "      <td>132</td>\n",
       "      <td>1</td>\n",
       "      <td>0</td>\n",
       "    </tr>\n",
       "    <tr>\n",
       "      <th>3</th>\n",
       "      <td>1949</td>\n",
       "      <td>April</td>\n",
       "      <td>129</td>\n",
       "      <td>1</td>\n",
       "      <td>0</td>\n",
       "    </tr>\n",
       "    <tr>\n",
       "      <th>4</th>\n",
       "      <td>1949</td>\n",
       "      <td>May</td>\n",
       "      <td>121</td>\n",
       "      <td>1</td>\n",
       "      <td>0</td>\n",
       "    </tr>\n",
       "  </tbody>\n",
       "</table>\n",
       "</div>"
      ],
      "text/plain": [
       "   year     month  passengers  underperforming  outlier\n",
       "0  1949   January         112                1        0\n",
       "1  1949  February         118                1        0\n",
       "2  1949     March         132                1        0\n",
       "3  1949     April         129                1        0\n",
       "4  1949       May         121                1        0"
      ]
     },
     "execution_count": 357,
     "metadata": {},
     "output_type": "execute_result"
    }
   ],
   "source": [
    "df.head()"
   ]
  },
  {
   "cell_type": "markdown",
   "id": "c0ea0fc5",
   "metadata": {},
   "source": [
    "Ejecuta un loop que recorra cada observación de passengers, donde si la\n",
    "observación se escapa de la tendencia sea 1, de lo contrario 0.<br>\n",
    "Para clasificar los casos que se escapen la tendencia, la observación debe satisfacer<br>\n",
    "una de las siguientes condiciones:<br>\n",
    "○ La observación debe ser menor a la media menos la desviación estándar, o <br>\n",
    "○ La observación debe ser mayor a la media más la desviación estándar. <br>\n",
    "○ ¿Cuántas observaciones se pueden clasificar como casos extremos? <br>"
   ]
  },
  {
   "cell_type": "code",
   "execution_count": 358,
   "id": "175d6611",
   "metadata": {},
   "outputs": [],
   "source": [
    "# Para que sea outlier (outlier=1) debe cumplir: passengers[i] < (media_general-desv_est) or passengers[i] > (media_general+desv_est)\n"
   ]
  },
  {
   "cell_type": "code",
   "execution_count": 359,
   "id": "b35e1202",
   "metadata": {},
   "outputs": [
    {
     "name": "stderr",
     "output_type": "stream",
     "text": [
      "C:\\Users\\Susana\\AppData\\Local\\Temp/ipykernel_3476/2756875579.py:5: SettingWithCopyWarning: \n",
      "A value is trying to be set on a copy of a slice from a DataFrame\n",
      "\n",
      "See the caveats in the documentation: https://pandas.pydata.org/pandas-docs/stable/user_guide/indexing.html#returning-a-view-versus-a-copy\n",
      "  df['outlier'][i]=1\n"
     ]
    }
   ],
   "source": [
    "#Primera opcióndf['passengers'][i]<(media_general-desv_est) or\n",
    "for i in df.index:\n",
    "    if  df['passengers'][i]<(media_general-desv_est) or df['passengers'][i]>(media_general+desv_est):\n",
    "        #print(df['passengers'][i],media_general,desv_est)\n",
    "        df['outlier'][i]=1"
   ]
  },
  {
   "cell_type": "code",
   "execution_count": 360,
   "id": "571dcd1f",
   "metadata": {},
   "outputs": [
    {
     "data": {
      "text/html": [
       "<div>\n",
       "<style scoped>\n",
       "    .dataframe tbody tr th:only-of-type {\n",
       "        vertical-align: middle;\n",
       "    }\n",
       "\n",
       "    .dataframe tbody tr th {\n",
       "        vertical-align: top;\n",
       "    }\n",
       "\n",
       "    .dataframe thead th {\n",
       "        text-align: right;\n",
       "    }\n",
       "</style>\n",
       "<table border=\"1\" class=\"dataframe\">\n",
       "  <thead>\n",
       "    <tr style=\"text-align: right;\">\n",
       "      <th></th>\n",
       "      <th>year</th>\n",
       "      <th>month</th>\n",
       "      <th>passengers</th>\n",
       "      <th>underperforming</th>\n",
       "      <th>outlier</th>\n",
       "    </tr>\n",
       "  </thead>\n",
       "  <tbody>\n",
       "    <tr>\n",
       "      <th>0</th>\n",
       "      <td>1949</td>\n",
       "      <td>January</td>\n",
       "      <td>112</td>\n",
       "      <td>1</td>\n",
       "      <td>1</td>\n",
       "    </tr>\n",
       "    <tr>\n",
       "      <th>1</th>\n",
       "      <td>1949</td>\n",
       "      <td>February</td>\n",
       "      <td>118</td>\n",
       "      <td>1</td>\n",
       "      <td>1</td>\n",
       "    </tr>\n",
       "    <tr>\n",
       "      <th>2</th>\n",
       "      <td>1949</td>\n",
       "      <td>March</td>\n",
       "      <td>132</td>\n",
       "      <td>1</td>\n",
       "      <td>1</td>\n",
       "    </tr>\n",
       "    <tr>\n",
       "      <th>3</th>\n",
       "      <td>1949</td>\n",
       "      <td>April</td>\n",
       "      <td>129</td>\n",
       "      <td>1</td>\n",
       "      <td>1</td>\n",
       "    </tr>\n",
       "    <tr>\n",
       "      <th>4</th>\n",
       "      <td>1949</td>\n",
       "      <td>May</td>\n",
       "      <td>121</td>\n",
       "      <td>1</td>\n",
       "      <td>1</td>\n",
       "    </tr>\n",
       "    <tr>\n",
       "      <th>...</th>\n",
       "      <td>...</td>\n",
       "      <td>...</td>\n",
       "      <td>...</td>\n",
       "      <td>...</td>\n",
       "      <td>...</td>\n",
       "    </tr>\n",
       "    <tr>\n",
       "      <th>139</th>\n",
       "      <td>1960</td>\n",
       "      <td>August</td>\n",
       "      <td>606</td>\n",
       "      <td>0</td>\n",
       "      <td>1</td>\n",
       "    </tr>\n",
       "    <tr>\n",
       "      <th>140</th>\n",
       "      <td>1960</td>\n",
       "      <td>September</td>\n",
       "      <td>508</td>\n",
       "      <td>0</td>\n",
       "      <td>1</td>\n",
       "    </tr>\n",
       "    <tr>\n",
       "      <th>141</th>\n",
       "      <td>1960</td>\n",
       "      <td>October</td>\n",
       "      <td>461</td>\n",
       "      <td>0</td>\n",
       "      <td>1</td>\n",
       "    </tr>\n",
       "    <tr>\n",
       "      <th>142</th>\n",
       "      <td>1960</td>\n",
       "      <td>November</td>\n",
       "      <td>390</td>\n",
       "      <td>0</td>\n",
       "      <td>0</td>\n",
       "    </tr>\n",
       "    <tr>\n",
       "      <th>143</th>\n",
       "      <td>1960</td>\n",
       "      <td>December</td>\n",
       "      <td>432</td>\n",
       "      <td>0</td>\n",
       "      <td>1</td>\n",
       "    </tr>\n",
       "  </tbody>\n",
       "</table>\n",
       "<p>144 rows × 5 columns</p>\n",
       "</div>"
      ],
      "text/plain": [
       "     year      month  passengers  underperforming  outlier\n",
       "0    1949    January         112                1        1\n",
       "1    1949   February         118                1        1\n",
       "2    1949      March         132                1        1\n",
       "3    1949      April         129                1        1\n",
       "4    1949        May         121                1        1\n",
       "..    ...        ...         ...              ...      ...\n",
       "139  1960     August         606                0        1\n",
       "140  1960  September         508                0        1\n",
       "141  1960    October         461                0        1\n",
       "142  1960   November         390                0        0\n",
       "143  1960   December         432                0        1\n",
       "\n",
       "[144 rows x 5 columns]"
      ]
     },
     "execution_count": 360,
     "metadata": {},
     "output_type": "execute_result"
    }
   ],
   "source": [
    "df"
   ]
  },
  {
   "cell_type": "markdown",
   "id": "b7bd35b8",
   "metadata": {},
   "source": [
    "¿Cuántas observaciones se pueden clasificar como casos extremos?"
   ]
  },
  {
   "cell_type": "code",
   "execution_count": 361,
   "id": "603cd18d",
   "metadata": {},
   "outputs": [
    {
     "data": {
      "text/plain": [
       "0    91\n",
       "1    53\n",
       "Name: outlier, dtype: int64"
      ]
     },
     "execution_count": 361,
     "metadata": {},
     "output_type": "execute_result"
    }
   ],
   "source": [
    "df[\"outlier\"].value_counts()"
   ]
  },
  {
   "cell_type": "code",
   "execution_count": null,
   "id": "760bb6d4",
   "metadata": {},
   "outputs": [],
   "source": [
    "#se obtuvieron 53 outlier"
   ]
  }
 ],
 "metadata": {
  "kernelspec": {
   "display_name": "Python 3 (ipykernel)",
   "language": "python",
   "name": "python3"
  },
  "language_info": {
   "codemirror_mode": {
    "name": "ipython",
    "version": 3
   },
   "file_extension": ".py",
   "mimetype": "text/x-python",
   "name": "python",
   "nbconvert_exporter": "python",
   "pygments_lexer": "ipython3",
   "version": "3.9.7"
  }
 },
 "nbformat": 4,
 "nbformat_minor": 5
}
