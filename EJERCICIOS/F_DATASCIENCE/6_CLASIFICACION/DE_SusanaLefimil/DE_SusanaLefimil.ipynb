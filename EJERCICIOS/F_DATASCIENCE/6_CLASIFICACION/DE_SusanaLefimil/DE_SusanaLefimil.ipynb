{
 "cells": [
  {
   "cell_type": "markdown",
   "id": "6f8948fe",
   "metadata": {},
   "source": [
    "Desafío 1: Preparación del ambiente de trabajo"
   ]
  },
  {
   "cell_type": "code",
   "execution_count": 54,
   "id": "fe97b177",
   "metadata": {},
   "outputs": [],
   "source": [
    "import matplotlib.pyplot as plt\n",
    "import pandas as pd\n",
    "import numpy as np\n",
    "import seaborn as sns\n",
    "import scipy.stats as stats\n",
    "from scipy.stats import norm\n",
    "from sklearn.preprocessing import PolynomialFeatures as polynom\n",
    "from sklearn.linear_model import LinearRegression as linreg\n",
    "from sklearn.pipeline import make_pipeline\n",
    "from sklearn.metrics import mean_squared_error, r2_score\n",
    "from sklearn.model_selection import train_test_split\n",
    "from sklearn.model_selection import GridSearchCV\n",
    "from sklearn.linear_model import LogisticRegression\n",
    "from sklearn.preprocessing import StandardScaler\n",
    "import statsmodels.formula.api as smf\n",
    "\n",
    "plt.style.use('seaborn-whitegrid')\n",
    "\n",
    "from sklearn.metrics import classification_report\n",
    "from sklearn.metrics import auc\n",
    "from sklearn.metrics import roc_auc_score\n",
    "from sklearn.metrics import roc_curve\n",
    "from sklearn.metrics import accuracy_score\n",
    "\n",
    "import warnings\n",
    "warnings.filterwarnings(\"ignore\")\n"
   ]
  },
  {
   "cell_type": "code",
   "execution_count": 55,
   "id": "b8398043",
   "metadata": {},
   "outputs": [],
   "source": [
    "df = pd.read_csv('default_credit.csv')"
   ]
  },
  {
   "cell_type": "code",
   "execution_count": 56,
   "id": "724dddd3",
   "metadata": {},
   "outputs": [
    {
     "data": {
      "text/html": [
       "<div>\n",
       "<style scoped>\n",
       "    .dataframe tbody tr th:only-of-type {\n",
       "        vertical-align: middle;\n",
       "    }\n",
       "\n",
       "    .dataframe tbody tr th {\n",
       "        vertical-align: top;\n",
       "    }\n",
       "\n",
       "    .dataframe thead th {\n",
       "        text-align: right;\n",
       "    }\n",
       "</style>\n",
       "<table border=\"1\" class=\"dataframe\">\n",
       "  <thead>\n",
       "    <tr style=\"text-align: right;\">\n",
       "      <th></th>\n",
       "      <th>index</th>\n",
       "      <th>default</th>\n",
       "      <th>student</th>\n",
       "      <th>balance</th>\n",
       "      <th>income</th>\n",
       "    </tr>\n",
       "  </thead>\n",
       "  <tbody>\n",
       "    <tr>\n",
       "      <th>0</th>\n",
       "      <td>1</td>\n",
       "      <td>No</td>\n",
       "      <td>No</td>\n",
       "      <td>729.526495</td>\n",
       "      <td>44361.625074</td>\n",
       "    </tr>\n",
       "    <tr>\n",
       "      <th>1</th>\n",
       "      <td>2</td>\n",
       "      <td>No</td>\n",
       "      <td>Yes</td>\n",
       "      <td>817.180407</td>\n",
       "      <td>12106.134700</td>\n",
       "    </tr>\n",
       "    <tr>\n",
       "      <th>2</th>\n",
       "      <td>3</td>\n",
       "      <td>No</td>\n",
       "      <td>No</td>\n",
       "      <td>1073.549164</td>\n",
       "      <td>31767.138947</td>\n",
       "    </tr>\n",
       "    <tr>\n",
       "      <th>3</th>\n",
       "      <td>4</td>\n",
       "      <td>No</td>\n",
       "      <td>No</td>\n",
       "      <td>529.250605</td>\n",
       "      <td>35704.493935</td>\n",
       "    </tr>\n",
       "    <tr>\n",
       "      <th>4</th>\n",
       "      <td>5</td>\n",
       "      <td>No</td>\n",
       "      <td>No</td>\n",
       "      <td>785.655883</td>\n",
       "      <td>38463.495879</td>\n",
       "    </tr>\n",
       "  </tbody>\n",
       "</table>\n",
       "</div>"
      ],
      "text/plain": [
       "   index default student      balance        income\n",
       "0      1      No      No   729.526495  44361.625074\n",
       "1      2      No     Yes   817.180407  12106.134700\n",
       "2      3      No      No  1073.549164  31767.138947\n",
       "3      4      No      No   529.250605  35704.493935\n",
       "4      5      No      No   785.655883  38463.495879"
      ]
     },
     "execution_count": 56,
     "metadata": {},
     "output_type": "execute_result"
    }
   ],
   "source": [
    "df.head()"
   ]
  },
  {
   "cell_type": "code",
   "execution_count": 57,
   "id": "13a0a0f7",
   "metadata": {},
   "outputs": [],
   "source": [
    "df = df.drop(columns='index')"
   ]
  },
  {
   "cell_type": "code",
   "execution_count": 58,
   "id": "6df830aa",
   "metadata": {},
   "outputs": [
    {
     "data": {
      "text/html": [
       "<div>\n",
       "<style scoped>\n",
       "    .dataframe tbody tr th:only-of-type {\n",
       "        vertical-align: middle;\n",
       "    }\n",
       "\n",
       "    .dataframe tbody tr th {\n",
       "        vertical-align: top;\n",
       "    }\n",
       "\n",
       "    .dataframe thead th {\n",
       "        text-align: right;\n",
       "    }\n",
       "</style>\n",
       "<table border=\"1\" class=\"dataframe\">\n",
       "  <thead>\n",
       "    <tr style=\"text-align: right;\">\n",
       "      <th></th>\n",
       "      <th>default</th>\n",
       "      <th>student</th>\n",
       "      <th>balance</th>\n",
       "      <th>income</th>\n",
       "    </tr>\n",
       "  </thead>\n",
       "  <tbody>\n",
       "    <tr>\n",
       "      <th>0</th>\n",
       "      <td>No</td>\n",
       "      <td>No</td>\n",
       "      <td>729.526495</td>\n",
       "      <td>44361.625074</td>\n",
       "    </tr>\n",
       "    <tr>\n",
       "      <th>1</th>\n",
       "      <td>No</td>\n",
       "      <td>Yes</td>\n",
       "      <td>817.180407</td>\n",
       "      <td>12106.134700</td>\n",
       "    </tr>\n",
       "    <tr>\n",
       "      <th>2</th>\n",
       "      <td>No</td>\n",
       "      <td>No</td>\n",
       "      <td>1073.549164</td>\n",
       "      <td>31767.138947</td>\n",
       "    </tr>\n",
       "    <tr>\n",
       "      <th>3</th>\n",
       "      <td>No</td>\n",
       "      <td>No</td>\n",
       "      <td>529.250605</td>\n",
       "      <td>35704.493935</td>\n",
       "    </tr>\n",
       "    <tr>\n",
       "      <th>4</th>\n",
       "      <td>No</td>\n",
       "      <td>No</td>\n",
       "      <td>785.655883</td>\n",
       "      <td>38463.495879</td>\n",
       "    </tr>\n",
       "  </tbody>\n",
       "</table>\n",
       "</div>"
      ],
      "text/plain": [
       "  default student      balance        income\n",
       "0      No      No   729.526495  44361.625074\n",
       "1      No     Yes   817.180407  12106.134700\n",
       "2      No      No  1073.549164  31767.138947\n",
       "3      No      No   529.250605  35704.493935\n",
       "4      No      No   785.655883  38463.495879"
      ]
     },
     "execution_count": 58,
     "metadata": {},
     "output_type": "execute_result"
    }
   ],
   "source": [
    "df.head()"
   ]
  },
  {
   "cell_type": "code",
   "execution_count": 59,
   "id": "f92e8c65",
   "metadata": {},
   "outputs": [
    {
     "name": "stdout",
     "output_type": "stream",
     "text": [
      "<class 'pandas.core.frame.DataFrame'>\n",
      "RangeIndex: 10000 entries, 0 to 9999\n",
      "Data columns (total 4 columns):\n",
      " #   Column   Non-Null Count  Dtype  \n",
      "---  ------   --------------  -----  \n",
      " 0   default  10000 non-null  object \n",
      " 1   student  10000 non-null  object \n",
      " 2   balance  10000 non-null  float64\n",
      " 3   income   10000 non-null  float64\n",
      "dtypes: float64(2), object(2)\n",
      "memory usage: 312.6+ KB\n"
     ]
    }
   ],
   "source": [
    "df.info()"
   ]
  },
  {
   "cell_type": "markdown",
   "id": "9260b61a",
   "metadata": {},
   "source": [
    "Desafío 2: Análisis exploratorio"
   ]
  },
  {
   "cell_type": "code",
   "execution_count": 60,
   "id": "e674ba6a",
   "metadata": {},
   "outputs": [],
   "source": [
    "#Explore las principales relaciones entre las variables. Utilizando los métodos\n",
    "#boxplot y lmplot de seaborn implemente los siguientes gráficos\n",
    "a='balance'\n",
    "b='income'\n",
    "data=df\n",
    "hue1='student'\n",
    "hue2='default'"
   ]
  },
  {
   "cell_type": "code",
   "execution_count": 61,
   "id": "3508c06f",
   "metadata": {},
   "outputs": [
    {
     "data": {
      "text/plain": [
       "<AxesSubplot:xlabel='balance', ylabel='student'>"
      ]
     },
     "execution_count": 61,
     "metadata": {},
     "output_type": "execute_result"
    },
    {
     "data": {
      "image/png": "[encoded data removed]",
      "text/plain": [
       "<Figure size 432x288 with 1 Axes>"
      ]
     },
     "metadata": {},
     "output_type": "display_data"
    }
   ],
   "source": [
    " #Un boxplot del balance total de las cuentas, segmentado por el status de\n",
    "#estudiante.\n",
    "sns.boxplot(data=data, x=a, y=hue1 )\n"
   ]
  },
  {
   "cell_type": "raw",
   "id": "2536ac81",
   "metadata": {},
   "source": [
    "Se observa mayor balance en estudiantes que en no estudiantes"
   ]
  },
  {
   "cell_type": "code",
   "execution_count": 63,
   "id": "62da9f0f",
   "metadata": {},
   "outputs": [
    {
     "data": {
      "text/plain": [
       "<AxesSubplot:xlabel='income', ylabel='student'>"
      ]
     },
     "execution_count": 63,
     "metadata": {},
     "output_type": "execute_result"
    },
    {
     "data": {
      "image/png": "[encoded data removed]",
      "text/plain": [
       "<Figure size 432x288 with 1 Axes>"
      ]
     },
     "metadata": {},
     "output_type": "display_data"
    }
   ],
   "source": [
    "#Un boxplot del ingreso total de cada cliente, segmentado por el status de\n",
    "#estudiante.\n",
    "sns.boxplot(data=data, x=b, y=hue1 )"
   ]
  },
  {
   "cell_type": "raw",
   "id": "3af3528b",
   "metadata": {},
   "source": [
    "Se observa mayores ingreso en no estudiantes que estudiantes"
   ]
  },
  {
   "cell_type": "code",
   "execution_count": 64,
   "id": "2dafe018",
   "metadata": {},
   "outputs": [
    {
     "data": {
      "text/plain": [
       "<AxesSubplot:xlabel='balance', ylabel='default'>"
      ]
     },
     "execution_count": 64,
     "metadata": {},
     "output_type": "execute_result"
    },
    {
     "data": {
      "image/png": "[encoded data removed]",
      "text/plain": [
       "<Figure size 432x288 with 1 Axes>"
      ]
     },
     "metadata": {},
     "output_type": "display_data"
    }
   ],
   "source": [
    "# Un boxplot del balance total de las cuentas, segmentado por el status de\n",
    "#default.\n",
    "sns.boxplot(data=data, x=a, y=hue2 )"
   ]
  },
  {
   "cell_type": "raw",
   "id": "6da43e0b",
   "metadata": {},
   "source": [
    "Se observa mayor balance en clientes con morosidad"
   ]
  },
  {
   "cell_type": "code",
   "execution_count": 65,
   "id": "82cf58ba",
   "metadata": {},
   "outputs": [
    {
     "data": {
      "text/plain": [
       "<AxesSubplot:xlabel='income', ylabel='default'>"
      ]
     },
     "execution_count": 65,
     "metadata": {},
     "output_type": "execute_result"
    },
    {
     "data": {
      "image/png": "[encoded data removed]",
      "text/plain": [
       "<Figure size 432x288 with 1 Axes>"
      ]
     },
     "metadata": {},
     "output_type": "display_data"
    }
   ],
   "source": [
    "# Un boxplot del ingreso total de cada cliente, segmentado por el status de\n",
    "#default.\n",
    "sns.boxplot(data=data, x=b, y=hue2 )"
   ]
  },
  {
   "cell_type": "raw",
   "id": "9da3e780",
   "metadata": {},
   "source": [
    "Se observa ingresos levemente similares entre clientes con o sin morosidad"
   ]
  },
  {
   "cell_type": "code",
   "execution_count": 66,
   "id": "de36e222",
   "metadata": {},
   "outputs": [
    {
     "data": {
      "text/plain": [
       "<seaborn.axisgrid.FacetGrid at 0x217965744c0>"
      ]
     },
     "execution_count": 66,
     "metadata": {},
     "output_type": "execute_result"
    },
    {
     "data": {
      "image/png": "[encoded data removed]",
      "text/plain": [
       "<Figure size 412.375x360 with 1 Axes>"
      ]
     },
     "metadata": {},
     "output_type": "display_data"
    }
   ],
   "source": [
    "#Un diagrama de dispersión entre balance e income, segmentado por el status\n",
    "#de estudiante.\n",
    "\n",
    "sns.lmplot(x=a,y=b,hue=hue1, data=data)\n"
   ]
  },
  {
   "cell_type": "raw",
   "id": "e3f3598d",
   "metadata": {},
   "source": [
    "Se observa mayor ingreso en no estudiantes"
   ]
  },
  {
   "cell_type": "code",
   "execution_count": 67,
   "id": "68ad4d4b",
   "metadata": {},
   "outputs": [
    {
     "data": {
      "text/plain": [
       "<seaborn.axisgrid.FacetGrid at 0x217965e5d30>"
      ]
     },
     "execution_count": 67,
     "metadata": {},
     "output_type": "execute_result"
    },
    {
     "data": {
      "image/png": "[encoded data removed]",
      "text/plain": [
       "<Figure size 412.375x360 with 1 Axes>"
      ]
     },
     "metadata": {},
     "output_type": "display_data"
    }
   ],
   "source": [
    "# Un diagrama de dispersión entre balance e income, segmentado por el status\n",
    "#de default.\n",
    "sns.lmplot(x=a, y=b,hue=hue2, data=data)"
   ]
  },
  {
   "cell_type": "raw",
   "id": "af485567",
   "metadata": {},
   "source": [
    "Se observa mayor balance en clientes con morosidad"
   ]
  },
  {
   "cell_type": "markdown",
   "id": "670f0d62",
   "metadata": {},
   "source": [
    "Desafío 3: Modelación econométrica"
   ]
  },
  {
   "cell_type": "code",
   "execution_count": 20,
   "id": "6e20f641",
   "metadata": {},
   "outputs": [],
   "source": [
    "#Recodifique las variables student y default para que adquieran atributos numéricos."
   ]
  },
  {
   "cell_type": "code",
   "execution_count": 68,
   "id": "c0ba2b46",
   "metadata": {},
   "outputs": [
    {
     "name": "stdout",
     "output_type": "stream",
     "text": [
      "<class 'pandas.core.frame.DataFrame'>\n",
      "RangeIndex: 10000 entries, 0 to 9999\n",
      "Data columns (total 4 columns):\n",
      " #   Column   Non-Null Count  Dtype  \n",
      "---  ------   --------------  -----  \n",
      " 0   default  10000 non-null  object \n",
      " 1   student  10000 non-null  object \n",
      " 2   balance  10000 non-null  float64\n",
      " 3   income   10000 non-null  float64\n",
      "dtypes: float64(2), object(2)\n",
      "memory usage: 312.6+ KB\n"
     ]
    }
   ],
   "source": [
    "df.info()"
   ]
  },
  {
   "cell_type": "code",
   "execution_count": 69,
   "id": "cf4cfab3",
   "metadata": {},
   "outputs": [
    {
     "data": {
      "text/plain": [
       "No     7056\n",
       "Yes    2944\n",
       "Name: student, dtype: int64"
      ]
     },
     "execution_count": 69,
     "metadata": {},
     "output_type": "execute_result"
    }
   ],
   "source": [
    "df['student'].value_counts()"
   ]
  },
  {
   "cell_type": "code",
   "execution_count": 70,
   "id": "a7d29b7d",
   "metadata": {},
   "outputs": [
    {
     "data": {
      "text/plain": [
       "No     9667\n",
       "Yes     333\n",
       "Name: default, dtype: int64"
      ]
     },
     "execution_count": 70,
     "metadata": {},
     "output_type": "execute_result"
    }
   ],
   "source": [
    "df['default'].value_counts()"
   ]
  },
  {
   "cell_type": "code",
   "execution_count": 71,
   "id": "e6b4eada",
   "metadata": {},
   "outputs": [],
   "source": [
    "df2=df.copy()"
   ]
  },
  {
   "cell_type": "code",
   "execution_count": 72,
   "id": "c9091deb",
   "metadata": {},
   "outputs": [],
   "source": [
    "df2['student'] = np.where(df2['student'] == 'Yes', 1, 0)"
   ]
  },
  {
   "cell_type": "code",
   "execution_count": 73,
   "id": "8cac6728",
   "metadata": {},
   "outputs": [],
   "source": [
    "df2['default'] = np.where(df2['default'] == 'Yes', 1, 0)"
   ]
  },
  {
   "cell_type": "code",
   "execution_count": 74,
   "id": "8192ec54",
   "metadata": {},
   "outputs": [
    {
     "data": {
      "text/html": [
       "<div>\n",
       "<style scoped>\n",
       "    .dataframe tbody tr th:only-of-type {\n",
       "        vertical-align: middle;\n",
       "    }\n",
       "\n",
       "    .dataframe tbody tr th {\n",
       "        vertical-align: top;\n",
       "    }\n",
       "\n",
       "    .dataframe thead th {\n",
       "        text-align: right;\n",
       "    }\n",
       "</style>\n",
       "<table border=\"1\" class=\"dataframe\">\n",
       "  <thead>\n",
       "    <tr style=\"text-align: right;\">\n",
       "      <th></th>\n",
       "      <th>default</th>\n",
       "      <th>student</th>\n",
       "      <th>balance</th>\n",
       "      <th>income</th>\n",
       "    </tr>\n",
       "  </thead>\n",
       "  <tbody>\n",
       "    <tr>\n",
       "      <th>0</th>\n",
       "      <td>0</td>\n",
       "      <td>0</td>\n",
       "      <td>729.526495</td>\n",
       "      <td>44361.625074</td>\n",
       "    </tr>\n",
       "    <tr>\n",
       "      <th>1</th>\n",
       "      <td>0</td>\n",
       "      <td>1</td>\n",
       "      <td>817.180407</td>\n",
       "      <td>12106.134700</td>\n",
       "    </tr>\n",
       "    <tr>\n",
       "      <th>2</th>\n",
       "      <td>0</td>\n",
       "      <td>0</td>\n",
       "      <td>1073.549164</td>\n",
       "      <td>31767.138947</td>\n",
       "    </tr>\n",
       "    <tr>\n",
       "      <th>3</th>\n",
       "      <td>0</td>\n",
       "      <td>0</td>\n",
       "      <td>529.250605</td>\n",
       "      <td>35704.493935</td>\n",
       "    </tr>\n",
       "    <tr>\n",
       "      <th>4</th>\n",
       "      <td>0</td>\n",
       "      <td>0</td>\n",
       "      <td>785.655883</td>\n",
       "      <td>38463.495879</td>\n",
       "    </tr>\n",
       "    <tr>\n",
       "      <th>...</th>\n",
       "      <td>...</td>\n",
       "      <td>...</td>\n",
       "      <td>...</td>\n",
       "      <td>...</td>\n",
       "    </tr>\n",
       "    <tr>\n",
       "      <th>9995</th>\n",
       "      <td>0</td>\n",
       "      <td>0</td>\n",
       "      <td>711.555020</td>\n",
       "      <td>52992.378914</td>\n",
       "    </tr>\n",
       "    <tr>\n",
       "      <th>9996</th>\n",
       "      <td>0</td>\n",
       "      <td>0</td>\n",
       "      <td>757.962918</td>\n",
       "      <td>19660.721768</td>\n",
       "    </tr>\n",
       "    <tr>\n",
       "      <th>9997</th>\n",
       "      <td>0</td>\n",
       "      <td>0</td>\n",
       "      <td>845.411989</td>\n",
       "      <td>58636.156984</td>\n",
       "    </tr>\n",
       "    <tr>\n",
       "      <th>9998</th>\n",
       "      <td>0</td>\n",
       "      <td>0</td>\n",
       "      <td>1569.009053</td>\n",
       "      <td>36669.112365</td>\n",
       "    </tr>\n",
       "    <tr>\n",
       "      <th>9999</th>\n",
       "      <td>0</td>\n",
       "      <td>1</td>\n",
       "      <td>200.922183</td>\n",
       "      <td>16862.952321</td>\n",
       "    </tr>\n",
       "  </tbody>\n",
       "</table>\n",
       "<p>10000 rows × 4 columns</p>\n",
       "</div>"
      ],
      "text/plain": [
       "      default  student      balance        income\n",
       "0           0        0   729.526495  44361.625074\n",
       "1           0        1   817.180407  12106.134700\n",
       "2           0        0  1073.549164  31767.138947\n",
       "3           0        0   529.250605  35704.493935\n",
       "4           0        0   785.655883  38463.495879\n",
       "...       ...      ...          ...           ...\n",
       "9995        0        0   711.555020  52992.378914\n",
       "9996        0        0   757.962918  19660.721768\n",
       "9997        0        0   845.411989  58636.156984\n",
       "9998        0        0  1569.009053  36669.112365\n",
       "9999        0        1   200.922183  16862.952321\n",
       "\n",
       "[10000 rows x 4 columns]"
      ]
     },
     "execution_count": 74,
     "metadata": {},
     "output_type": "execute_result"
    }
   ],
   "source": [
    "df2"
   ]
  },
  {
   "cell_type": "code",
   "execution_count": 75,
   "id": "ec20331e",
   "metadata": {},
   "outputs": [],
   "source": [
    "# Implemente el siguiente modelo econométrico:"
   ]
  },
  {
   "cell_type": "code",
   "execution_count": 76,
   "id": "6c4cdcac",
   "metadata": {},
   "outputs": [
    {
     "data": {
      "text/plain": [
       "'student+balance+income'"
      ]
     },
     "execution_count": 76,
     "metadata": {},
     "output_type": "execute_result"
    }
   ],
   "source": [
    "columnas = list(df.columns)\n",
    "columnas.remove('default')\n",
    "sum_var = \"+\".join(columnas)\n",
    "sum_var"
   ]
  },
  {
   "cell_type": "code",
   "execution_count": 77,
   "id": "06f34c0a",
   "metadata": {},
   "outputs": [
    {
     "name": "stdout",
     "output_type": "stream",
     "text": [
      "Optimization terminated successfully.\n",
      "         Current function value: 0.078577\n",
      "         Iterations 10\n"
     ]
    }
   ],
   "source": [
    "m1_logit = smf.logit('default ~ '+sum_var, df2).fit()"
   ]
  },
  {
   "cell_type": "code",
   "execution_count": 78,
   "id": "1f472ad7",
   "metadata": {},
   "outputs": [],
   "source": [
    "#A partir de este modelo, depúrelo y mantenga las principales características. Ejecute\n",
    "#de nuevo el modelo y comente brevemente sobre el comportamiento de los\n",
    "#atributos."
   ]
  },
  {
   "cell_type": "code",
   "execution_count": 79,
   "id": "7ee4095f",
   "metadata": {},
   "outputs": [
    {
     "data": {
      "text/html": [
       "<table class=\"simpletable\">\n",
       "<tr>\n",
       "        <td>Model:</td>              <td>Logit</td>      <td>Pseudo R-squared:</td>    <td>0.462</td>   \n",
       "</tr>\n",
       "<tr>\n",
       "  <td>Dependent Variable:</td>      <td>default</td>           <td>AIC:</td>         <td>1579.5448</td> \n",
       "</tr>\n",
       "<tr>\n",
       "         <td>Date:</td>        <td>2022-10-29 19:01</td>       <td>BIC:</td>         <td>1608.3862</td> \n",
       "</tr>\n",
       "<tr>\n",
       "   <td>No. Observations:</td>        <td>10000</td>       <td>Log-Likelihood:</td>    <td>-785.77</td>  \n",
       "</tr>\n",
       "<tr>\n",
       "       <td>Df Model:</td>              <td>3</td>            <td>LL-Null:</td>        <td>-1460.3</td>  \n",
       "</tr>\n",
       "<tr>\n",
       "     <td>Df Residuals:</td>          <td>9996</td>         <td>LLR p-value:</td>    <td>3.2575e-292</td>\n",
       "</tr>\n",
       "<tr>\n",
       "      <td>Converged:</td>           <td>1.0000</td>           <td>Scale:</td>         <td>1.0000</td>   \n",
       "</tr>\n",
       "<tr>\n",
       "    <td>No. Iterations:</td>        <td>10.0000</td>             <td></td>               <td></td>      \n",
       "</tr>\n",
       "</table>\n",
       "<table class=\"simpletable\">\n",
       "<tr>\n",
       "      <td></td>        <th>Coef.</th>  <th>Std.Err.</th>     <th>z</th>     <th>P>|z|</th>  <th>[0.025</th>  <th>0.975]</th> \n",
       "</tr>\n",
       "<tr>\n",
       "  <th>Intercept</th> <td>-10.8690</td>  <td>0.4923</td>  <td>-22.0793</td> <td>0.0000</td> <td>-11.8339</td> <td>-9.9042</td>\n",
       "</tr>\n",
       "<tr>\n",
       "  <th>student</th>    <td>-0.6468</td>  <td>0.2363</td>   <td>-2.7376</td> <td>0.0062</td>  <td>-1.1098</td> <td>-0.1837</td>\n",
       "</tr>\n",
       "<tr>\n",
       "  <th>balance</th>    <td>0.0057</td>   <td>0.0002</td>   <td>24.7365</td> <td>0.0000</td>  <td>0.0053</td>  <td>0.0062</td> \n",
       "</tr>\n",
       "<tr>\n",
       "  <th>income</th>     <td>0.0000</td>   <td>0.0000</td>   <td>0.3698</td>  <td>0.7115</td>  <td>-0.0000</td> <td>0.0000</td> \n",
       "</tr>\n",
       "</table>"
      ],
      "text/plain": [
       "<class 'statsmodels.iolib.summary2.Summary'>\n",
       "\"\"\"\n",
       "                          Results: Logit\n",
       "==================================================================\n",
       "Model:              Logit            Pseudo R-squared: 0.462      \n",
       "Dependent Variable: default          AIC:              1579.5448  \n",
       "Date:               2022-10-29 19:01 BIC:              1608.3862  \n",
       "No. Observations:   10000            Log-Likelihood:   -785.77    \n",
       "Df Model:           3                LL-Null:          -1460.3    \n",
       "Df Residuals:       9996             LLR p-value:      3.2575e-292\n",
       "Converged:          1.0000           Scale:            1.0000     \n",
       "No. Iterations:     10.0000                                       \n",
       "-------------------------------------------------------------------\n",
       "             Coef.    Std.Err.     z      P>|z|    [0.025    0.975]\n",
       "-------------------------------------------------------------------\n",
       "Intercept   -10.8690    0.4923  -22.0793  0.0000  -11.8339  -9.9042\n",
       "student      -0.6468    0.2363   -2.7376  0.0062   -1.1098  -0.1837\n",
       "balance       0.0057    0.0002   24.7365  0.0000    0.0053   0.0062\n",
       "income        0.0000    0.0000    0.3698  0.7115   -0.0000   0.0000\n",
       "==================================================================\n",
       "\n",
       "\"\"\""
      ]
     },
     "execution_count": 79,
     "metadata": {},
     "output_type": "execute_result"
    }
   ],
   "source": [
    "m1_logit.summary2()"
   ]
  },
  {
   "cell_type": "code",
   "execution_count": 80,
   "id": "b426ff9e",
   "metadata": {},
   "outputs": [
    {
     "name": "stdout",
     "output_type": "stream",
     "text": [
      "Optimization terminated successfully.\n",
      "         Current function value: 0.078584\n",
      "         Iterations 10\n"
     ]
    }
   ],
   "source": [
    "# p valor 0.05\n",
    "var_d='student + balance'\n",
    "m2_logit = smf.logit('default ~ '+var_d, df2).fit()"
   ]
  },
  {
   "cell_type": "code",
   "execution_count": 34,
   "id": "c8da82a7",
   "metadata": {},
   "outputs": [
    {
     "data": {
      "text/html": [
       "<table class=\"simpletable\">\n",
       "<tr>\n",
       "        <td>Model:</td>              <td>Logit</td>      <td>Pseudo R-squared:</td>    <td>0.462</td>   \n",
       "</tr>\n",
       "<tr>\n",
       "  <td>Dependent Variable:</td>      <td>default</td>           <td>AIC:</td>         <td>1577.6816</td> \n",
       "</tr>\n",
       "<tr>\n",
       "         <td>Date:</td>        <td>2022-10-29 18:52</td>       <td>BIC:</td>         <td>1599.3126</td> \n",
       "</tr>\n",
       "<tr>\n",
       "   <td>No. Observations:</td>        <td>10000</td>       <td>Log-Likelihood:</td>    <td>-785.84</td>  \n",
       "</tr>\n",
       "<tr>\n",
       "       <td>Df Model:</td>              <td>2</td>            <td>LL-Null:</td>        <td>-1460.3</td>  \n",
       "</tr>\n",
       "<tr>\n",
       "     <td>Df Residuals:</td>          <td>9997</td>         <td>LLR p-value:</td>    <td>1.1893e-293</td>\n",
       "</tr>\n",
       "<tr>\n",
       "      <td>Converged:</td>           <td>1.0000</td>           <td>Scale:</td>         <td>1.0000</td>   \n",
       "</tr>\n",
       "<tr>\n",
       "    <td>No. Iterations:</td>        <td>10.0000</td>             <td></td>               <td></td>      \n",
       "</tr>\n",
       "</table>\n",
       "<table class=\"simpletable\">\n",
       "<tr>\n",
       "      <td></td>        <th>Coef.</th>  <th>Std.Err.</th>     <th>z</th>     <th>P>|z|</th>  <th>[0.025</th>   <th>0.975]</th> \n",
       "</tr>\n",
       "<tr>\n",
       "  <th>Intercept</th> <td>-10.7495</td>  <td>0.3692</td>  <td>-29.1149</td> <td>0.0000</td> <td>-11.4731</td> <td>-10.0259</td>\n",
       "</tr>\n",
       "<tr>\n",
       "  <th>student</th>    <td>-0.7149</td>  <td>0.1475</td>   <td>-4.8459</td> <td>0.0000</td>  <td>-1.0040</td>  <td>-0.4257</td>\n",
       "</tr>\n",
       "<tr>\n",
       "  <th>balance</th>    <td>0.0057</td>   <td>0.0002</td>   <td>24.7485</td> <td>0.0000</td>  <td>0.0053</td>   <td>0.0062</td> \n",
       "</tr>\n",
       "</table>"
      ],
      "text/plain": [
       "<class 'statsmodels.iolib.summary2.Summary'>\n",
       "\"\"\"\n",
       "                          Results: Logit\n",
       "==================================================================\n",
       "Model:              Logit            Pseudo R-squared: 0.462      \n",
       "Dependent Variable: default          AIC:              1577.6816  \n",
       "Date:               2022-10-29 18:52 BIC:              1599.3126  \n",
       "No. Observations:   10000            Log-Likelihood:   -785.84    \n",
       "Df Model:           2                LL-Null:          -1460.3    \n",
       "Df Residuals:       9997             LLR p-value:      1.1893e-293\n",
       "Converged:          1.0000           Scale:            1.0000     \n",
       "No. Iterations:     10.0000                                       \n",
       "-------------------------------------------------------------------\n",
       "            Coef.    Std.Err.     z      P>|z|    [0.025    0.975] \n",
       "-------------------------------------------------------------------\n",
       "Intercept  -10.7495    0.3692  -29.1149  0.0000  -11.4731  -10.0259\n",
       "student     -0.7149    0.1475   -4.8459  0.0000   -1.0040   -0.4257\n",
       "balance      0.0057    0.0002   24.7485  0.0000    0.0053    0.0062\n",
       "==================================================================\n",
       "\n",
       "\"\"\""
      ]
     },
     "execution_count": 34,
     "metadata": {},
     "output_type": "execute_result"
    }
   ],
   "source": [
    "m2_logit.summary2()"
   ]
  },
  {
   "cell_type": "raw",
   "id": "8101a44d",
   "metadata": {},
   "source": [
    "El Pseudo R^2 de ambos modelos es igual (explican la varianza del modelo en aproximadamente un 46%)\n",
    "El modelo depurado presenta un p valor menor de la variable student. "
   ]
  },
  {
   "cell_type": "markdown",
   "id": "f2c35bb6",
   "metadata": {},
   "source": [
    "Desafío 4: Entrenar. A partir del modelo depurado, genere un modelo predictivo con las siguientes características:\n"
   ]
  },
  {
   "cell_type": "code",
   "execution_count": 81,
   "id": "97e530c4",
   "metadata": {},
   "outputs": [],
   "source": [
    "#Genera subconjuntos de entrenamiento y pruebas, separando el 33% de la muestra en el conjunto de pruebas."
   ]
  },
  {
   "cell_type": "code",
   "execution_count": 82,
   "id": "9be3fafc",
   "metadata": {},
   "outputs": [
    {
     "data": {
      "text/html": [
       "<div>\n",
       "<style scoped>\n",
       "    .dataframe tbody tr th:only-of-type {\n",
       "        vertical-align: middle;\n",
       "    }\n",
       "\n",
       "    .dataframe tbody tr th {\n",
       "        vertical-align: top;\n",
       "    }\n",
       "\n",
       "    .dataframe thead th {\n",
       "        text-align: right;\n",
       "    }\n",
       "</style>\n",
       "<table border=\"1\" class=\"dataframe\">\n",
       "  <thead>\n",
       "    <tr style=\"text-align: right;\">\n",
       "      <th></th>\n",
       "      <th>default</th>\n",
       "      <th>student</th>\n",
       "      <th>balance</th>\n",
       "      <th>income</th>\n",
       "    </tr>\n",
       "  </thead>\n",
       "  <tbody>\n",
       "    <tr>\n",
       "      <th>0</th>\n",
       "      <td>0</td>\n",
       "      <td>0</td>\n",
       "      <td>729.526495</td>\n",
       "      <td>44361.625074</td>\n",
       "    </tr>\n",
       "    <tr>\n",
       "      <th>1</th>\n",
       "      <td>0</td>\n",
       "      <td>1</td>\n",
       "      <td>817.180407</td>\n",
       "      <td>12106.134700</td>\n",
       "    </tr>\n",
       "    <tr>\n",
       "      <th>2</th>\n",
       "      <td>0</td>\n",
       "      <td>0</td>\n",
       "      <td>1073.549164</td>\n",
       "      <td>31767.138947</td>\n",
       "    </tr>\n",
       "    <tr>\n",
       "      <th>3</th>\n",
       "      <td>0</td>\n",
       "      <td>0</td>\n",
       "      <td>529.250605</td>\n",
       "      <td>35704.493935</td>\n",
       "    </tr>\n",
       "    <tr>\n",
       "      <th>4</th>\n",
       "      <td>0</td>\n",
       "      <td>0</td>\n",
       "      <td>785.655883</td>\n",
       "      <td>38463.495879</td>\n",
       "    </tr>\n",
       "    <tr>\n",
       "      <th>...</th>\n",
       "      <td>...</td>\n",
       "      <td>...</td>\n",
       "      <td>...</td>\n",
       "      <td>...</td>\n",
       "    </tr>\n",
       "    <tr>\n",
       "      <th>9995</th>\n",
       "      <td>0</td>\n",
       "      <td>0</td>\n",
       "      <td>711.555020</td>\n",
       "      <td>52992.378914</td>\n",
       "    </tr>\n",
       "    <tr>\n",
       "      <th>9996</th>\n",
       "      <td>0</td>\n",
       "      <td>0</td>\n",
       "      <td>757.962918</td>\n",
       "      <td>19660.721768</td>\n",
       "    </tr>\n",
       "    <tr>\n",
       "      <th>9997</th>\n",
       "      <td>0</td>\n",
       "      <td>0</td>\n",
       "      <td>845.411989</td>\n",
       "      <td>58636.156984</td>\n",
       "    </tr>\n",
       "    <tr>\n",
       "      <th>9998</th>\n",
       "      <td>0</td>\n",
       "      <td>0</td>\n",
       "      <td>1569.009053</td>\n",
       "      <td>36669.112365</td>\n",
       "    </tr>\n",
       "    <tr>\n",
       "      <th>9999</th>\n",
       "      <td>0</td>\n",
       "      <td>1</td>\n",
       "      <td>200.922183</td>\n",
       "      <td>16862.952321</td>\n",
       "    </tr>\n",
       "  </tbody>\n",
       "</table>\n",
       "<p>10000 rows × 4 columns</p>\n",
       "</div>"
      ],
      "text/plain": [
       "      default  student      balance        income\n",
       "0           0        0   729.526495  44361.625074\n",
       "1           0        1   817.180407  12106.134700\n",
       "2           0        0  1073.549164  31767.138947\n",
       "3           0        0   529.250605  35704.493935\n",
       "4           0        0   785.655883  38463.495879\n",
       "...       ...      ...          ...           ...\n",
       "9995        0        0   711.555020  52992.378914\n",
       "9996        0        0   757.962918  19660.721768\n",
       "9997        0        0   845.411989  58636.156984\n",
       "9998        0        0  1569.009053  36669.112365\n",
       "9999        0        1   200.922183  16862.952321\n",
       "\n",
       "[10000 rows x 4 columns]"
      ]
     },
     "execution_count": 82,
     "metadata": {},
     "output_type": "execute_result"
    }
   ],
   "source": [
    "df2"
   ]
  },
  {
   "cell_type": "code",
   "execution_count": 83,
   "id": "25f08ed4",
   "metadata": {},
   "outputs": [],
   "source": [
    "y=df2['default']"
   ]
  },
  {
   "cell_type": "code",
   "execution_count": 84,
   "id": "0cbda42f",
   "metadata": {},
   "outputs": [],
   "source": [
    "X=df2.drop(columns=['default','income'])"
   ]
  },
  {
   "cell_type": "code",
   "execution_count": 85,
   "id": "6f6c1f4d",
   "metadata": {},
   "outputs": [],
   "source": [
    "X_train, X_test, y_train, y_test = train_test_split(X, y, test_size=0.33, random_state=1111)"
   ]
  },
  {
   "cell_type": "code",
   "execution_count": 86,
   "id": "8f4520ae",
   "metadata": {},
   "outputs": [],
   "source": [
    "# Estandarice las matrices de atributos de entrenamiento y pruebas usando\n",
    "#StandardScaler() ajustado solo sobre el conjunto de entrenamiento."
   ]
  },
  {
   "cell_type": "code",
   "execution_count": 87,
   "id": "3565b51b",
   "metadata": {},
   "outputs": [],
   "source": [
    "# estandarizamos la matriz de entrenamiento\n",
    "X_train_std = StandardScaler().fit_transform(X_train)\n",
    "\n",
    "# estandarizamos la matriz de pruebas ( se usa para generar la prediccion de las clases)\n",
    "X_test_std = StandardScaler().fit_transform(X_test)\n",
    "\n"
   ]
  },
  {
   "cell_type": "code",
   "execution_count": 88,
   "id": "5a43718f",
   "metadata": {},
   "outputs": [],
   "source": [
    "#Implemente el modelo sin alterar los hiper parámetros."
   ]
  },
  {
   "cell_type": "code",
   "execution_count": 89,
   "id": "5942f9c1",
   "metadata": {},
   "outputs": [],
   "source": [
    "default_model = LogisticRegression(random_state=1111).fit(X_train_std, y_train)\n"
   ]
  },
  {
   "cell_type": "code",
   "execution_count": 90,
   "id": "e840f28a",
   "metadata": {},
   "outputs": [
    {
     "data": {
      "text/plain": [
       "LogisticRegression(random_state=1111)"
      ]
     },
     "execution_count": 90,
     "metadata": {},
     "output_type": "execute_result"
    }
   ],
   "source": [
    "default_model"
   ]
  },
  {
   "cell_type": "code",
   "execution_count": 91,
   "id": "c24504dc",
   "metadata": {},
   "outputs": [
    {
     "data": {
      "text/plain": [
       "array([[-0.4406015 ,  2.76345784]])"
      ]
     },
     "execution_count": 91,
     "metadata": {},
     "output_type": "execute_result"
    }
   ],
   "source": [
    "default_model.coef_"
   ]
  },
  {
   "cell_type": "code",
   "execution_count": 93,
   "id": "fe9b29bc",
   "metadata": {},
   "outputs": [],
   "source": [
    "# Genere la predicción de las clases y de la probabilidad."
   ]
  },
  {
   "cell_type": "code",
   "execution_count": 94,
   "id": "ed44c752",
   "metadata": {},
   "outputs": [],
   "source": [
    "#predicción de las clases\n",
    "yhat = default_model.predict(X_test_std)\n"
   ]
  },
  {
   "cell_type": "code",
   "execution_count": 95,
   "id": "f06fc05b",
   "metadata": {},
   "outputs": [],
   "source": [
    "#predicción de probabilidad.\n",
    "yhat_prob = default_model.predict_proba(X_test_std)"
   ]
  },
  {
   "cell_type": "code",
   "execution_count": 96,
   "id": "3b83b6b0",
   "metadata": {},
   "outputs": [
    {
     "data": {
      "text/plain": [
       "0.97"
      ]
     },
     "execution_count": 96,
     "metadata": {},
     "output_type": "execute_result"
    }
   ],
   "source": [
    "#exactitud de nuestro modelo\n",
    "m1_acc = accuracy_score(y_test, yhat)\n",
    "round(m1_acc,2)\n"
   ]
  },
  {
   "cell_type": "raw",
   "id": "f6f08193",
   "metadata": {},
   "source": [
    "La exactitud informa que el modelo tiene un desempeño de un 0.47% superior que una predicción azarosa."
   ]
  },
  {
   "cell_type": "code",
   "execution_count": 98,
   "id": "e3e892a3",
   "metadata": {},
   "outputs": [],
   "source": [
    "#Reporte las métricas de precisión, recall y f1 para ambas clases."
   ]
  },
  {
   "cell_type": "code",
   "execution_count": 99,
   "id": "b073afd8",
   "metadata": {},
   "outputs": [
    {
     "name": "stdout",
     "output_type": "stream",
     "text": [
      "              precision    recall  f1-score   support\n",
      "\n",
      "           0       0.97      1.00      0.98      3180\n",
      "           1       0.73      0.27      0.39       120\n",
      "\n",
      "    accuracy                           0.97      3300\n",
      "   macro avg       0.85      0.63      0.69      3300\n",
      "weighted avg       0.96      0.97      0.96      3300\n",
      "\n"
     ]
    }
   ],
   "source": [
    "print(classification_report(y_test, yhat))"
   ]
  },
  {
   "cell_type": "raw",
   "id": "0e278a3f",
   "metadata": {},
   "source": [
    "Se observa que F1 tiene una media armónica para la clase 1 de 0.39 y para la clase 0 de 0.98"
   ]
  },
  {
   "cell_type": "code",
   "execution_count": 100,
   "id": "b2af0306",
   "metadata": {},
   "outputs": [],
   "source": [
    "# Grafique la curva Receiver Operator Characteristic"
   ]
  },
  {
   "cell_type": "code",
   "execution_count": 101,
   "id": "9e59ec09",
   "metadata": {},
   "outputs": [
    {
     "data": {
      "image/png": "[encoded data removed]",
      "text/plain": [
       "<Figure size 432x288 with 1 Axes>"
      ]
     },
     "metadata": {},
     "output_type": "display_data"
    }
   ],
   "source": [
    "# reestimamos los valores predichos de nuestro modelo para obtener la probabilidad entre 0 y 1.\n",
    "yhat = default_model.predict_proba(X_test_std)[:, 1]\n",
    "\n",
    "# generamos los objetos de roc_cruve\n",
    "false_positive, true_positive, threshold = roc_curve(y_test, yhat)\n",
    "# Plot ROC curve\n",
    "plt.title('Curva ROC')\n",
    "plt.plot(false_positive, true_positive, lw=1)\n",
    "plt.plot([0, 1], ls=\"--\", lw=1)\n",
    "plt.plot([0, 0], [1, 0] , c='limegreen', lw=3), plt.plot([1, 1] ,\n",
    "c='limegreen', lw=3)\n",
    "plt.ylabel('Verdaderos Positivos')\n",
    "plt.xlabel('Falsos Positivos');"
   ]
  },
  {
   "cell_type": "code",
   "execution_count": 102,
   "id": "69867501",
   "metadata": {},
   "outputs": [
    {
     "data": {
      "text/plain": [
       "0.95"
      ]
     },
     "execution_count": 102,
     "metadata": {},
     "output_type": "execute_result"
    }
   ],
   "source": [
    "#área bajo la curva\n",
    "round(roc_auc_score(y_test, yhat),2)"
   ]
  },
  {
   "cell_type": "code",
   "execution_count": 103,
   "id": "aab8146f",
   "metadata": {},
   "outputs": [],
   "source": [
    "#En base a los pasos, comente sobre el desempeño predictivo del modelo haciendo mención a todas las métricas calculadas y a la curva ROC.\n"
   ]
  },
  {
   "cell_type": "raw",
   "id": "b82008ed",
   "metadata": {},
   "source": [
    "Se observa que la curva ROC tiene una capacidad predictiva adecuada, ya que se posiciona por sobre la\n",
    "bisectriz, lo que significa que la tasa de verdaderos positivos es mayor que la tasa de falsos\n",
    "positivos. Además tiende a acercarse a la esquina superior izquierda del gráfico.\n",
    "\n",
    "EL área bajo la curva tiene un valor de .94, esto significa que el modelo tiene un desempeño de 45% superior a un mecanismo\n",
    "de clasificación aleatoria.\n"
   ]
  },
  {
   "cell_type": "code",
   "execution_count": null,
   "id": "89dd9dc7",
   "metadata": {},
   "outputs": [],
   "source": []
  }
 ],
 "metadata": {
  "kernelspec": {
   "display_name": "Python 3 (ipykernel)",
   "language": "python",
   "name": "python3"
  },
  "language_info": {
   "codemirror_mode": {
    "name": "ipython",
    "version": 3
   },
   "file_extension": ".py",
   "mimetype": "text/x-python",
   "name": "python",
   "nbconvert_exporter": "python",
   "pygments_lexer": "ipython3",
   "version": "3.9.7"
  }
 },
 "nbformat": 4,
 "nbformat_minor": 5
}
