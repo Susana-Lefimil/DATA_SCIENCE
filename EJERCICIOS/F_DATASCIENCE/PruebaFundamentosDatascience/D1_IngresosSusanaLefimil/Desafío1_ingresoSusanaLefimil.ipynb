{
 "cells": [
  {
   "cell_type": "markdown",
   "id": "7199ae37",
   "metadata": {},
   "source": [
    "#### <center>Determinantes de ingreso"
   ]
  },
  {
   "cell_type": "markdown",
   "id": "86d15959",
   "metadata": {},
   "source": [
    "#### Hito 1"
   ]
  },
  {
   "cell_type": "markdown",
   "id": "afc0d35a",
   "metadata": {},
   "source": [
    "#### Preliminares"
   ]
  },
  {
   "cell_type": "raw",
   "id": "99d05e09",
   "metadata": {},
   "source": [
    "Descripción:\n",
    "\n",
    "Un organismo no gubernamental está interesado en las dinámicas socioeconómicas que determinan \n",
    "la desigualdad de ingreso y la erradicación de la pobreza extrema, enmarcado dentro de los objetivos \n",
    "del desarrollo del nuevo milenio del Programa de las Naciones Unidas para el Desarrollo.\n",
    "\n",
    "Se requiere el desarrollo de un modelo predictivo sobre la probabilidad que un individuo\n",
    "presente salarios por sobre o bajo los 50.000 dólares anuales, en base a una serie de\n",
    "atributos sociodemográficos.\n",
    "\n",
    "\n",
    "\n",
    "Objetivo:\n",
    "\n",
    "El objetivo del estudio es determinar la oportunidad de ocurrencia de que un individo presente un salario \n",
    "mayor a 50.000 dolares o bajo este valor, y a partir de esto obterner la probabilidad. Para esto \n",
    "se utilizará la regresión logística, ya que corresponde a un problema de clasificación. "
   ]
  },
  {
   "cell_type": "markdown",
   "id": "3a424bba",
   "metadata": {},
   "source": [
    "####  Aspectos (Librerías)"
   ]
  },
  {
   "cell_type": "code",
   "execution_count": 87,
   "id": "559a08c1",
   "metadata": {},
   "outputs": [],
   "source": [
    "import matplotlib.pyplot as plt\n",
    "import pandas as pd\n",
    "import numpy as np\n",
    "import scipy.stats as stats\n",
    "from scipy.stats import norm\n",
    "from sklearn.preprocessing import PolynomialFeatures as polynom\n",
    "from sklearn.linear_model import LinearRegression as linreg\n",
    "from sklearn.pipeline import make_pipeline\n",
    "import statsmodels.formula.api as smf\n",
    "import seaborn as sns\n",
    "import statsmodels.api as sm\n",
    "from sklearn.metrics import mean_squared_error, r2_score\n",
    "from sklearn.model_selection import train_test_split\n",
    "from sklearn.model_selection import GridSearchCV\n",
    "from sklearn.linear_model import LogisticRegression\n",
    "from sklearn.preprocessing import StandardScaler\n",
    "\n",
    "from sklearn.cluster import KMeans\n",
    "from sklearn.cluster import MiniBatchKMeans\n",
    "\n",
    "plt.style.use('seaborn-whitegrid')\n",
    "plt.style.use('seaborn')\n",
    "\n",
    "\n",
    "import warnings\n",
    "warnings.filterwarnings(\"ignore\")\n",
    "\n",
    "from sklearn.metrics import classification_report\n",
    "from sklearn.metrics import auc\n",
    "from sklearn.metrics import roc_auc_score\n",
    "from sklearn.metrics import roc_curve\n",
    "from sklearn.metrics import accuracy_score\n",
    "\n",
    "\n",
    "from funciones_1 import*"
   ]
  },
  {
   "cell_type": "markdown",
   "id": "a9ed994b",
   "metadata": {},
   "source": [
    "#### Consideraciones"
   ]
  },
  {
   "cell_type": "raw",
   "id": "968131e6",
   "metadata": {},
   "source": [
    "Este método requiere que nuestra variable dependiente sea binaria (income). Los regresores\n",
    "independientes pueden ser continuos y/o categóricos. Para esto primero se insepcionará la base de datos\n",
    "para posteriormente binarizar las variables que correspondan. "
   ]
  },
  {
   "cell_type": "markdown",
   "id": "15a46062",
   "metadata": {},
   "source": [
    "#### Data Frame"
   ]
  },
  {
   "cell_type": "code",
   "execution_count": 88,
   "id": "87b78886",
   "metadata": {},
   "outputs": [],
   "source": [
    "df = pd.read_csv('income-db.csv')"
   ]
  },
  {
   "cell_type": "markdown",
   "id": "a630ca8e",
   "metadata": {},
   "source": [
    "#### Hito 2"
   ]
  },
  {
   "cell_type": "code",
   "execution_count": 89,
   "id": "4fa2caaf",
   "metadata": {},
   "outputs": [
    {
     "data": {
      "text/html": [
       "<div>\n",
       "<style scoped>\n",
       "    .dataframe tbody tr th:only-of-type {\n",
       "        vertical-align: middle;\n",
       "    }\n",
       "\n",
       "    .dataframe tbody tr th {\n",
       "        vertical-align: top;\n",
       "    }\n",
       "\n",
       "    .dataframe thead th {\n",
       "        text-align: right;\n",
       "    }\n",
       "</style>\n",
       "<table border=\"1\" class=\"dataframe\">\n",
       "  <thead>\n",
       "    <tr style=\"text-align: right;\">\n",
       "      <th></th>\n",
       "      <th>age</th>\n",
       "      <th>workclass</th>\n",
       "      <th>fnlwgt</th>\n",
       "      <th>education</th>\n",
       "      <th>educational-num</th>\n",
       "      <th>marital-status</th>\n",
       "      <th>occupation</th>\n",
       "      <th>relationship</th>\n",
       "      <th>race</th>\n",
       "      <th>gender</th>\n",
       "      <th>capital-gain</th>\n",
       "      <th>capital-loss</th>\n",
       "      <th>hours-per-week</th>\n",
       "      <th>native-country</th>\n",
       "      <th>income</th>\n",
       "    </tr>\n",
       "  </thead>\n",
       "  <tbody>\n",
       "    <tr>\n",
       "      <th>0</th>\n",
       "      <td>25</td>\n",
       "      <td>Private</td>\n",
       "      <td>226802</td>\n",
       "      <td>11th</td>\n",
       "      <td>7</td>\n",
       "      <td>Never-married</td>\n",
       "      <td>Machine-op-inspct</td>\n",
       "      <td>Own-child</td>\n",
       "      <td>Black</td>\n",
       "      <td>Male</td>\n",
       "      <td>0</td>\n",
       "      <td>0</td>\n",
       "      <td>40</td>\n",
       "      <td>United-States</td>\n",
       "      <td>&lt;=50K</td>\n",
       "    </tr>\n",
       "    <tr>\n",
       "      <th>1</th>\n",
       "      <td>38</td>\n",
       "      <td>Private</td>\n",
       "      <td>89814</td>\n",
       "      <td>HS-grad</td>\n",
       "      <td>9</td>\n",
       "      <td>Married-civ-spouse</td>\n",
       "      <td>Farming-fishing</td>\n",
       "      <td>Husband</td>\n",
       "      <td>White</td>\n",
       "      <td>Male</td>\n",
       "      <td>0</td>\n",
       "      <td>0</td>\n",
       "      <td>50</td>\n",
       "      <td>United-States</td>\n",
       "      <td>&lt;=50K</td>\n",
       "    </tr>\n",
       "    <tr>\n",
       "      <th>2</th>\n",
       "      <td>28</td>\n",
       "      <td>Local-gov</td>\n",
       "      <td>336951</td>\n",
       "      <td>Assoc-acdm</td>\n",
       "      <td>12</td>\n",
       "      <td>Married-civ-spouse</td>\n",
       "      <td>Protective-serv</td>\n",
       "      <td>Husband</td>\n",
       "      <td>White</td>\n",
       "      <td>Male</td>\n",
       "      <td>0</td>\n",
       "      <td>0</td>\n",
       "      <td>40</td>\n",
       "      <td>United-States</td>\n",
       "      <td>&gt;50K</td>\n",
       "    </tr>\n",
       "    <tr>\n",
       "      <th>3</th>\n",
       "      <td>44</td>\n",
       "      <td>Private</td>\n",
       "      <td>160323</td>\n",
       "      <td>Some-college</td>\n",
       "      <td>10</td>\n",
       "      <td>Married-civ-spouse</td>\n",
       "      <td>Machine-op-inspct</td>\n",
       "      <td>Husband</td>\n",
       "      <td>Black</td>\n",
       "      <td>Male</td>\n",
       "      <td>7688</td>\n",
       "      <td>0</td>\n",
       "      <td>40</td>\n",
       "      <td>United-States</td>\n",
       "      <td>&gt;50K</td>\n",
       "    </tr>\n",
       "    <tr>\n",
       "      <th>4</th>\n",
       "      <td>18</td>\n",
       "      <td>?</td>\n",
       "      <td>103497</td>\n",
       "      <td>Some-college</td>\n",
       "      <td>10</td>\n",
       "      <td>Never-married</td>\n",
       "      <td>?</td>\n",
       "      <td>Own-child</td>\n",
       "      <td>White</td>\n",
       "      <td>Female</td>\n",
       "      <td>0</td>\n",
       "      <td>0</td>\n",
       "      <td>30</td>\n",
       "      <td>United-States</td>\n",
       "      <td>&lt;=50K</td>\n",
       "    </tr>\n",
       "  </tbody>\n",
       "</table>\n",
       "</div>"
      ],
      "text/plain": [
       "   age  workclass  fnlwgt     education  educational-num      marital-status  \\\n",
       "0   25    Private  226802          11th                7       Never-married   \n",
       "1   38    Private   89814       HS-grad                9  Married-civ-spouse   \n",
       "2   28  Local-gov  336951    Assoc-acdm               12  Married-civ-spouse   \n",
       "3   44    Private  160323  Some-college               10  Married-civ-spouse   \n",
       "4   18          ?  103497  Some-college               10       Never-married   \n",
       "\n",
       "          occupation relationship   race  gender  capital-gain  capital-loss  \\\n",
       "0  Machine-op-inspct    Own-child  Black    Male             0             0   \n",
       "1    Farming-fishing      Husband  White    Male             0             0   \n",
       "2    Protective-serv      Husband  White    Male             0             0   \n",
       "3  Machine-op-inspct      Husband  Black    Male          7688             0   \n",
       "4                  ?    Own-child  White  Female             0             0   \n",
       "\n",
       "   hours-per-week native-country income  \n",
       "0              40  United-States  <=50K  \n",
       "1              50  United-States  <=50K  \n",
       "2              40  United-States   >50K  \n",
       "3              40  United-States   >50K  \n",
       "4              30  United-States  <=50K  "
      ]
     },
     "execution_count": 89,
     "metadata": {},
     "output_type": "execute_result"
    }
   ],
   "source": [
    "df.head()"
   ]
  },
  {
   "cell_type": "code",
   "execution_count": 90,
   "id": "6267c931",
   "metadata": {},
   "outputs": [
    {
     "data": {
      "text/plain": [
       "48842"
      ]
     },
     "execution_count": 90,
     "metadata": {},
     "output_type": "execute_result"
    }
   ],
   "source": [
    "len(df.axes[0]) # Número de filas"
   ]
  },
  {
   "cell_type": "markdown",
   "id": "decc948c",
   "metadata": {},
   "source": [
    "#### Inspección de variables"
   ]
  },
  {
   "cell_type": "code",
   "execution_count": 91,
   "id": "873ff1db",
   "metadata": {
    "scrolled": true
   },
   "outputs": [
    {
     "name": "stdout",
     "output_type": "stream",
     "text": [
      "<class 'pandas.core.frame.DataFrame'>\n",
      "RangeIndex: 48842 entries, 0 to 48841\n",
      "Data columns (total 15 columns):\n",
      " #   Column           Non-Null Count  Dtype \n",
      "---  ------           --------------  ----- \n",
      " 0   age              48842 non-null  int64 \n",
      " 1   workclass        48842 non-null  object\n",
      " 2   fnlwgt           48842 non-null  int64 \n",
      " 3   education        48842 non-null  object\n",
      " 4   educational-num  48842 non-null  int64 \n",
      " 5   marital-status   48842 non-null  object\n",
      " 6   occupation       48842 non-null  object\n",
      " 7   relationship     48842 non-null  object\n",
      " 8   race             48842 non-null  object\n",
      " 9   gender           48842 non-null  object\n",
      " 10  capital-gain     48842 non-null  int64 \n",
      " 11  capital-loss     48842 non-null  int64 \n",
      " 12  hours-per-week   48842 non-null  int64 \n",
      " 13  native-country   48842 non-null  object\n",
      " 14  income           48842 non-null  object\n",
      "dtypes: int64(6), object(9)\n",
      "memory usage: 5.6+ MB\n"
     ]
    }
   ],
   "source": [
    "df.info()"
   ]
  },
  {
   "cell_type": "code",
   "execution_count": 92,
   "id": "3544ae1d",
   "metadata": {},
   "outputs": [
    {
     "name": "stdout",
     "output_type": "stream",
     "text": [
      "\n",
      " workclass\n",
      "Private             33906\n",
      "Self-emp-not-inc     3862\n",
      "Local-gov            3136\n",
      "?                    2799\n",
      "State-gov            1981\n",
      "Self-emp-inc         1695\n",
      "Federal-gov          1432\n",
      "Without-pay            21\n",
      "Never-worked           10\n",
      "Name: workclass, dtype: int64\n",
      "\n",
      " education\n",
      "HS-grad         15784\n",
      "Some-college    10878\n",
      "Bachelors        8025\n",
      "Masters          2657\n",
      "Assoc-voc        2061\n",
      "11th             1812\n",
      "Assoc-acdm       1601\n",
      "10th             1389\n",
      "7th-8th           955\n",
      "Prof-school       834\n",
      "9th               756\n",
      "12th              657\n",
      "Doctorate         594\n",
      "5th-6th           509\n",
      "1st-4th           247\n",
      "Preschool          83\n",
      "Name: education, dtype: int64\n",
      "\n",
      " marital-status\n",
      "Married-civ-spouse       22379\n",
      "Never-married            16117\n",
      "Divorced                  6633\n",
      "Separated                 1530\n",
      "Widowed                   1518\n",
      "Married-spouse-absent      628\n",
      "Married-AF-spouse           37\n",
      "Name: marital-status, dtype: int64\n",
      "\n",
      " occupation\n",
      "Prof-specialty       6172\n",
      "Craft-repair         6112\n",
      "Exec-managerial      6086\n",
      "Adm-clerical         5611\n",
      "Sales                5504\n",
      "Other-service        4923\n",
      "Machine-op-inspct    3022\n",
      "?                    2809\n",
      "Transport-moving     2355\n",
      "Handlers-cleaners    2072\n",
      "Farming-fishing      1490\n",
      "Tech-support         1446\n",
      "Protective-serv       983\n",
      "Priv-house-serv       242\n",
      "Armed-Forces           15\n",
      "Name: occupation, dtype: int64\n",
      "\n",
      " relationship\n",
      "Husband           19716\n",
      "Not-in-family     12583\n",
      "Own-child          7581\n",
      "Unmarried          5125\n",
      "Wife               2331\n",
      "Other-relative     1506\n",
      "Name: relationship, dtype: int64\n",
      "\n",
      " race\n",
      "White                 41762\n",
      "Black                  4685\n",
      "Asian-Pac-Islander     1519\n",
      "Amer-Indian-Eskimo      470\n",
      "Other                   406\n",
      "Name: race, dtype: int64\n",
      "\n",
      " gender\n",
      "Male      32650\n",
      "Female    16192\n",
      "Name: gender, dtype: int64\n",
      "\n",
      " native-country\n",
      "United-States                 43832\n",
      "Mexico                          951\n",
      "?                               857\n",
      "Philippines                     295\n",
      "Germany                         206\n",
      "Puerto-Rico                     184\n",
      "Canada                          182\n",
      "El-Salvador                     155\n",
      "India                           151\n",
      "Cuba                            138\n",
      "England                         127\n",
      "China                           122\n",
      "South                           115\n",
      "Jamaica                         106\n",
      "Italy                           105\n",
      "Dominican-Republic              103\n",
      "Japan                            92\n",
      "Guatemala                        88\n",
      "Poland                           87\n",
      "Vietnam                          86\n",
      "Columbia                         85\n",
      "Haiti                            75\n",
      "Portugal                         67\n",
      "Taiwan                           65\n",
      "Iran                             59\n",
      "Greece                           49\n",
      "Nicaragua                        49\n",
      "Peru                             46\n",
      "Ecuador                          45\n",
      "France                           38\n",
      "Ireland                          37\n",
      "Hong                             30\n",
      "Thailand                         30\n",
      "Cambodia                         28\n",
      "Trinadad&Tobago                  27\n",
      "Laos                             23\n",
      "Yugoslavia                       23\n",
      "Outlying-US(Guam-USVI-etc)       23\n",
      "Scotland                         21\n",
      "Honduras                         20\n",
      "Hungary                          19\n",
      "Holand-Netherlands                1\n",
      "Name: native-country, dtype: int64\n",
      "\n",
      " income\n",
      "<=50K    37155\n",
      ">50K     11687\n",
      "Name: income, dtype: int64\n"
     ]
    }
   ],
   "source": [
    "#Variables categoricas\n",
    "\n",
    "variables_insp(df)"
   ]
  },
  {
   "cell_type": "code",
   "execution_count": 93,
   "id": "aa937bed",
   "metadata": {},
   "outputs": [],
   "source": [
    "# Existen varias variables categoricas que se deben transformar, incluyendo la variable objetivo"
   ]
  },
  {
   "cell_type": "markdown",
   "id": "795b28b4",
   "metadata": {},
   "source": [
    "#### Inspección del vector objetivo"
   ]
  },
  {
   "cell_type": "code",
   "execution_count": 94,
   "id": "8247cce2",
   "metadata": {},
   "outputs": [
    {
     "data": {
      "text/plain": [
       "<=50K    37155\n",
       ">50K     11687\n",
       "Name: income, dtype: int64"
      ]
     },
     "execution_count": 94,
     "metadata": {},
     "output_type": "execute_result"
    }
   ],
   "source": [
    "# La opción con menos datos es mayor a 50K, esto significa que se estudiará la probabilidad de ganar un salario mayor a 50K\n",
    "\n",
    "\n",
    "df['income'].value_counts()"
   ]
  },
  {
   "cell_type": "code",
   "execution_count": 95,
   "id": "209cd762",
   "metadata": {},
   "outputs": [],
   "source": [
    "# Primero se procede a limpiar la información de la base. Se ha encontrado el valor ? en algunas de las columnas, estos valores\n",
    "# las filas que contengan este valor serán removidos de la base."
   ]
  },
  {
   "cell_type": "code",
   "execution_count": 96,
   "id": "62ad8506",
   "metadata": {},
   "outputs": [],
   "source": [
    "df=df.replace({\"?\": np.nan})"
   ]
  },
  {
   "cell_type": "code",
   "execution_count": 97,
   "id": "bd340fb5",
   "metadata": {},
   "outputs": [
    {
     "name": "stdout",
     "output_type": "stream",
     "text": [
      "\n",
      " workclass\n",
      "Private             33906\n",
      "Self-emp-not-inc     3862\n",
      "Local-gov            3136\n",
      "State-gov            1981\n",
      "Self-emp-inc         1695\n",
      "Federal-gov          1432\n",
      "Without-pay            21\n",
      "Never-worked           10\n",
      "Name: workclass, dtype: int64\n",
      "\n",
      " education\n",
      "HS-grad         15784\n",
      "Some-college    10878\n",
      "Bachelors        8025\n",
      "Masters          2657\n",
      "Assoc-voc        2061\n",
      "11th             1812\n",
      "Assoc-acdm       1601\n",
      "10th             1389\n",
      "7th-8th           955\n",
      "Prof-school       834\n",
      "9th               756\n",
      "12th              657\n",
      "Doctorate         594\n",
      "5th-6th           509\n",
      "1st-4th           247\n",
      "Preschool          83\n",
      "Name: education, dtype: int64\n",
      "\n",
      " marital-status\n",
      "Married-civ-spouse       22379\n",
      "Never-married            16117\n",
      "Divorced                  6633\n",
      "Separated                 1530\n",
      "Widowed                   1518\n",
      "Married-spouse-absent      628\n",
      "Married-AF-spouse           37\n",
      "Name: marital-status, dtype: int64\n",
      "\n",
      " occupation\n",
      "Prof-specialty       6172\n",
      "Craft-repair         6112\n",
      "Exec-managerial      6086\n",
      "Adm-clerical         5611\n",
      "Sales                5504\n",
      "Other-service        4923\n",
      "Machine-op-inspct    3022\n",
      "Transport-moving     2355\n",
      "Handlers-cleaners    2072\n",
      "Farming-fishing      1490\n",
      "Tech-support         1446\n",
      "Protective-serv       983\n",
      "Priv-house-serv       242\n",
      "Armed-Forces           15\n",
      "Name: occupation, dtype: int64\n",
      "\n",
      " relationship\n",
      "Husband           19716\n",
      "Not-in-family     12583\n",
      "Own-child          7581\n",
      "Unmarried          5125\n",
      "Wife               2331\n",
      "Other-relative     1506\n",
      "Name: relationship, dtype: int64\n",
      "\n",
      " race\n",
      "White                 41762\n",
      "Black                  4685\n",
      "Asian-Pac-Islander     1519\n",
      "Amer-Indian-Eskimo      470\n",
      "Other                   406\n",
      "Name: race, dtype: int64\n",
      "\n",
      " gender\n",
      "Male      32650\n",
      "Female    16192\n",
      "Name: gender, dtype: int64\n",
      "\n",
      " native-country\n",
      "United-States                 43832\n",
      "Mexico                          951\n",
      "Philippines                     295\n",
      "Germany                         206\n",
      "Puerto-Rico                     184\n",
      "Canada                          182\n",
      "El-Salvador                     155\n",
      "India                           151\n",
      "Cuba                            138\n",
      "England                         127\n",
      "China                           122\n",
      "South                           115\n",
      "Jamaica                         106\n",
      "Italy                           105\n",
      "Dominican-Republic              103\n",
      "Japan                            92\n",
      "Guatemala                        88\n",
      "Poland                           87\n",
      "Vietnam                          86\n",
      "Columbia                         85\n",
      "Haiti                            75\n",
      "Portugal                         67\n",
      "Taiwan                           65\n",
      "Iran                             59\n",
      "Greece                           49\n",
      "Nicaragua                        49\n",
      "Peru                             46\n",
      "Ecuador                          45\n",
      "France                           38\n",
      "Ireland                          37\n",
      "Hong                             30\n",
      "Thailand                         30\n",
      "Cambodia                         28\n",
      "Trinadad&Tobago                  27\n",
      "Yugoslavia                       23\n",
      "Outlying-US(Guam-USVI-etc)       23\n",
      "Laos                             23\n",
      "Scotland                         21\n",
      "Honduras                         20\n",
      "Hungary                          19\n",
      "Holand-Netherlands                1\n",
      "Name: native-country, dtype: int64\n",
      "\n",
      " income\n",
      "<=50K    37155\n",
      ">50K     11687\n",
      "Name: income, dtype: int64\n"
     ]
    }
   ],
   "source": [
    "variables_insp(df)"
   ]
  },
  {
   "cell_type": "code",
   "execution_count": 98,
   "id": "e8569bf1",
   "metadata": {},
   "outputs": [],
   "source": [
    "## ELiminamos los NaN, es decir las filas que tengan NA. Con este cambio nos quedan 284 filas con información.\n",
    "df=df.dropna()"
   ]
  },
  {
   "cell_type": "code",
   "execution_count": 99,
   "id": "39301527",
   "metadata": {},
   "outputs": [
    {
     "data": {
      "text/plain": [
       "45222"
      ]
     },
     "execution_count": 99,
     "metadata": {},
     "output_type": "execute_result"
    }
   ],
   "source": [
    "len(df.axes[0]) ## Con este cambio nos quedan 45222 filas con información."
   ]
  },
  {
   "cell_type": "code",
   "execution_count": 100,
   "id": "28fd9791",
   "metadata": {},
   "outputs": [],
   "source": [
    "#Según el resumen de opciones de cada variable categoricas son"
   ]
  },
  {
   "cell_type": "code",
   "execution_count": 101,
   "id": "b75ae702",
   "metadata": {},
   "outputs": [
    {
     "data": {
      "text/plain": [
       "['workclass',\n",
       " 'education',\n",
       " 'marital-status',\n",
       " 'occupation',\n",
       " 'relationship',\n",
       " 'race',\n",
       " 'gender',\n",
       " 'native-country',\n",
       " 'income']"
      ]
     },
     "execution_count": 101,
     "metadata": {},
     "output_type": "execute_result"
    }
   ],
   "source": [
    "var_categoricas(df)"
   ]
  },
  {
   "cell_type": "raw",
   "id": "8727648f",
   "metadata": {},
   "source": [
    "Recodificación de variables categoricas"
   ]
  },
  {
   "cell_type": "code",
   "execution_count": 102,
   "id": "c418da69",
   "metadata": {},
   "outputs": [],
   "source": [
    "# La recodificación de estas variables se realizó de la siguiente manera"
   ]
  },
  {
   "cell_type": "code",
   "execution_count": 103,
   "id": "5cd5ac19",
   "metadata": {},
   "outputs": [],
   "source": [
    "# occupation \n",
    "# white-collar ← Prof-specialty, Exec-managerial, Adm-clerical, Sales, Tech-support.\n",
    "# blue-collar ← Craft-repair, Machine-op-inspct, Transport-moving, Handlers-cleaners, Farming-fishing, Protective-serv, Priv-house-serv.\n",
    "# others ← Other-service, Armed-Forces.\n",
    "\n",
    "#df['collars'] = np.where((df['occupation'] == 'Prof-specialty') | (df['occupation'] == 'Exec-managerial') | (df['occupation'] == 'Adm-clerical') | (df['occupation'] == 'Sales') | (df['occupation'] == 'Tech-support'),'collars', 'white-collar')\n",
    "df.loc[df['occupation'] == 'Other-service','collars']='others'\n",
    "df.loc[df['occupation'] == 'Armed-Forces','collars']='others'\n",
    "df.loc[df['occupation'] == 'Prof-specialty','collars']='white_collar'\n",
    "df.loc[df['occupation'] == 'Exec-managerial','collars']='white_collar'\n",
    "df.loc[df['occupation'] == 'Adm-clerical','collars']='white_collar'\n",
    "df.loc[df['occupation'] == 'Tech-support','collars']='white_collar'\n",
    "df.loc[df['occupation'] == 'Sales','collars']='white_collar'\n",
    "\n",
    "df.loc[df['occupation'] == 'Craft-repair','collars']='blue_collar'\n",
    "df.loc[df['occupation'] == 'Machine-op-inspct','collars']='blue_collar'\n",
    "df.loc[df['occupation'] == 'Transport-moving','collars']='blue_collar'\n",
    "df.loc[df['occupation'] == 'Handlers-cleaners','collars']='blue_collar'\n",
    "df.loc[df['occupation'] == 'Farming-fishing','collars']='blue_collar'\n",
    "df.loc[df['occupation'] == 'Protective-serv','collars']='blue_collar'\n",
    "df.loc[df['occupation'] == 'Priv-house-serv','collars']='blue_collar'\n",
    "\n"
   ]
  },
  {
   "cell_type": "code",
   "execution_count": 104,
   "id": "3b7a91b6",
   "metadata": {},
   "outputs": [
    {
     "data": {
      "text/plain": [
       "white_collar    24360\n",
       "blue_collar     16040\n",
       "others           4822\n",
       "Name: collars, dtype: int64"
      ]
     },
     "execution_count": 104,
     "metadata": {},
     "output_type": "execute_result"
    }
   ],
   "source": [
    "df['collars'].value_counts()"
   ]
  },
  {
   "cell_type": "code",
   "execution_count": 105,
   "id": "7693aa06",
   "metadata": {},
   "outputs": [],
   "source": [
    "#workclass debe recodificarse como workclass_recod :\n",
    "#federal-gov ← Federal-gov.\n",
    "# state-level-gov ← State-gov, Local-gov.\n",
    "# self-employed ← Self-emp-inc, Self-emp-not-inc\n",
    "# unemployed ← Never-worked, Without-pay.\n",
    "\n",
    "df.loc[df['workclass'] == 'Federal-gov','workclass_recod']='federal_gov'\n",
    "df.loc[df['workclass'] == 'State-gov','workclass_recod']='state_level_gov'\n",
    "df.loc[df['workclass'] == 'Local-gov','workclass_recod']='state_level_gov'\n",
    "df.loc[df['workclass'] == 'Self-emp-inc','workclass_recod']='self_employed'\n",
    "df.loc[df['workclass'] == 'Self-emp-not-inc','workclass_recod']='self_employed'\n",
    "df.loc[df['workclass'] == 'Never-worked','workclass_recod']='unemployed'\n",
    "df.loc[df['workclass'] == 'Without-pay','workclass_recod']='unemployed'\n",
    "\n",
    "#Se crea categoria private, ya que no está en indicaciones\n",
    "df.loc[df['workclass'] == 'Private','workclass_recod']='private'\n"
   ]
  },
  {
   "cell_type": "code",
   "execution_count": 106,
   "id": "80acfa23",
   "metadata": {},
   "outputs": [
    {
     "data": {
      "text/plain": [
       "private            33307\n",
       "self_employed       5442\n",
       "state_level_gov     5046\n",
       "federal_gov         1406\n",
       "unemployed            21\n",
       "Name: workclass_recod, dtype: int64"
      ]
     },
     "execution_count": 106,
     "metadata": {},
     "output_type": "execute_result"
    }
   ],
   "source": [
    "df['workclass_recod'].value_counts()"
   ]
  },
  {
   "cell_type": "code",
   "execution_count": 107,
   "id": "9660cc35",
   "metadata": {},
   "outputs": [],
   "source": [
    "#education debe recodificarse como educ_recod \n",
    "# preschool ← Preschool\n",
    "# elementary-school ← 1st-4th, 5th-6th\n",
    "# high-school ← 7th-8th, 9th, 10th,11th, 12th, HS-grad\n",
    "# college ← Assoc-voc, Assoc-acdm, Some-college\n",
    "# university ← Bachelors, Masters, Prof-school, Doctorate.\n",
    "\n",
    "df.loc[df['education'] == 'Preschool','educ_recod']='preschool'\n",
    "df.loc[df['education'] == '1st-4th','educ_recod']='elementary_school'\n",
    "df.loc[df['education'] == '5th-6th','educ_recod']='elementary_school'\n",
    "df.loc[df['education'] == '10th','educ_recod']='high_school'\n",
    "df.loc[df['education'] == '11th','educ_recod']='high_school'\n",
    "df.loc[df['education'] == '12th','educ_recod']='high_school'\n",
    "df.loc[df['education'] == '7th-8th','educ_recod']='high_school'\n",
    "df.loc[df['education'] == '9th','educ_recod']='high_school'\n",
    "df.loc[df['education'] == 'HS-grad','educ_recod']='high_school'\n",
    "\n",
    "\n",
    "df.loc[df['education'] == 'Assoc-voc','educ_recod']='college'\n",
    "df.loc[df['education'] == 'Assoc-acdm','educ_recod']='college'\n",
    "df.loc[df['education'] == 'Some-college','educ_recod']='college'\n",
    "df.loc[df['education'] == 'Bachelors','educ_recod']='university'\n",
    "df.loc[df['education'] == 'Masters','educ_recod']='university'\n",
    "df.loc[df['education'] == 'Prof-school','educ_recod']='university'\n",
    "df.loc[df['education'] == 'Doctorate','educ_recod']='university'"
   ]
  },
  {
   "cell_type": "code",
   "execution_count": 108,
   "id": "bf4b3051",
   "metadata": {},
   "outputs": [
    {
     "data": {
      "text/plain": [
       "high_school          19701\n",
       "college              13365\n",
       "university           11413\n",
       "elementary_school      671\n",
       "preschool               72\n",
       "Name: educ_recod, dtype: int64"
      ]
     },
     "execution_count": 108,
     "metadata": {},
     "output_type": "execute_result"
    }
   ],
   "source": [
    "df['educ_recod'].value_counts()"
   ]
  },
  {
   "cell_type": "code",
   "execution_count": 109,
   "id": "3b3f885c",
   "metadata": {},
   "outputs": [],
   "source": [
    "# marital-status debe recodificarse como civstatus \n",
    "# married ← Married-civ-spouse, Married-spouse-absent, Married-AF-spouse.\n",
    "# divorced ← Divorced.\n",
    "# separated ← Separated.\n",
    "# widowed ← Widowed.\n",
    "\n",
    "df.loc[df['marital-status'] == 'Married-civ-spouse','civstatus']='married'\n",
    "df.loc[df['marital-status'] == 'Married-spouse-absent','civstatus']='married'\n",
    "df.loc[df['marital-status'] == 'Married-AF-spouse','civstatus']='married'\n",
    "\n",
    "df.loc[df['marital-status'] == 'Divorced','civstatus']='divorced'\n",
    "\n",
    "df.loc[df['marital-status'] == 'Separated','civstatus']='separated'\n",
    "\n",
    "df.loc[df['marital-status'] == 'Widowed','civstatus']='widowed'\n",
    "# Se crea categoría Never-married, ya que no está en las indicaciones\n",
    "\n",
    "df.loc[df['marital-status'] == 'Never-married','civstatus']='never_married'"
   ]
  },
  {
   "cell_type": "code",
   "execution_count": 110,
   "id": "521e7ed4",
   "metadata": {},
   "outputs": [
    {
     "data": {
      "text/plain": [
       "married          21639\n",
       "never_married    14598\n",
       "divorced          6297\n",
       "separated         1411\n",
       "widowed           1277\n",
       "Name: civstatus, dtype: int64"
      ]
     },
     "execution_count": 110,
     "metadata": {},
     "output_type": "execute_result"
    }
   ],
   "source": [
    "df['civstatus'].value_counts()"
   ]
  },
  {
   "cell_type": "code",
   "execution_count": 111,
   "id": "12d0f28a",
   "metadata": {},
   "outputs": [
    {
     "name": "stdout",
     "output_type": "stream",
     "text": [
      "\n",
      " workclass\n",
      "Private             33307\n",
      "Self-emp-not-inc     3796\n",
      "Local-gov            3100\n",
      "State-gov            1946\n",
      "Self-emp-inc         1646\n",
      "Federal-gov          1406\n",
      "Without-pay            21\n",
      "Name: workclass, dtype: int64\n",
      "\n",
      " education\n",
      "HS-grad         14783\n",
      "Some-college     9899\n",
      "Bachelors        7570\n",
      "Masters          2514\n",
      "Assoc-voc        1959\n",
      "11th             1619\n",
      "Assoc-acdm       1507\n",
      "10th             1223\n",
      "7th-8th           823\n",
      "Prof-school       785\n",
      "9th               676\n",
      "12th              577\n",
      "Doctorate         544\n",
      "5th-6th           449\n",
      "1st-4th           222\n",
      "Preschool          72\n",
      "Name: education, dtype: int64\n",
      "\n",
      " marital-status\n",
      "Married-civ-spouse       21055\n",
      "Never-married            14598\n",
      "Divorced                  6297\n",
      "Separated                 1411\n",
      "Widowed                   1277\n",
      "Married-spouse-absent      552\n",
      "Married-AF-spouse           32\n",
      "Name: marital-status, dtype: int64\n",
      "\n",
      " occupation\n",
      "Craft-repair         6020\n",
      "Prof-specialty       6008\n",
      "Exec-managerial      5984\n",
      "Adm-clerical         5540\n",
      "Sales                5408\n",
      "Other-service        4808\n",
      "Machine-op-inspct    2970\n",
      "Transport-moving     2316\n",
      "Handlers-cleaners    2046\n",
      "Farming-fishing      1480\n",
      "Tech-support         1420\n",
      "Protective-serv       976\n",
      "Priv-house-serv       232\n",
      "Armed-Forces           14\n",
      "Name: occupation, dtype: int64\n",
      "\n",
      " relationship\n",
      "Husband           18666\n",
      "Not-in-family     11702\n",
      "Own-child          6626\n",
      "Unmarried          4788\n",
      "Wife               2091\n",
      "Other-relative     1349\n",
      "Name: relationship, dtype: int64\n",
      "\n",
      " race\n",
      "White                 38903\n",
      "Black                  4228\n",
      "Asian-Pac-Islander     1303\n",
      "Amer-Indian-Eskimo      435\n",
      "Other                   353\n",
      "Name: race, dtype: int64\n",
      "\n",
      " gender\n",
      "Male      30527\n",
      "Female    14695\n",
      "Name: gender, dtype: int64\n",
      "\n",
      " native-country\n",
      "United-States                 41292\n",
      "Mexico                          903\n",
      "Philippines                     283\n",
      "Germany                         193\n",
      "Puerto-Rico                     175\n",
      "Canada                          163\n",
      "El-Salvador                     147\n",
      "India                           147\n",
      "Cuba                            133\n",
      "England                         119\n",
      "China                           113\n",
      "Jamaica                         103\n",
      "South                           101\n",
      "Italy                           100\n",
      "Dominican-Republic               97\n",
      "Japan                            89\n",
      "Guatemala                        86\n",
      "Vietnam                          83\n",
      "Columbia                         82\n",
      "Poland                           81\n",
      "Haiti                            69\n",
      "Portugal                         62\n",
      "Iran                             56\n",
      "Taiwan                           55\n",
      "Greece                           49\n",
      "Nicaragua                        48\n",
      "Peru                             45\n",
      "Ecuador                          43\n",
      "France                           36\n",
      "Ireland                          36\n",
      "Thailand                         29\n",
      "Hong                             28\n",
      "Cambodia                         26\n",
      "Trinadad&Tobago                  26\n",
      "Yugoslavia                       23\n",
      "Outlying-US(Guam-USVI-etc)       22\n",
      "Laos                             21\n",
      "Scotland                         20\n",
      "Honduras                         19\n",
      "Hungary                          18\n",
      "Holand-Netherlands                1\n",
      "Name: native-country, dtype: int64\n",
      "\n",
      " income\n",
      "<=50K    34014\n",
      ">50K     11208\n",
      "Name: income, dtype: int64\n",
      "\n",
      " collars\n",
      "white_collar    24360\n",
      "blue_collar     16040\n",
      "others           4822\n",
      "Name: collars, dtype: int64\n",
      "\n",
      " workclass_recod\n",
      "private            33307\n",
      "self_employed       5442\n",
      "state_level_gov     5046\n",
      "federal_gov         1406\n",
      "unemployed            21\n",
      "Name: workclass_recod, dtype: int64\n",
      "\n",
      " educ_recod\n",
      "high_school          19701\n",
      "college              13365\n",
      "university           11413\n",
      "elementary_school      671\n",
      "preschool               72\n",
      "Name: educ_recod, dtype: int64\n",
      "\n",
      " civstatus\n",
      "married          21639\n",
      "never_married    14598\n",
      "divorced          6297\n",
      "separated         1411\n",
      "widowed           1277\n",
      "Name: civstatus, dtype: int64\n"
     ]
    }
   ],
   "source": [
    "variables_insp(df)"
   ]
  },
  {
   "cell_type": "code",
   "execution_count": 112,
   "id": "9509f2d8",
   "metadata": {},
   "outputs": [],
   "source": [
    "#native-country debe recodificarse como region donde cada país debe\n",
    "#asignarse a uno de los 5 continentes.\n",
    "\n",
    "#America= United-States, Mexico, Puerto-Rico, Canada, El-Salvador, Cuba, , Dominican-Republic, Guatemala, Nicaragua\n",
    "# peru, ecuador, Honduras, \n",
    "#Caribe, Haiti, Jamaica, Trinadad&Tobago\n",
    "# Asia: Philippines, India, China, Japan, Vietnam, Taiwan, Thailand, Cambodia, Laos\n",
    "# Europa: Germany, England, Italy, Portugal, Poland, Greece, France, Ireland, Greece, Yugoslavia, Scotland, Hungary, Holand-Netherlands\n"
   ]
  },
  {
   "cell_type": "code",
   "execution_count": 113,
   "id": "0e97c45c",
   "metadata": {},
   "outputs": [],
   "source": [
    "# Se borran las filas con los siguientes valores: native-country=South, Columbia y Hong.\n",
    "# Son valores poco precisos \n",
    "\n",
    "df = df.drop(df[df['native-country']=='Columbia'].index)\n",
    "df = df.drop(df[df['native-country']=='South'].index)\n"
   ]
  },
  {
   "cell_type": "code",
   "execution_count": 114,
   "id": "d9b551b0",
   "metadata": {},
   "outputs": [
    {
     "data": {
      "text/plain": [
       "45039"
      ]
     },
     "execution_count": 114,
     "metadata": {},
     "output_type": "execute_result"
    }
   ],
   "source": [
    "len(df.axes[0])"
   ]
  },
  {
   "cell_type": "code",
   "execution_count": 115,
   "id": "7034265b",
   "metadata": {},
   "outputs": [
    {
     "name": "stdout",
     "output_type": "stream",
     "text": [
      "<class 'pandas.core.frame.DataFrame'>\n",
      "Int64Index: 45039 entries, 0 to 48841\n",
      "Data columns (total 19 columns):\n",
      " #   Column           Non-Null Count  Dtype \n",
      "---  ------           --------------  ----- \n",
      " 0   age              45039 non-null  int64 \n",
      " 1   workclass        45039 non-null  object\n",
      " 2   fnlwgt           45039 non-null  int64 \n",
      " 3   education        45039 non-null  object\n",
      " 4   educational-num  45039 non-null  int64 \n",
      " 5   marital-status   45039 non-null  object\n",
      " 6   occupation       45039 non-null  object\n",
      " 7   relationship     45039 non-null  object\n",
      " 8   race             45039 non-null  object\n",
      " 9   gender           45039 non-null  object\n",
      " 10  capital-gain     45039 non-null  int64 \n",
      " 11  capital-loss     45039 non-null  int64 \n",
      " 12  hours-per-week   45039 non-null  int64 \n",
      " 13  native-country   45039 non-null  object\n",
      " 14  income           45039 non-null  object\n",
      " 15  collars          45039 non-null  object\n",
      " 16  workclass_recod  45039 non-null  object\n",
      " 17  educ_recod       45039 non-null  object\n",
      " 18  civstatus        45039 non-null  object\n",
      "dtypes: int64(6), object(13)\n",
      "memory usage: 6.9+ MB\n"
     ]
    }
   ],
   "source": [
    "df.info()"
   ]
  },
  {
   "cell_type": "code",
   "execution_count": 116,
   "id": "e5df8bf7",
   "metadata": {},
   "outputs": [],
   "source": [
    "df.loc[df['native-country'] == 'United-States','region']='america'\n",
    "df.loc[df['native-country'] == 'Outlying-US(Guam-USVI-etc)','region']='america'\n",
    "df.loc[df['native-country'] ==  'Mexico' ,'region']='america'\n",
    "df.loc[df['native-country'] == 'Puerto-Rico','region']='america'\n",
    "df.loc[df['native-country'] == 'Canada' ,'region']='america'\n",
    "df.loc[df['native-country'] == 'El-Salvador' ,'region']='america'\n",
    "df.loc[df['native-country'] == 'Cuba' ,'region']='america'\n",
    "df.loc[df['native-country'] == 'Dominican-Republic' ,'region']='america'\n",
    "df.loc[df['native-country'] == 'Guatemala' ,'region']='america'\n",
    "df.loc[df['native-country'] == 'Nicaragua' ,'region']='america'\n",
    "df.loc[df['native-country'] == 'Peru' ,'region']='america'\n",
    "df.loc[df['native-country'] == 'Ecuador' ,'region']='america'\n",
    "df.loc[df['native-country'] == 'Honduras','region']='america'\n",
    "\n",
    "df.loc[df['native-country'] == 'Haiti' , 'region'] ='caribe'\n",
    "df.loc[df['native-country'] =='Jamaica', 'region'] ='caribe' \n",
    "df.loc[df['native-country'] =='Trinadad&Tobago', 'region'] ='caribe'\n",
    "\n",
    "\n",
    "df.loc[df['native-country'] =='Germany', 'region'] ='europa'\n",
    "df.loc[df['native-country'] =='England', 'region'] ='europa'\n",
    "df.loc[df['native-country'] =='Italy', 'region'] ='europa'\n",
    "df.loc[df['native-country'] =='Poland', 'region'] ='europa'\n",
    "df.loc[df['native-country'] =='France', 'region'] ='europa'\n",
    "df.loc[df['native-country'] =='Ireland', 'region'] ='europa'\n",
    "df.loc[df['native-country'] =='Greece', 'region'] ='europa'\n",
    "df.loc[df['native-country'] =='Yugoslavia', 'region'] ='europa'\n",
    "df.loc[df['native-country'] =='Scotland', 'region'] ='europa'\n",
    "df.loc[df['native-country'] =='Hungary', 'region'] ='europa'\n",
    "df.loc[df['native-country'] =='Holand-Netherlands', 'region'] ='europa'\n",
    "\n",
    "df.loc[df['native-country'] =='Philippines', 'region'] ='asia'\n",
    "df.loc[df['native-country'] =='India', 'region'] ='asia'\n",
    "df.loc[df['native-country'] =='China', 'region'] ='asia'\n",
    "df.loc[df['native-country'] =='Japan', 'region'] ='asia'\n",
    "df.loc[df['native-country'] =='Vietnam', 'region'] ='asia'\n",
    "df.loc[df['native-country'] =='Taiwan', 'region'] ='asia'\n",
    "df.loc[df['native-country'] =='Thailand', 'region'] ='asia'\n",
    "df.loc[df['native-country'] =='Cambodia', 'region'] ='asia'\n",
    "df.loc[df['native-country'] =='Laos', 'region'] ='asia'\n",
    "df.loc[df['native-country'] =='Hong', 'region'] ='asia'\n"
   ]
  },
  {
   "cell_type": "code",
   "execution_count": 117,
   "id": "875f6810",
   "metadata": {},
   "outputs": [
    {
     "data": {
      "text/plain": [
       "america    43173\n",
       "asia         874\n",
       "europa       676\n",
       "caribe       198\n",
       "Name: region, dtype: int64"
      ]
     },
     "execution_count": 117,
     "metadata": {},
     "output_type": "execute_result"
    }
   ],
   "source": [
    "df['region'].value_counts()"
   ]
  },
  {
   "cell_type": "code",
   "execution_count": 118,
   "id": "06a5f211",
   "metadata": {},
   "outputs": [],
   "source": [
    "#income debe recodificarse de forma binaria. (>50K menos datos)\n",
    "df['income'] = np.where(df['income'] == '>50K', 1, 0)"
   ]
  },
  {
   "cell_type": "code",
   "execution_count": 119,
   "id": "abb077d9",
   "metadata": {},
   "outputs": [
    {
     "data": {
      "text/plain": [
       "0    33853\n",
       "1    11186\n",
       "Name: income, dtype: int64"
      ]
     },
     "execution_count": 119,
     "metadata": {},
     "output_type": "execute_result"
    }
   ],
   "source": [
    "# Esto significa que se estudiará la probabilidad de ganar un salario mayor a 50K\n",
    "df['income'].value_counts()"
   ]
  },
  {
   "cell_type": "code",
   "execution_count": 120,
   "id": "183dfc44",
   "metadata": {},
   "outputs": [],
   "source": [
    "# Variables 'relationship','race', 'gender. \n",
    "#Como ya se tiene variables como region y civstatus;  'relationship','race' se binarizarán igual que gender\n",
    "\n",
    "df['Not_in_family'] = np.where(df['relationship'] == 'Not-in-family', 1, 0)\n",
    "df['Not_white'] = np.where(df['race'] != 'White', 1, 0)\n",
    "df['Female'] = np.where(df['gender'] == 'Female', 1, 0)"
   ]
  },
  {
   "cell_type": "code",
   "execution_count": 121,
   "id": "cef4ac1c",
   "metadata": {},
   "outputs": [
    {
     "data": {
      "text/plain": [
       "0    33375\n",
       "1    11664\n",
       "Name: Not_in_family, dtype: int64"
      ]
     },
     "execution_count": 121,
     "metadata": {},
     "output_type": "execute_result"
    }
   ],
   "source": [
    "df['Not_in_family'].value_counts()"
   ]
  },
  {
   "cell_type": "code",
   "execution_count": 122,
   "id": "e95a5283",
   "metadata": {},
   "outputs": [
    {
     "data": {
      "text/plain": [
       "0    38829\n",
       "1     6210\n",
       "Name: Not_white, dtype: int64"
      ]
     },
     "execution_count": 122,
     "metadata": {},
     "output_type": "execute_result"
    }
   ],
   "source": [
    "df['Not_white'].value_counts()"
   ]
  },
  {
   "cell_type": "code",
   "execution_count": 123,
   "id": "553733ba",
   "metadata": {},
   "outputs": [
    {
     "data": {
      "text/plain": [
       "0    30414\n",
       "1    14625\n",
       "Name: Female, dtype: int64"
      ]
     },
     "execution_count": 123,
     "metadata": {},
     "output_type": "execute_result"
    }
   ],
   "source": [
    "df['Female'].value_counts()"
   ]
  },
  {
   "cell_type": "raw",
   "id": "96658d9e",
   "metadata": {},
   "source": [
    "Variables dummy recodificadas"
   ]
  },
  {
   "cell_type": "code",
   "execution_count": 124,
   "id": "150b49ab",
   "metadata": {},
   "outputs": [],
   "source": [
    "# Ahora se convertiran las variables recodificadas en variables dummies\n",
    "#se usa , drop_first=True para evitar colinealidad\n"
   ]
  },
  {
   "cell_type": "code",
   "execution_count": 125,
   "id": "28e2c135",
   "metadata": {},
   "outputs": [],
   "source": [
    "a=pd.get_dummies(df['collars'], drop_first=True, dtype=np.int64)\n",
    "b=pd.get_dummies(df['workclass_recod'], drop_first=True, dtype=np.int64)\n",
    "c=pd.get_dummies(df['educ_recod'], drop_first=True, dtype=np.int64)\n",
    "d=pd.get_dummies(df['civstatus'], drop_first=True, dtype=np.int64)\n",
    "e=pd.get_dummies(df['region'], drop_first=True, dtype=np.int64)"
   ]
  },
  {
   "cell_type": "code",
   "execution_count": 126,
   "id": "e0282554",
   "metadata": {},
   "outputs": [],
   "source": [
    "df2=pd.concat ([ df, a,b,c,d,e ],  axis = 1 )"
   ]
  },
  {
   "cell_type": "markdown",
   "id": "1f84efbf",
   "metadata": {},
   "source": [
    "#### Hito 3"
   ]
  },
  {
   "cell_type": "raw",
   "id": "9ac85916",
   "metadata": {},
   "source": [
    "Modelación descriptiva"
   ]
  },
  {
   "cell_type": "code",
   "execution_count": 127,
   "id": "05f6f350",
   "metadata": {},
   "outputs": [
    {
     "name": "stdout",
     "output_type": "stream",
     "text": [
      "<class 'pandas.core.frame.DataFrame'>\n",
      "Int64Index: 45039 entries, 0 to 48841\n",
      "Data columns (total 40 columns):\n",
      " #   Column             Non-Null Count  Dtype \n",
      "---  ------             --------------  ----- \n",
      " 0   age                45039 non-null  int64 \n",
      " 1   workclass          45039 non-null  object\n",
      " 2   fnlwgt             45039 non-null  int64 \n",
      " 3   education          45039 non-null  object\n",
      " 4   educational-num    45039 non-null  int64 \n",
      " 5   marital-status     45039 non-null  object\n",
      " 6   occupation         45039 non-null  object\n",
      " 7   relationship       45039 non-null  object\n",
      " 8   race               45039 non-null  object\n",
      " 9   gender             45039 non-null  object\n",
      " 10  capital-gain       45039 non-null  int64 \n",
      " 11  capital-loss       45039 non-null  int64 \n",
      " 12  hours-per-week     45039 non-null  int64 \n",
      " 13  native-country     45039 non-null  object\n",
      " 14  income             45039 non-null  int32 \n",
      " 15  collars            45039 non-null  object\n",
      " 16  workclass_recod    45039 non-null  object\n",
      " 17  educ_recod         45039 non-null  object\n",
      " 18  civstatus          45039 non-null  object\n",
      " 19  region             44921 non-null  object\n",
      " 20  Not_in_family      45039 non-null  int32 \n",
      " 21  Not_white          45039 non-null  int32 \n",
      " 22  Female             45039 non-null  int32 \n",
      " 23  others             45039 non-null  int64 \n",
      " 24  white_collar       45039 non-null  int64 \n",
      " 25  private            45039 non-null  int64 \n",
      " 26  self_employed      45039 non-null  int64 \n",
      " 27  state_level_gov    45039 non-null  int64 \n",
      " 28  unemployed         45039 non-null  int64 \n",
      " 29  elementary_school  45039 non-null  int64 \n",
      " 30  high_school        45039 non-null  int64 \n",
      " 31  preschool          45039 non-null  int64 \n",
      " 32  university         45039 non-null  int64 \n",
      " 33  married            45039 non-null  int64 \n",
      " 34  never_married      45039 non-null  int64 \n",
      " 35  separated          45039 non-null  int64 \n",
      " 36  widowed            45039 non-null  int64 \n",
      " 37  asia               45039 non-null  int64 \n",
      " 38  caribe             45039 non-null  int64 \n",
      " 39  europa             45039 non-null  int64 \n",
      "dtypes: int32(4), int64(23), object(13)\n",
      "memory usage: 13.4+ MB\n"
     ]
    }
   ],
   "source": [
    "df2.info()"
   ]
  },
  {
   "cell_type": "code",
   "execution_count": 128,
   "id": "58211f51",
   "metadata": {},
   "outputs": [
    {
     "data": {
      "text/plain": [
       "Index(['age', 'workclass', 'fnlwgt', 'education', 'educational-num',\n",
       "       'marital-status', 'occupation', 'relationship', 'race', 'gender',\n",
       "       'capital-gain', 'capital-loss', 'hours-per-week', 'native-country',\n",
       "       'income', 'collars', 'workclass_recod', 'educ_recod', 'civstatus',\n",
       "       'region', 'Not_in_family', 'Not_white', 'Female', 'others',\n",
       "       'white_collar', 'private', 'self_employed', 'state_level_gov',\n",
       "       'unemployed', 'elementary_school', 'high_school', 'preschool',\n",
       "       'university', 'married', 'never_married', 'separated', 'widowed',\n",
       "       'asia', 'caribe', 'europa'],\n",
       "      dtype='object')"
      ]
     },
     "execution_count": 128,
     "metadata": {},
     "output_type": "execute_result"
    }
   ],
   "source": [
    "df2.columns"
   ]
  },
  {
   "cell_type": "code",
   "execution_count": 129,
   "id": "9cc62de5",
   "metadata": {},
   "outputs": [],
   "source": [
    "# Sacamos las variables categoricas y la variable objetivo"
   ]
  },
  {
   "cell_type": "code",
   "execution_count": 130,
   "id": "8280a428",
   "metadata": {},
   "outputs": [],
   "source": [
    "df_object = df2.select_dtypes(include=[object])"
   ]
  },
  {
   "cell_type": "code",
   "execution_count": 131,
   "id": "7ff220b0",
   "metadata": {
    "scrolled": true
   },
   "outputs": [
    {
     "data": {
      "text/plain": [
       "['workclass',\n",
       " 'education',\n",
       " 'marital-status',\n",
       " 'occupation',\n",
       " 'relationship',\n",
       " 'race',\n",
       " 'gender',\n",
       " 'native-country',\n",
       " 'collars',\n",
       " 'workclass_recod',\n",
       " 'educ_recod',\n",
       " 'civstatus',\n",
       " 'region']"
      ]
     },
     "execution_count": 131,
     "metadata": {},
     "output_type": "execute_result"
    }
   ],
   "source": [
    "column_names = list(df_object.columns)\n",
    "column_names"
   ]
  },
  {
   "cell_type": "code",
   "execution_count": 132,
   "id": "8a4cf4aa",
   "metadata": {},
   "outputs": [],
   "source": [
    "df2=df2.drop(column_names, axis=1)"
   ]
  },
  {
   "cell_type": "code",
   "execution_count": 133,
   "id": "bc2cda19",
   "metadata": {},
   "outputs": [
    {
     "name": "stdout",
     "output_type": "stream",
     "text": [
      "<class 'pandas.core.frame.DataFrame'>\n",
      "Int64Index: 45039 entries, 0 to 48841\n",
      "Data columns (total 27 columns):\n",
      " #   Column             Non-Null Count  Dtype\n",
      "---  ------             --------------  -----\n",
      " 0   age                45039 non-null  int64\n",
      " 1   fnlwgt             45039 non-null  int64\n",
      " 2   educational-num    45039 non-null  int64\n",
      " 3   capital-gain       45039 non-null  int64\n",
      " 4   capital-loss       45039 non-null  int64\n",
      " 5   hours-per-week     45039 non-null  int64\n",
      " 6   income             45039 non-null  int32\n",
      " 7   Not_in_family      45039 non-null  int32\n",
      " 8   Not_white          45039 non-null  int32\n",
      " 9   Female             45039 non-null  int32\n",
      " 10  others             45039 non-null  int64\n",
      " 11  white_collar       45039 non-null  int64\n",
      " 12  private            45039 non-null  int64\n",
      " 13  self_employed      45039 non-null  int64\n",
      " 14  state_level_gov    45039 non-null  int64\n",
      " 15  unemployed         45039 non-null  int64\n",
      " 16  elementary_school  45039 non-null  int64\n",
      " 17  high_school        45039 non-null  int64\n",
      " 18  preschool          45039 non-null  int64\n",
      " 19  university         45039 non-null  int64\n",
      " 20  married            45039 non-null  int64\n",
      " 21  never_married      45039 non-null  int64\n",
      " 22  separated          45039 non-null  int64\n",
      " 23  widowed            45039 non-null  int64\n",
      " 24  asia               45039 non-null  int64\n",
      " 25  caribe             45039 non-null  int64\n",
      " 26  europa             45039 non-null  int64\n",
      "dtypes: int32(4), int64(23)\n",
      "memory usage: 8.9 MB\n"
     ]
    }
   ],
   "source": [
    "df2.info()"
   ]
  },
  {
   "cell_type": "code",
   "execution_count": 134,
   "id": "531a7291",
   "metadata": {},
   "outputs": [],
   "source": [
    "df2=df2.rename(columns={\"hours-per-week\": \"hours_per_week\", \"capital-gain\": \"capital_gain\", \"educational-num\":\"educational_num\",\"capital-loss\":\"capital_loss\", })"
   ]
  },
  {
   "cell_type": "code",
   "execution_count": 135,
   "id": "31c726f0",
   "metadata": {},
   "outputs": [],
   "source": [
    "# Se implementa el modelo, removemos income"
   ]
  },
  {
   "cell_type": "code",
   "execution_count": 136,
   "id": "d48bf8c7",
   "metadata": {},
   "outputs": [
    {
     "data": {
      "text/plain": [
       "'age+fnlwgt+educational_num+capital_gain+capital_loss+hours_per_week+Not_in_family+Not_white+Female+others+white_collar+private+self_employed+state_level_gov+unemployed+elementary_school+high_school+preschool+university+married+never_married+separated+widowed+asia+caribe+europa'"
      ]
     },
     "execution_count": 136,
     "metadata": {},
     "output_type": "execute_result"
    }
   ],
   "source": [
    "columnas = list(df2.columns)\n",
    "columnas\n",
    "columnas.remove('income')\n",
    "\n",
    "sum_var = \"+\".join(columnas)\n",
    "sum_var"
   ]
  },
  {
   "cell_type": "code",
   "execution_count": 137,
   "id": "763ac3b4",
   "metadata": {},
   "outputs": [
    {
     "name": "stdout",
     "output_type": "stream",
     "text": [
      "Optimization terminated successfully.\n",
      "         Current function value: 0.336432\n",
      "         Iterations 12\n"
     ]
    }
   ],
   "source": [
    "m1_logit = smf.logit('income ~ '+sum_var, df2).fit()"
   ]
  },
  {
   "cell_type": "code",
   "execution_count": 138,
   "id": "e8a61b51",
   "metadata": {},
   "outputs": [],
   "source": [
    "# Se depura el modelo manteniendo las variables con significancia estadística al 5%"
   ]
  },
  {
   "cell_type": "code",
   "execution_count": 139,
   "id": "fe8857cb",
   "metadata": {},
   "outputs": [
    {
     "data": {
      "text/html": [
       "<table class=\"simpletable\">\n",
       "<tr>\n",
       "        <td>Model:</td>              <td>Logit</td>      <td>Pseudo R-squared:</td>    <td>0.400</td>  \n",
       "</tr>\n",
       "<tr>\n",
       "  <td>Dependent Variable:</td>      <td>income</td>            <td>AIC:</td>        <td>30359.1384</td>\n",
       "</tr>\n",
       "<tr>\n",
       "         <td>Date:</td>        <td>2022-11-23 05:09</td>       <td>BIC:</td>        <td>30594.4511</td>\n",
       "</tr>\n",
       "<tr>\n",
       "   <td>No. Observations:</td>        <td>45039</td>       <td>Log-Likelihood:</td>    <td>-15153.</td> \n",
       "</tr>\n",
       "<tr>\n",
       "       <td>Df Model:</td>             <td>26</td>            <td>LL-Null:</td>        <td>-25246.</td> \n",
       "</tr>\n",
       "<tr>\n",
       "     <td>Df Residuals:</td>          <td>45012</td>        <td>LLR p-value:</td>      <td>0.0000</td>  \n",
       "</tr>\n",
       "<tr>\n",
       "      <td>Converged:</td>           <td>1.0000</td>           <td>Scale:</td>         <td>1.0000</td>  \n",
       "</tr>\n",
       "<tr>\n",
       "    <td>No. Iterations:</td>        <td>12.0000</td>             <td></td>               <td></td>     \n",
       "</tr>\n",
       "</table>\n",
       "<table class=\"simpletable\">\n",
       "<tr>\n",
       "          <td></td>           <th>Coef.</th>  <th>Std.Err.</th>     <th>z</th>     <th>P>|z|</th>  <th>[0.025</th>  <th>0.975]</th> \n",
       "</tr>\n",
       "<tr>\n",
       "  <th>Intercept</th>         <td>-8.0845</td>  <td>0.2206</td>  <td>-36.6510</td> <td>0.0000</td>  <td>-8.5169</td> <td>-7.6522</td>\n",
       "</tr>\n",
       "<tr>\n",
       "  <th>age</th>               <td>0.0256</td>   <td>0.0013</td>   <td>19.1637</td> <td>0.0000</td>  <td>0.0230</td>  <td>0.0282</td> \n",
       "</tr>\n",
       "<tr>\n",
       "  <th>fnlwgt</th>            <td>0.0000</td>   <td>0.0000</td>   <td>5.1754</td>  <td>0.0000</td>  <td>0.0000</td>  <td>0.0000</td> \n",
       "</tr>\n",
       "<tr>\n",
       "  <th>educational_num</th>   <td>0.2833</td>   <td>0.0160</td>   <td>17.6547</td> <td>0.0000</td>  <td>0.2518</td>  <td>0.3147</td> \n",
       "</tr>\n",
       "<tr>\n",
       "  <th>capital_gain</th>      <td>0.0003</td>   <td>0.0000</td>   <td>37.2903</td> <td>0.0000</td>  <td>0.0003</td>  <td>0.0003</td> \n",
       "</tr>\n",
       "<tr>\n",
       "  <th>capital_loss</th>      <td>0.0007</td>   <td>0.0000</td>   <td>21.6024</td> <td>0.0000</td>  <td>0.0006</td>  <td>0.0007</td> \n",
       "</tr>\n",
       "<tr>\n",
       "  <th>hours_per_week</th>    <td>0.0294</td>   <td>0.0013</td>   <td>22.3975</td> <td>0.0000</td>  <td>0.0268</td>  <td>0.0320</td> \n",
       "</tr>\n",
       "<tr>\n",
       "  <th>Not_in_family</th>     <td>0.2910</td>   <td>0.0603</td>   <td>4.8251</td>  <td>0.0000</td>  <td>0.1728</td>  <td>0.4091</td> \n",
       "</tr>\n",
       "<tr>\n",
       "  <th>Not_white</th>         <td>-0.2144</td>  <td>0.0538</td>   <td>-3.9811</td> <td>0.0001</td>  <td>-0.3199</td> <td>-0.1088</td>\n",
       "</tr>\n",
       "<tr>\n",
       "  <th>Female</th>            <td>-0.2790</td>  <td>0.0420</td>   <td>-6.6407</td> <td>0.0000</td>  <td>-0.3613</td> <td>-0.1966</td>\n",
       "</tr>\n",
       "<tr>\n",
       "  <th>others</th>            <td>-0.7066</td>  <td>0.0864</td>   <td>-8.1814</td> <td>0.0000</td>  <td>-0.8759</td> <td>-0.5374</td>\n",
       "</tr>\n",
       "<tr>\n",
       "  <th>white_collar</th>      <td>0.6271</td>   <td>0.0354</td>   <td>17.7134</td> <td>0.0000</td>  <td>0.5577</td>  <td>0.6965</td> \n",
       "</tr>\n",
       "<tr>\n",
       "  <th>private</th>           <td>-0.4518</td>  <td>0.0747</td>   <td>-6.0504</td> <td>0.0000</td>  <td>-0.5982</td> <td>-0.3055</td>\n",
       "</tr>\n",
       "<tr>\n",
       "  <th>self_employed</th>     <td>-0.7817</td>  <td>0.0819</td>   <td>-9.5392</td> <td>0.0000</td>  <td>-0.9423</td> <td>-0.6211</td>\n",
       "</tr>\n",
       "<tr>\n",
       "  <th>state_level_gov</th>   <td>-0.5291</td>  <td>0.0832</td>   <td>-6.3562</td> <td>0.0000</td>  <td>-0.6923</td> <td>-0.3660</td>\n",
       "</tr>\n",
       "<tr>\n",
       "  <th>unemployed</th>        <td>-1.7177</td>  <td>0.7897</td>   <td>-2.1752</td> <td>0.0296</td>  <td>-3.2654</td> <td>-0.1700</td>\n",
       "</tr>\n",
       "<tr>\n",
       "  <th>elementary_school</th> <td>0.1347</td>   <td>0.2364</td>   <td>0.5699</td>  <td>0.5688</td>  <td>-0.3286</td> <td>0.5980</td> \n",
       "</tr>\n",
       "<tr>\n",
       "  <th>high_school</th>       <td>-0.0516</td>  <td>0.0466</td>   <td>-1.1076</td> <td>0.2680</td>  <td>-0.1430</td> <td>0.0397</td> \n",
       "</tr>\n",
       "<tr>\n",
       "  <th>preschool</th>         <td>-4.7255</td>  <td>5.9767</td>   <td>-0.7907</td> <td>0.4291</td> <td>-16.4396</td> <td>6.9886</td> \n",
       "</tr>\n",
       "<tr>\n",
       "  <th>university</th>        <td>0.0781</td>   <td>0.0606</td>   <td>1.2875</td>  <td>0.1979</td>  <td>-0.0408</td> <td>0.1969</td> \n",
       "</tr>\n",
       "<tr>\n",
       "  <th>married</th>           <td>2.3581</td>   <td>0.0673</td>   <td>35.0483</td> <td>0.0000</td>  <td>2.2262</td>  <td>2.4900</td> \n",
       "</tr>\n",
       "<tr>\n",
       "  <th>never_married</th>     <td>-0.5147</td>  <td>0.0689</td>   <td>-7.4675</td> <td>0.0000</td>  <td>-0.6498</td> <td>-0.3796</td>\n",
       "</tr>\n",
       "<tr>\n",
       "  <th>separated</th>         <td>-0.0110</td>  <td>0.1321</td>   <td>-0.0829</td> <td>0.9339</td>  <td>-0.2699</td> <td>0.2480</td> \n",
       "</tr>\n",
       "<tr>\n",
       "  <th>widowed</th>           <td>0.0040</td>   <td>0.1264</td>   <td>0.0317</td>  <td>0.9747</td>  <td>-0.2438</td> <td>0.2518</td> \n",
       "</tr>\n",
       "<tr>\n",
       "  <th>asia</th>              <td>-0.1044</td>  <td>0.1112</td>   <td>-0.9389</td> <td>0.3478</td>  <td>-0.3222</td> <td>0.1135</td> \n",
       "</tr>\n",
       "<tr>\n",
       "  <th>caribe</th>            <td>-0.1987</td>  <td>0.2701</td>   <td>-0.7357</td> <td>0.4619</td>  <td>-0.7282</td> <td>0.3307</td> \n",
       "</tr>\n",
       "<tr>\n",
       "  <th>europa</th>            <td>0.1261</td>   <td>0.1089</td>   <td>1.1582</td>  <td>0.2468</td>  <td>-0.0873</td> <td>0.3395</td> \n",
       "</tr>\n",
       "</table>"
      ],
      "text/plain": [
       "<class 'statsmodels.iolib.summary2.Summary'>\n",
       "\"\"\"\n",
       "                          Results: Logit\n",
       "===================================================================\n",
       "Model:                Logit            Pseudo R-squared: 0.400     \n",
       "Dependent Variable:   income           AIC:              30359.1384\n",
       "Date:                 2022-11-23 05:09 BIC:              30594.4511\n",
       "No. Observations:     45039            Log-Likelihood:   -15153.   \n",
       "Df Model:             26               LL-Null:          -25246.   \n",
       "Df Residuals:         45012            LLR p-value:      0.0000    \n",
       "Converged:            1.0000           Scale:            1.0000    \n",
       "No. Iterations:       12.0000                                      \n",
       "-------------------------------------------------------------------\n",
       "                   Coef.  Std.Err.    z     P>|z|   [0.025   0.975]\n",
       "-------------------------------------------------------------------\n",
       "Intercept         -8.0845   0.2206 -36.6510 0.0000  -8.5169 -7.6522\n",
       "age                0.0256   0.0013  19.1637 0.0000   0.0230  0.0282\n",
       "fnlwgt             0.0000   0.0000   5.1754 0.0000   0.0000  0.0000\n",
       "educational_num    0.2833   0.0160  17.6547 0.0000   0.2518  0.3147\n",
       "capital_gain       0.0003   0.0000  37.2903 0.0000   0.0003  0.0003\n",
       "capital_loss       0.0007   0.0000  21.6024 0.0000   0.0006  0.0007\n",
       "hours_per_week     0.0294   0.0013  22.3975 0.0000   0.0268  0.0320\n",
       "Not_in_family      0.2910   0.0603   4.8251 0.0000   0.1728  0.4091\n",
       "Not_white         -0.2144   0.0538  -3.9811 0.0001  -0.3199 -0.1088\n",
       "Female            -0.2790   0.0420  -6.6407 0.0000  -0.3613 -0.1966\n",
       "others            -0.7066   0.0864  -8.1814 0.0000  -0.8759 -0.5374\n",
       "white_collar       0.6271   0.0354  17.7134 0.0000   0.5577  0.6965\n",
       "private           -0.4518   0.0747  -6.0504 0.0000  -0.5982 -0.3055\n",
       "self_employed     -0.7817   0.0819  -9.5392 0.0000  -0.9423 -0.6211\n",
       "state_level_gov   -0.5291   0.0832  -6.3562 0.0000  -0.6923 -0.3660\n",
       "unemployed        -1.7177   0.7897  -2.1752 0.0296  -3.2654 -0.1700\n",
       "elementary_school  0.1347   0.2364   0.5699 0.5688  -0.3286  0.5980\n",
       "high_school       -0.0516   0.0466  -1.1076 0.2680  -0.1430  0.0397\n",
       "preschool         -4.7255   5.9767  -0.7907 0.4291 -16.4396  6.9886\n",
       "university         0.0781   0.0606   1.2875 0.1979  -0.0408  0.1969\n",
       "married            2.3581   0.0673  35.0483 0.0000   2.2262  2.4900\n",
       "never_married     -0.5147   0.0689  -7.4675 0.0000  -0.6498 -0.3796\n",
       "separated         -0.0110   0.1321  -0.0829 0.9339  -0.2699  0.2480\n",
       "widowed            0.0040   0.1264   0.0317 0.9747  -0.2438  0.2518\n",
       "asia              -0.1044   0.1112  -0.9389 0.3478  -0.3222  0.1135\n",
       "caribe            -0.1987   0.2701  -0.7357 0.4619  -0.7282  0.3307\n",
       "europa             0.1261   0.1089   1.1582 0.2468  -0.0873  0.3395\n",
       "===================================================================\n",
       "\n",
       "\"\"\""
      ]
     },
     "execution_count": 139,
     "metadata": {},
     "output_type": "execute_result"
    }
   ],
   "source": [
    "m1_logit.summary2()"
   ]
  },
  {
   "cell_type": "code",
   "execution_count": 140,
   "id": "767d347e",
   "metadata": {},
   "outputs": [
    {
     "name": "stdout",
     "output_type": "stream",
     "text": [
      "Optimization terminated successfully.\n",
      "         Current function value: 0.336537\n",
      "         Iterations 8\n"
     ]
    }
   ],
   "source": [
    "#Se filtra por p value menor a 0.05\n",
    "var_sig = 'age+Female+fnlwgt+educational_num+capital_gain+capital_loss+hours_per_week+Not_in_family+Not_white+Not_white+others+white_collar+private+self_employed+unemployed+married+never_married+state_level_gov'\n",
    "m1_logit_dep = smf.logit('income ~ '+var_sig, df2).fit()"
   ]
  },
  {
   "cell_type": "code",
   "execution_count": 141,
   "id": "8287d54a",
   "metadata": {},
   "outputs": [
    {
     "data": {
      "text/html": [
       "<table class=\"simpletable\">\n",
       "<tr>\n",
       "        <td>Model:</td>              <td>Logit</td>      <td>Pseudo R-squared:</td>    <td>0.400</td>  \n",
       "</tr>\n",
       "<tr>\n",
       "  <td>Dependent Variable:</td>      <td>income</td>            <td>AIC:</td>        <td>30350.5924</td>\n",
       "</tr>\n",
       "<tr>\n",
       "         <td>Date:</td>        <td>2022-11-23 05:09</td>       <td>BIC:</td>        <td>30507.4675</td>\n",
       "</tr>\n",
       "<tr>\n",
       "   <td>No. Observations:</td>        <td>45039</td>       <td>Log-Likelihood:</td>    <td>-15157.</td> \n",
       "</tr>\n",
       "<tr>\n",
       "       <td>Df Model:</td>             <td>17</td>            <td>LL-Null:</td>        <td>-25246.</td> \n",
       "</tr>\n",
       "<tr>\n",
       "     <td>Df Residuals:</td>          <td>45021</td>        <td>LLR p-value:</td>      <td>0.0000</td>  \n",
       "</tr>\n",
       "<tr>\n",
       "      <td>Converged:</td>           <td>1.0000</td>           <td>Scale:</td>         <td>1.0000</td>  \n",
       "</tr>\n",
       "<tr>\n",
       "    <td>No. Iterations:</td>        <td>8.0000</td>              <td></td>               <td></td>     \n",
       "</tr>\n",
       "</table>\n",
       "<table class=\"simpletable\">\n",
       "<tr>\n",
       "         <td></td>          <th>Coef.</th>  <th>Std.Err.</th>     <th>z</th>     <th>P>|z|</th> <th>[0.025</th>  <th>0.975]</th> \n",
       "</tr>\n",
       "<tr>\n",
       "  <th>Intercept</th>       <td>-8.2911</td>  <td>0.1562</td>  <td>-53.0797</td> <td>0.0000</td> <td>-8.5972</td> <td>-7.9849</td>\n",
       "</tr>\n",
       "<tr>\n",
       "  <th>age</th>             <td>0.0257</td>   <td>0.0013</td>   <td>19.4969</td> <td>0.0000</td> <td>0.0231</td>  <td>0.0283</td> \n",
       "</tr>\n",
       "<tr>\n",
       "  <th>Female</th>          <td>-0.2798</td>  <td>0.0418</td>   <td>-6.6879</td> <td>0.0000</td> <td>-0.3619</td> <td>-0.1978</td>\n",
       "</tr>\n",
       "<tr>\n",
       "  <th>fnlwgt</th>          <td>0.0000</td>   <td>0.0000</td>   <td>5.2497</td>  <td>0.0000</td> <td>0.0000</td>  <td>0.0000</td> \n",
       "</tr>\n",
       "<tr>\n",
       "  <th>educational_num</th> <td>0.3024</td>   <td>0.0072</td>   <td>41.9889</td> <td>0.0000</td> <td>0.2883</td>  <td>0.3165</td> \n",
       "</tr>\n",
       "<tr>\n",
       "  <th>capital_gain</th>    <td>0.0003</td>   <td>0.0000</td>   <td>37.3259</td> <td>0.0000</td> <td>0.0003</td>  <td>0.0003</td> \n",
       "</tr>\n",
       "<tr>\n",
       "  <th>capital_loss</th>    <td>0.0007</td>   <td>0.0000</td>   <td>21.5968</td> <td>0.0000</td> <td>0.0006</td>  <td>0.0007</td> \n",
       "</tr>\n",
       "<tr>\n",
       "  <th>hours_per_week</th>  <td>0.0294</td>   <td>0.0013</td>   <td>22.3952</td> <td>0.0000</td> <td>0.0268</td>  <td>0.0320</td> \n",
       "</tr>\n",
       "<tr>\n",
       "  <th>Not_in_family</th>   <td>0.2923</td>   <td>0.0602</td>   <td>4.8579</td>  <td>0.0000</td> <td>0.1744</td>  <td>0.4102</td> \n",
       "</tr>\n",
       "<tr>\n",
       "  <th>Not_white</th>       <td>-0.2418</td>  <td>0.0485</td>   <td>-4.9810</td> <td>0.0000</td> <td>-0.3370</td> <td>-0.1467</td>\n",
       "</tr>\n",
       "<tr>\n",
       "  <th>others</th>          <td>-0.7056</td>  <td>0.0863</td>   <td>-8.1722</td> <td>0.0000</td> <td>-0.8748</td> <td>-0.5363</td>\n",
       "</tr>\n",
       "<tr>\n",
       "  <th>white_collar</th>    <td>0.6337</td>   <td>0.0351</td>   <td>18.0565</td> <td>0.0000</td> <td>0.5649</td>  <td>0.7025</td> \n",
       "</tr>\n",
       "<tr>\n",
       "  <th>private</th>         <td>-0.4526</td>  <td>0.0746</td>   <td>-6.0702</td> <td>0.0000</td> <td>-0.5987</td> <td>-0.3064</td>\n",
       "</tr>\n",
       "<tr>\n",
       "  <th>self_employed</th>   <td>-0.7828</td>  <td>0.0818</td>   <td>-9.5661</td> <td>0.0000</td> <td>-0.9431</td> <td>-0.6224</td>\n",
       "</tr>\n",
       "<tr>\n",
       "  <th>unemployed</th>      <td>-1.7424</td>  <td>0.7900</td>   <td>-2.2057</td> <td>0.0274</td> <td>-3.2907</td> <td>-0.1941</td>\n",
       "</tr>\n",
       "<tr>\n",
       "  <th>married</th>         <td>2.3587</td>   <td>0.0622</td>   <td>37.9468</td> <td>0.0000</td> <td>2.2368</td>  <td>2.4805</td> \n",
       "</tr>\n",
       "<tr>\n",
       "  <th>never_married</th>   <td>-0.5079</td>  <td>0.0648</td>   <td>-7.8407</td> <td>0.0000</td> <td>-0.6349</td> <td>-0.3810</td>\n",
       "</tr>\n",
       "<tr>\n",
       "  <th>state_level_gov</th> <td>-0.5269</td>  <td>0.0831</td>   <td>-6.3381</td> <td>0.0000</td> <td>-0.6899</td> <td>-0.3640</td>\n",
       "</tr>\n",
       "</table>"
      ],
      "text/plain": [
       "<class 'statsmodels.iolib.summary2.Summary'>\n",
       "\"\"\"\n",
       "                         Results: Logit\n",
       "=================================================================\n",
       "Model:              Logit            Pseudo R-squared: 0.400     \n",
       "Dependent Variable: income           AIC:              30350.5924\n",
       "Date:               2022-11-23 05:09 BIC:              30507.4675\n",
       "No. Observations:   45039            Log-Likelihood:   -15157.   \n",
       "Df Model:           17               LL-Null:          -25246.   \n",
       "Df Residuals:       45021            LLR p-value:      0.0000    \n",
       "Converged:          1.0000           Scale:            1.0000    \n",
       "No. Iterations:     8.0000                                       \n",
       "-----------------------------------------------------------------\n",
       "                  Coef.  Std.Err.    z     P>|z|   [0.025  0.975]\n",
       "-----------------------------------------------------------------\n",
       "Intercept        -8.2911   0.1562 -53.0797 0.0000 -8.5972 -7.9849\n",
       "age               0.0257   0.0013  19.4969 0.0000  0.0231  0.0283\n",
       "Female           -0.2798   0.0418  -6.6879 0.0000 -0.3619 -0.1978\n",
       "fnlwgt            0.0000   0.0000   5.2497 0.0000  0.0000  0.0000\n",
       "educational_num   0.3024   0.0072  41.9889 0.0000  0.2883  0.3165\n",
       "capital_gain      0.0003   0.0000  37.3259 0.0000  0.0003  0.0003\n",
       "capital_loss      0.0007   0.0000  21.5968 0.0000  0.0006  0.0007\n",
       "hours_per_week    0.0294   0.0013  22.3952 0.0000  0.0268  0.0320\n",
       "Not_in_family     0.2923   0.0602   4.8579 0.0000  0.1744  0.4102\n",
       "Not_white        -0.2418   0.0485  -4.9810 0.0000 -0.3370 -0.1467\n",
       "others           -0.7056   0.0863  -8.1722 0.0000 -0.8748 -0.5363\n",
       "white_collar      0.6337   0.0351  18.0565 0.0000  0.5649  0.7025\n",
       "private          -0.4526   0.0746  -6.0702 0.0000 -0.5987 -0.3064\n",
       "self_employed    -0.7828   0.0818  -9.5661 0.0000 -0.9431 -0.6224\n",
       "unemployed       -1.7424   0.7900  -2.2057 0.0274 -3.2907 -0.1941\n",
       "married           2.3587   0.0622  37.9468 0.0000  2.2368  2.4805\n",
       "never_married    -0.5079   0.0648  -7.8407 0.0000 -0.6349 -0.3810\n",
       "state_level_gov  -0.5269   0.0831  -6.3381 0.0000 -0.6899 -0.3640\n",
       "=================================================================\n",
       "\n",
       "\"\"\""
      ]
     },
     "execution_count": 141,
     "metadata": {},
     "output_type": "execute_result"
    }
   ],
   "source": [
    "m1_logit_dep.summary2()"
   ]
  },
  {
   "cell_type": "code",
   "execution_count": 58,
   "id": "e946e3ef",
   "metadata": {},
   "outputs": [],
   "source": [
    "# El Pseudo R^2 de ambos modelos son muy similares (explican la varianza del modelo en aproximadamente un 40%)\n",
    "#Todas las variables del modelo depurado siguen siendo significativas"
   ]
  },
  {
   "cell_type": "code",
   "execution_count": 142,
   "id": "48605ef7",
   "metadata": {},
   "outputs": [
    {
     "data": {
      "text/plain": [
       "Intercept         -8.291052e+00\n",
       "age                2.567002e-02\n",
       "Female            -2.798489e-01\n",
       "fnlwgt             7.255330e-07\n",
       "educational_num    3.024284e-01\n",
       "capital_gain       3.222672e-04\n",
       "capital_loss       6.621970e-04\n",
       "hours_per_week     2.941212e-02\n",
       "Not_in_family      2.923025e-01\n",
       "Not_white         -2.418260e-01\n",
       "others            -7.055516e-01\n",
       "white_collar       6.337346e-01\n",
       "private           -4.525575e-01\n",
       "self_employed     -7.827535e-01\n",
       "unemployed        -1.742422e+00\n",
       "married            2.358664e+00\n",
       "never_married     -5.079393e-01\n",
       "state_level_gov   -5.269212e-01\n",
       "dtype: float64"
      ]
     },
     "execution_count": 142,
     "metadata": {},
     "output_type": "execute_result"
    }
   ],
   "source": [
    "# El aporte de cada variable significativa es:\n",
    "m1_logit_dep.params"
   ]
  },
  {
   "cell_type": "code",
   "execution_count": 143,
   "id": "2cc43772",
   "metadata": {},
   "outputs": [],
   "source": [
    "coeficientes = m1_logit_dep.params"
   ]
  },
  {
   "cell_type": "code",
   "execution_count": 144,
   "id": "540dbaf4",
   "metadata": {},
   "outputs": [],
   "source": [
    "def invlogit(x):\n",
    "    return 1 / (1+np.exp(-x))"
   ]
  },
  {
   "cell_type": "code",
   "execution_count": 145,
   "id": "bb41fa39",
   "metadata": {},
   "outputs": [
    {
     "data": {
      "text/plain": [
       "Intercept          0.0000\n",
       "age                0.0003\n",
       "Female             0.0002\n",
       "fnlwgt             0.0003\n",
       "educational_num    0.0003\n",
       "capital_gain       0.0003\n",
       "capital_loss       0.0003\n",
       "hours_per_week     0.0003\n",
       "Not_in_family      0.0003\n",
       "Not_white          0.0002\n",
       "others             0.0001\n",
       "white_collar       0.0005\n",
       "private            0.0002\n",
       "self_employed      0.0001\n",
       "unemployed         0.0000\n",
       "married            0.0026\n",
       "never_married      0.0002\n",
       "state_level_gov    0.0001\n",
       "dtype: float64"
      ]
     },
     "execution_count": 145,
     "metadata": {},
     "output_type": "execute_result"
    }
   ],
   "source": [
    "coeficientes.map(lambda x: \\\n",
    "                 round(invlogit(m1_logit_dep.params['Intercept'] + x), 4))"
   ]
  },
  {
   "cell_type": "code",
   "execution_count": 63,
   "id": "395d56be",
   "metadata": {},
   "outputs": [],
   "source": [
    "# Entonces de acuerdo a lo obtenido podemos ver que en casi todas las variables, la adicion de una unidad incrementa 0.01% - 0.05% \n",
    "#la probabilida  de ganar un salario mayor a 50K, la variable married aporta un 0.26% a la probabilidad.\n",
    "\n",
    "# Variables como  educacion, inversiones( capital_gain/loss), horas trabajadas, ocupacion; que tienen que ver\n",
    "# directamente con la preparación academica y oportunidades son esperables como regresoras en este estudio\n",
    "\n",
    "# Variables como estado civil, color de piel y edad y género también son esperables que generen cambios en la probabilidad de income,\n",
    "# sin embargo pueden indicar la importancia de ciertos arquetipos sociales para obtener mejores oportunidades laborales o derechamente \n",
    "# mayores ingresos. "
   ]
  },
  {
   "cell_type": "code",
   "execution_count": 146,
   "id": "5993bb19",
   "metadata": {},
   "outputs": [
    {
     "name": "stdout",
     "output_type": "stream",
     "text": [
      "Optimization terminated successfully.\n",
      "         Current function value: 0.456928\n",
      "         Iterations 7\n"
     ]
    }
   ],
   "source": [
    "# Según apreciamos la adición de la variable married aporta en un 0.24% a la probabilidad de ganar mas que 50k.\n",
    "# Se observa el modelo con esta variable como regresora\n",
    "\n",
    "m2_logit = smf.logit('income ~ married', df2).fit()"
   ]
  },
  {
   "cell_type": "code",
   "execution_count": 147,
   "id": "77e117bd",
   "metadata": {},
   "outputs": [
    {
     "data": {
      "text/html": [
       "<table class=\"simpletable\">\n",
       "<tr>\n",
       "        <td>Model:</td>              <td>Logit</td>      <td>Pseudo R-squared:</td>    <td>0.185</td>  \n",
       "</tr>\n",
       "<tr>\n",
       "  <td>Dependent Variable:</td>      <td>income</td>            <td>AIC:</td>        <td>41163.1515</td>\n",
       "</tr>\n",
       "<tr>\n",
       "         <td>Date:</td>        <td>2022-11-23 05:11</td>       <td>BIC:</td>        <td>41180.5821</td>\n",
       "</tr>\n",
       "<tr>\n",
       "   <td>No. Observations:</td>        <td>45039</td>       <td>Log-Likelihood:</td>    <td>-20580.</td> \n",
       "</tr>\n",
       "<tr>\n",
       "       <td>Df Model:</td>              <td>1</td>            <td>LL-Null:</td>        <td>-25246.</td> \n",
       "</tr>\n",
       "<tr>\n",
       "     <td>Df Residuals:</td>          <td>45037</td>        <td>LLR p-value:</td>      <td>0.0000</td>  \n",
       "</tr>\n",
       "<tr>\n",
       "      <td>Converged:</td>           <td>1.0000</td>           <td>Scale:</td>         <td>1.0000</td>  \n",
       "</tr>\n",
       "<tr>\n",
       "    <td>No. Iterations:</td>        <td>7.0000</td>              <td></td>               <td></td>     \n",
       "</tr>\n",
       "</table>\n",
       "<table class=\"simpletable\">\n",
       "<tr>\n",
       "      <td></td>       <th>Coef.</th>  <th>Std.Err.</th>     <th>z</th>      <th>P>|z|</th> <th>[0.025</th>  <th>0.975]</th> \n",
       "</tr>\n",
       "<tr>\n",
       "  <th>Intercept</th> <td>-2.6351</td>  <td>0.0261</td>  <td>-100.9196</td> <td>0.0000</td> <td>-2.6862</td> <td>-2.5839</td>\n",
       "</tr>\n",
       "<tr>\n",
       "  <th>married</th>   <td>2.4190</td>   <td>0.0295</td>   <td>82.0309</td>  <td>0.0000</td> <td>2.3612</td>  <td>2.4768</td> \n",
       "</tr>\n",
       "</table>"
      ],
      "text/plain": [
       "<class 'statsmodels.iolib.summary2.Summary'>\n",
       "\"\"\"\n",
       "                         Results: Logit\n",
       "=================================================================\n",
       "Model:              Logit            Pseudo R-squared: 0.185     \n",
       "Dependent Variable: income           AIC:              41163.1515\n",
       "Date:               2022-11-23 05:11 BIC:              41180.5821\n",
       "No. Observations:   45039            Log-Likelihood:   -20580.   \n",
       "Df Model:           1                LL-Null:          -25246.   \n",
       "Df Residuals:       45037            LLR p-value:      0.0000    \n",
       "Converged:          1.0000           Scale:            1.0000    \n",
       "No. Iterations:     7.0000                                       \n",
       "------------------------------------------------------------------\n",
       "             Coef.   Std.Err.      z      P>|z|    [0.025   0.975]\n",
       "------------------------------------------------------------------\n",
       "Intercept   -2.6351    0.0261  -100.9196  0.0000  -2.6862  -2.5839\n",
       "married      2.4190    0.0295    82.0309  0.0000   2.3612   2.4768\n",
       "=================================================================\n",
       "\n",
       "\"\"\""
      ]
     },
     "execution_count": 147,
     "metadata": {},
     "output_type": "execute_result"
    }
   ],
   "source": [
    "m2_logit.summary2()\n",
    "#El porcentaje explicativo del modelo es menor a los modelos anteriores, esto debido a que no considera variables inportantes \n",
    "#para explicar la variable income"
   ]
  },
  {
   "cell_type": "code",
   "execution_count": 148,
   "id": "138ef1a7",
   "metadata": {},
   "outputs": [
    {
     "name": "stdout",
     "output_type": "stream",
     "text": [
      "\n",
      "Goodness of Fit statistics\n",
      "         Statistics       Value\n",
      "2             BIC:  41180.5821\n",
      "3  Log-Likelihood:     -20580.\n",
      "4         LL-Null:     -25246.\n",
      "5     LLR p-value:      0.0000\n",
      "6           Scale:      1.0000\n",
      "7                             \n",
      "\n",
      "Point Estimates\n",
      "\n",
      "               Coef.  Std.Err.           z  P>|z|    [0.025    0.975]\n",
      "Intercept -2.635051  0.026110 -100.919604    0.0 -2.686226 -2.583875\n",
      "married    2.418963  0.029488   82.030866    0.0  2.361167  2.476760\n"
     ]
    }
   ],
   "source": [
    "# Se calcula la probabilidad que la persona reciba un sueldo mayor a 50k esté casada\n",
    "\n",
    "def concise_summary(mod, print_fit=True):\n",
    "    \"\"\"Resumen de estadistico del modelo\"\"\"\n",
    "    #guardamos los parámetros asociados a estadísticas de ajuste\n",
    "    fit = pd.DataFrame({'Statistics': mod.summary2().tables[0][2][2:],\n",
    "    'Value': mod.summary2().tables[0][3][2:]})\n",
    "    # guardamos los parámetros estimados por cada regresor.\n",
    "    estimates = pd.DataFrame(mod.summary2().tables[1])\n",
    "    # imprimir fit es opcional\n",
    "    if print_fit is True:\n",
    "        print(\"\\nGoodness of Fit statistics\\n\", fit)\n",
    "        print(\"\\nPoint Estimates\\n\\n\", estimates)\n",
    "    # solicitemos las características del modelo\n",
    "concise_summary(m2_logit)"
   ]
  },
  {
   "cell_type": "code",
   "execution_count": 149,
   "id": "da25b4af",
   "metadata": {},
   "outputs": [
    {
     "name": "stdout",
     "output_type": "stream",
     "text": [
      "La probabilidad de un individuo casado gane más de 50k como salario:  0.4462\n"
     ]
    }
   ],
   "source": [
    "m = round(invlogit(-2.635051+2.418963), 4)\n",
    "print(\"La probabilidad de un individuo casado gane más de 50k como salario: \",\n",
    "    m)"
   ]
  },
  {
   "cell_type": "code",
   "execution_count": 150,
   "id": "01861088",
   "metadata": {},
   "outputs": [
    {
     "name": "stdout",
     "output_type": "stream",
     "text": [
      "La probabilidad de un individuo que no esté casado gane más de 50k como salario:  0.0669\n"
     ]
    }
   ],
   "source": [
    "nm = round(invlogit(-2.635051), 4)\n",
    "print(\"La probabilidad de un individuo que no esté casado gane más de 50k como salario: \",\n",
    "    nm)"
   ]
  },
  {
   "cell_type": "markdown",
   "id": "e04bceb6",
   "metadata": {},
   "source": [
    "#### Hito 4"
   ]
  },
  {
   "cell_type": "raw",
   "id": "71127bdb",
   "metadata": {},
   "source": [
    "Modelación predictiva"
   ]
  },
  {
   "cell_type": "code",
   "execution_count": 151,
   "id": "46c05b07",
   "metadata": {},
   "outputs": [],
   "source": [
    "#Se genera subconjuntos de entrenamiento y pruebas, separando el 33% de la muestra en el conjunto de pruebas.\n",
    "#Se utiliza las variables del modelo depurado.\n",
    "#También se eliminaran las variables que puedan tener la misma información para trabajar con las variables necesarias\n",
    "# y evitar esl sobre ajuste ( estas son fnlwgt,capital_loss, others, unemployed, never_married,private,Not_in_family)"
   ]
  },
  {
   "cell_type": "code",
   "execution_count": 152,
   "id": "92e46689",
   "metadata": {},
   "outputs": [
    {
     "data": {
      "text/html": [
       "<div>\n",
       "<style scoped>\n",
       "    .dataframe tbody tr th:only-of-type {\n",
       "        vertical-align: middle;\n",
       "    }\n",
       "\n",
       "    .dataframe tbody tr th {\n",
       "        vertical-align: top;\n",
       "    }\n",
       "\n",
       "    .dataframe thead th {\n",
       "        text-align: right;\n",
       "    }\n",
       "</style>\n",
       "<table border=\"1\" class=\"dataframe\">\n",
       "  <thead>\n",
       "    <tr style=\"text-align: right;\">\n",
       "      <th></th>\n",
       "      <th>age</th>\n",
       "      <th>fnlwgt</th>\n",
       "      <th>educational_num</th>\n",
       "      <th>capital_gain</th>\n",
       "      <th>capital_loss</th>\n",
       "      <th>hours_per_week</th>\n",
       "      <th>income</th>\n",
       "      <th>Not_in_family</th>\n",
       "      <th>Not_white</th>\n",
       "      <th>Female</th>\n",
       "      <th>...</th>\n",
       "      <th>high_school</th>\n",
       "      <th>preschool</th>\n",
       "      <th>university</th>\n",
       "      <th>married</th>\n",
       "      <th>never_married</th>\n",
       "      <th>separated</th>\n",
       "      <th>widowed</th>\n",
       "      <th>asia</th>\n",
       "      <th>caribe</th>\n",
       "      <th>europa</th>\n",
       "    </tr>\n",
       "  </thead>\n",
       "  <tbody>\n",
       "    <tr>\n",
       "      <th>0</th>\n",
       "      <td>25</td>\n",
       "      <td>226802</td>\n",
       "      <td>7</td>\n",
       "      <td>0</td>\n",
       "      <td>0</td>\n",
       "      <td>40</td>\n",
       "      <td>0</td>\n",
       "      <td>0</td>\n",
       "      <td>1</td>\n",
       "      <td>0</td>\n",
       "      <td>...</td>\n",
       "      <td>1</td>\n",
       "      <td>0</td>\n",
       "      <td>0</td>\n",
       "      <td>0</td>\n",
       "      <td>1</td>\n",
       "      <td>0</td>\n",
       "      <td>0</td>\n",
       "      <td>0</td>\n",
       "      <td>0</td>\n",
       "      <td>0</td>\n",
       "    </tr>\n",
       "    <tr>\n",
       "      <th>1</th>\n",
       "      <td>38</td>\n",
       "      <td>89814</td>\n",
       "      <td>9</td>\n",
       "      <td>0</td>\n",
       "      <td>0</td>\n",
       "      <td>50</td>\n",
       "      <td>0</td>\n",
       "      <td>0</td>\n",
       "      <td>0</td>\n",
       "      <td>0</td>\n",
       "      <td>...</td>\n",
       "      <td>1</td>\n",
       "      <td>0</td>\n",
       "      <td>0</td>\n",
       "      <td>1</td>\n",
       "      <td>0</td>\n",
       "      <td>0</td>\n",
       "      <td>0</td>\n",
       "      <td>0</td>\n",
       "      <td>0</td>\n",
       "      <td>0</td>\n",
       "    </tr>\n",
       "    <tr>\n",
       "      <th>2</th>\n",
       "      <td>28</td>\n",
       "      <td>336951</td>\n",
       "      <td>12</td>\n",
       "      <td>0</td>\n",
       "      <td>0</td>\n",
       "      <td>40</td>\n",
       "      <td>1</td>\n",
       "      <td>0</td>\n",
       "      <td>0</td>\n",
       "      <td>0</td>\n",
       "      <td>...</td>\n",
       "      <td>0</td>\n",
       "      <td>0</td>\n",
       "      <td>0</td>\n",
       "      <td>1</td>\n",
       "      <td>0</td>\n",
       "      <td>0</td>\n",
       "      <td>0</td>\n",
       "      <td>0</td>\n",
       "      <td>0</td>\n",
       "      <td>0</td>\n",
       "    </tr>\n",
       "    <tr>\n",
       "      <th>3</th>\n",
       "      <td>44</td>\n",
       "      <td>160323</td>\n",
       "      <td>10</td>\n",
       "      <td>7688</td>\n",
       "      <td>0</td>\n",
       "      <td>40</td>\n",
       "      <td>1</td>\n",
       "      <td>0</td>\n",
       "      <td>1</td>\n",
       "      <td>0</td>\n",
       "      <td>...</td>\n",
       "      <td>0</td>\n",
       "      <td>0</td>\n",
       "      <td>0</td>\n",
       "      <td>1</td>\n",
       "      <td>0</td>\n",
       "      <td>0</td>\n",
       "      <td>0</td>\n",
       "      <td>0</td>\n",
       "      <td>0</td>\n",
       "      <td>0</td>\n",
       "    </tr>\n",
       "    <tr>\n",
       "      <th>5</th>\n",
       "      <td>34</td>\n",
       "      <td>198693</td>\n",
       "      <td>6</td>\n",
       "      <td>0</td>\n",
       "      <td>0</td>\n",
       "      <td>30</td>\n",
       "      <td>0</td>\n",
       "      <td>1</td>\n",
       "      <td>0</td>\n",
       "      <td>0</td>\n",
       "      <td>...</td>\n",
       "      <td>1</td>\n",
       "      <td>0</td>\n",
       "      <td>0</td>\n",
       "      <td>0</td>\n",
       "      <td>1</td>\n",
       "      <td>0</td>\n",
       "      <td>0</td>\n",
       "      <td>0</td>\n",
       "      <td>0</td>\n",
       "      <td>0</td>\n",
       "    </tr>\n",
       "    <tr>\n",
       "      <th>...</th>\n",
       "      <td>...</td>\n",
       "      <td>...</td>\n",
       "      <td>...</td>\n",
       "      <td>...</td>\n",
       "      <td>...</td>\n",
       "      <td>...</td>\n",
       "      <td>...</td>\n",
       "      <td>...</td>\n",
       "      <td>...</td>\n",
       "      <td>...</td>\n",
       "      <td>...</td>\n",
       "      <td>...</td>\n",
       "      <td>...</td>\n",
       "      <td>...</td>\n",
       "      <td>...</td>\n",
       "      <td>...</td>\n",
       "      <td>...</td>\n",
       "      <td>...</td>\n",
       "      <td>...</td>\n",
       "      <td>...</td>\n",
       "      <td>...</td>\n",
       "    </tr>\n",
       "    <tr>\n",
       "      <th>48837</th>\n",
       "      <td>27</td>\n",
       "      <td>257302</td>\n",
       "      <td>12</td>\n",
       "      <td>0</td>\n",
       "      <td>0</td>\n",
       "      <td>38</td>\n",
       "      <td>0</td>\n",
       "      <td>0</td>\n",
       "      <td>0</td>\n",
       "      <td>1</td>\n",
       "      <td>...</td>\n",
       "      <td>0</td>\n",
       "      <td>0</td>\n",
       "      <td>0</td>\n",
       "      <td>1</td>\n",
       "      <td>0</td>\n",
       "      <td>0</td>\n",
       "      <td>0</td>\n",
       "      <td>0</td>\n",
       "      <td>0</td>\n",
       "      <td>0</td>\n",
       "    </tr>\n",
       "    <tr>\n",
       "      <th>48838</th>\n",
       "      <td>40</td>\n",
       "      <td>154374</td>\n",
       "      <td>9</td>\n",
       "      <td>0</td>\n",
       "      <td>0</td>\n",
       "      <td>40</td>\n",
       "      <td>1</td>\n",
       "      <td>0</td>\n",
       "      <td>0</td>\n",
       "      <td>0</td>\n",
       "      <td>...</td>\n",
       "      <td>1</td>\n",
       "      <td>0</td>\n",
       "      <td>0</td>\n",
       "      <td>1</td>\n",
       "      <td>0</td>\n",
       "      <td>0</td>\n",
       "      <td>0</td>\n",
       "      <td>0</td>\n",
       "      <td>0</td>\n",
       "      <td>0</td>\n",
       "    </tr>\n",
       "    <tr>\n",
       "      <th>48839</th>\n",
       "      <td>58</td>\n",
       "      <td>151910</td>\n",
       "      <td>9</td>\n",
       "      <td>0</td>\n",
       "      <td>0</td>\n",
       "      <td>40</td>\n",
       "      <td>0</td>\n",
       "      <td>0</td>\n",
       "      <td>0</td>\n",
       "      <td>1</td>\n",
       "      <td>...</td>\n",
       "      <td>1</td>\n",
       "      <td>0</td>\n",
       "      <td>0</td>\n",
       "      <td>0</td>\n",
       "      <td>0</td>\n",
       "      <td>0</td>\n",
       "      <td>1</td>\n",
       "      <td>0</td>\n",
       "      <td>0</td>\n",
       "      <td>0</td>\n",
       "    </tr>\n",
       "    <tr>\n",
       "      <th>48840</th>\n",
       "      <td>22</td>\n",
       "      <td>201490</td>\n",
       "      <td>9</td>\n",
       "      <td>0</td>\n",
       "      <td>0</td>\n",
       "      <td>20</td>\n",
       "      <td>0</td>\n",
       "      <td>0</td>\n",
       "      <td>0</td>\n",
       "      <td>0</td>\n",
       "      <td>...</td>\n",
       "      <td>1</td>\n",
       "      <td>0</td>\n",
       "      <td>0</td>\n",
       "      <td>0</td>\n",
       "      <td>1</td>\n",
       "      <td>0</td>\n",
       "      <td>0</td>\n",
       "      <td>0</td>\n",
       "      <td>0</td>\n",
       "      <td>0</td>\n",
       "    </tr>\n",
       "    <tr>\n",
       "      <th>48841</th>\n",
       "      <td>52</td>\n",
       "      <td>287927</td>\n",
       "      <td>9</td>\n",
       "      <td>15024</td>\n",
       "      <td>0</td>\n",
       "      <td>40</td>\n",
       "      <td>1</td>\n",
       "      <td>0</td>\n",
       "      <td>0</td>\n",
       "      <td>1</td>\n",
       "      <td>...</td>\n",
       "      <td>1</td>\n",
       "      <td>0</td>\n",
       "      <td>0</td>\n",
       "      <td>1</td>\n",
       "      <td>0</td>\n",
       "      <td>0</td>\n",
       "      <td>0</td>\n",
       "      <td>0</td>\n",
       "      <td>0</td>\n",
       "      <td>0</td>\n",
       "    </tr>\n",
       "  </tbody>\n",
       "</table>\n",
       "<p>45039 rows × 27 columns</p>\n",
       "</div>"
      ],
      "text/plain": [
       "       age  fnlwgt  educational_num  capital_gain  capital_loss  \\\n",
       "0       25  226802                7             0             0   \n",
       "1       38   89814                9             0             0   \n",
       "2       28  336951               12             0             0   \n",
       "3       44  160323               10          7688             0   \n",
       "5       34  198693                6             0             0   \n",
       "...    ...     ...              ...           ...           ...   \n",
       "48837   27  257302               12             0             0   \n",
       "48838   40  154374                9             0             0   \n",
       "48839   58  151910                9             0             0   \n",
       "48840   22  201490                9             0             0   \n",
       "48841   52  287927                9         15024             0   \n",
       "\n",
       "       hours_per_week  income  Not_in_family  Not_white  Female  ...  \\\n",
       "0                  40       0              0          1       0  ...   \n",
       "1                  50       0              0          0       0  ...   \n",
       "2                  40       1              0          0       0  ...   \n",
       "3                  40       1              0          1       0  ...   \n",
       "5                  30       0              1          0       0  ...   \n",
       "...               ...     ...            ...        ...     ...  ...   \n",
       "48837              38       0              0          0       1  ...   \n",
       "48838              40       1              0          0       0  ...   \n",
       "48839              40       0              0          0       1  ...   \n",
       "48840              20       0              0          0       0  ...   \n",
       "48841              40       1              0          0       1  ...   \n",
       "\n",
       "       high_school  preschool  university  married  never_married  separated  \\\n",
       "0                1          0           0        0              1          0   \n",
       "1                1          0           0        1              0          0   \n",
       "2                0          0           0        1              0          0   \n",
       "3                0          0           0        1              0          0   \n",
       "5                1          0           0        0              1          0   \n",
       "...            ...        ...         ...      ...            ...        ...   \n",
       "48837            0          0           0        1              0          0   \n",
       "48838            1          0           0        1              0          0   \n",
       "48839            1          0           0        0              0          0   \n",
       "48840            1          0           0        0              1          0   \n",
       "48841            1          0           0        1              0          0   \n",
       "\n",
       "       widowed  asia  caribe  europa  \n",
       "0            0     0       0       0  \n",
       "1            0     0       0       0  \n",
       "2            0     0       0       0  \n",
       "3            0     0       0       0  \n",
       "5            0     0       0       0  \n",
       "...        ...   ...     ...     ...  \n",
       "48837        0     0       0       0  \n",
       "48838        0     0       0       0  \n",
       "48839        1     0       0       0  \n",
       "48840        0     0       0       0  \n",
       "48841        0     0       0       0  \n",
       "\n",
       "[45039 rows x 27 columns]"
      ]
     },
     "execution_count": 152,
     "metadata": {},
     "output_type": "execute_result"
    }
   ],
   "source": [
    "df2"
   ]
  },
  {
   "cell_type": "code",
   "execution_count": 153,
   "id": "efb54377",
   "metadata": {},
   "outputs": [],
   "source": [
    "y=df2['income']"
   ]
  },
  {
   "cell_type": "code",
   "execution_count": 154,
   "id": "19de6734",
   "metadata": {},
   "outputs": [],
   "source": [
    "X=df2.drop(columns=['income','Not_in_family','fnlwgt','capital_loss', 'others', 'unemployed', 'never_married','private','elementary_school','high_school','preschool','university','separated','widowed','asia','caribe','europa'])"
   ]
  },
  {
   "cell_type": "code",
   "execution_count": 155,
   "id": "d61d908b",
   "metadata": {},
   "outputs": [],
   "source": [
    "X_train, X_test, y_train, y_test = train_test_split(X, y, test_size=0.33, random_state=1511)"
   ]
  },
  {
   "cell_type": "code",
   "execution_count": 156,
   "id": "d157664b",
   "metadata": {},
   "outputs": [],
   "source": [
    "# estandarizamos la matriz de entrenamiento\n",
    "X_train_std = StandardScaler().fit_transform(X_train)\n",
    "\n",
    "# estandarizamos la matriz de pruebas ( se usa para generar la prediccion de las clases)\n",
    "X_test_std = StandardScaler().fit_transform(X_test)\n"
   ]
  },
  {
   "cell_type": "code",
   "execution_count": 157,
   "id": "9a9bf59b",
   "metadata": {},
   "outputs": [],
   "source": [
    "default_model = LogisticRegression(random_state=1511).fit(X_train_std, y_train)"
   ]
  },
  {
   "cell_type": "code",
   "execution_count": 158,
   "id": "35aa984e",
   "metadata": {},
   "outputs": [
    {
     "data": {
      "text/plain": [
       "array([[ 0.38887808,  0.76986169,  2.19443735,  0.38386814, -0.09920096,\n",
       "        -0.14635906,  0.37518023, -0.12790311, -0.04648494,  1.22548868]])"
      ]
     },
     "execution_count": 158,
     "metadata": {},
     "output_type": "execute_result"
    }
   ],
   "source": [
    "default_model.coef_"
   ]
  },
  {
   "cell_type": "code",
   "execution_count": 159,
   "id": "044f7510",
   "metadata": {},
   "outputs": [
    {
     "data": {
      "text/plain": [
       "LogisticRegression(random_state=1511)"
      ]
     },
     "execution_count": 159,
     "metadata": {},
     "output_type": "execute_result"
    }
   ],
   "source": [
    "default_model"
   ]
  },
  {
   "cell_type": "code",
   "execution_count": 160,
   "id": "40dbfe5a",
   "metadata": {},
   "outputs": [],
   "source": [
    "#predicción de las clases\n",
    "yhat = default_model.predict(X_test_std)"
   ]
  },
  {
   "cell_type": "code",
   "execution_count": 161,
   "id": "fadc5184",
   "metadata": {},
   "outputs": [],
   "source": [
    "#predicción de probabilidad.\n",
    "yhat_prob = default_model.predict_proba(X_test_std)"
   ]
  },
  {
   "cell_type": "code",
   "execution_count": 162,
   "id": "316524ca",
   "metadata": {},
   "outputs": [
    {
     "data": {
      "text/plain": [
       "0.84"
      ]
     },
     "execution_count": 162,
     "metadata": {},
     "output_type": "execute_result"
    }
   ],
   "source": [
    "#exactitud de nuestro modelo\n",
    "m1_acc = accuracy_score(y_test, yhat)\n",
    "round(m1_acc,2)\n"
   ]
  },
  {
   "cell_type": "code",
   "execution_count": 163,
   "id": "46bbdcd7",
   "metadata": {},
   "outputs": [],
   "source": [
    "#La exactitud informa que el modelo tiene un desempeño de un 0.34% superior que una predicción azarosa."
   ]
  },
  {
   "cell_type": "code",
   "execution_count": 164,
   "id": "1aaab8c1",
   "metadata": {},
   "outputs": [],
   "source": [
    "#Reporte las métricas de precisión, recall y f1 para ambas clases."
   ]
  },
  {
   "cell_type": "code",
   "execution_count": 165,
   "id": "1976aa27",
   "metadata": {},
   "outputs": [
    {
     "name": "stdout",
     "output_type": "stream",
     "text": [
      "              precision    recall  f1-score   support\n",
      "\n",
      "           0       0.87      0.93      0.90     11168\n",
      "           1       0.72      0.58      0.64      3695\n",
      "\n",
      "    accuracy                           0.84     14863\n",
      "   macro avg       0.79      0.75      0.77     14863\n",
      "weighted avg       0.83      0.84      0.83     14863\n",
      "\n"
     ]
    }
   ],
   "source": [
    "print(classification_report(y_test, yhat))"
   ]
  },
  {
   "cell_type": "code",
   "execution_count": 166,
   "id": "bb07f774",
   "metadata": {},
   "outputs": [],
   "source": [
    "#Se observa que F1 tiene una media armónica para la clase 1 de 0.64 y para la clase 0 de 0.90"
   ]
  },
  {
   "cell_type": "code",
   "execution_count": 167,
   "id": "040120d4",
   "metadata": {},
   "outputs": [
    {
     "data": {
      "image/png": "[encoded data removed]",
      "text/plain": [
       "<Figure size 576x396 with 1 Axes>"
      ]
     },
     "metadata": {},
     "output_type": "display_data"
    }
   ],
   "source": [
    "# reestimamos los valores predichos de nuestro modelo para obtener la probabilidad entre 0 y 1.\n",
    "yhat2 = default_model.predict_proba(X_test_std)[:, 1]\n",
    "\n",
    "# generamos los objetos de roc_cruve\n",
    "false_positive, true_positive, threshold = roc_curve(y_test, yhat2)\n",
    "# Plot ROC curve\n",
    "plt.title('Curva ROC')\n",
    "plt.plot(false_positive, true_positive, lw=1)\n",
    "plt.plot([0, 1], ls=\"--\", lw=1)\n",
    "plt.plot([0, 0], [1, 0] , c='limegreen', lw=3), plt.plot([1, 1] ,\n",
    "c='limegreen', lw=3)\n",
    "plt.ylabel('Verdaderos Positivos')\n",
    "plt.xlabel('Falsos Positivos');"
   ]
  },
  {
   "cell_type": "code",
   "execution_count": 86,
   "id": "f4b04354",
   "metadata": {},
   "outputs": [
    {
     "data": {
      "text/plain": [
       "0.89"
      ]
     },
     "execution_count": 86,
     "metadata": {},
     "output_type": "execute_result"
    }
   ],
   "source": [
    "#área bajo la curva\n",
    "round(roc_auc_score(y_test, yhat2),2)"
   ]
  },
  {
   "cell_type": "code",
   "execution_count": 93,
   "id": "11f78ef5",
   "metadata": {},
   "outputs": [],
   "source": [
    "#Se observa que la curva ROC tiene una capacidad predictiva adecuada, ya que se posiciona por sobre la\n",
    "#bisectriz, lo que significa que la tasa de verdaderos positivos es mayor que la tasa de falsos\n",
    "#positivos. Además tiende a acercarse a la esquina superior izquierda del gráfico.\n",
    "\n",
    "#EL área bajo la curva tiene un valor de .89, esto significa que el modelo tiene un desempeño de 39% superior a un mecanismo\n",
    "#de clasificación aleatoria.\n",
    "\n",
    "#El modelo es adecuado"
   ]
  },
  {
   "cell_type": "code",
   "execution_count": null,
   "id": "937feac2",
   "metadata": {},
   "outputs": [],
   "source": []
  }
 ],
 "metadata": {
  "kernelspec": {
   "display_name": "Python 3 (ipykernel)",
   "language": "python",
   "name": "python3"
  },
  "language_info": {
   "codemirror_mode": {
    "name": "ipython",
    "version": 3
   },
   "file_extension": ".py",
   "mimetype": "text/x-python",
   "name": "python",
   "nbconvert_exporter": "python",
   "pygments_lexer": "ipython3",
   "version": "3.9.7"
  }
 },
 "nbformat": 4,
 "nbformat_minor": 5
}
